{
  "cells": [
    {
      "cell_type": "markdown",
      "metadata": {},
      "source": [
        "Conflicting Labels {#nlp__conflicting_labels}\n==================\n\nThis notebook provides an overview for using and understanding the\nConflicting Labels check:\n\n**Structure:**\n\n-   [Why check for conflicting\n    labels?](#why-check-for-conflicting-labels)\n-   [Create TextData](#create-textdata)\n-   [Run the Check](#run-the-check)\n-   [Define a Condition](#define-a-condition)\n\nWhy check for conflicting labels?\n---------------------------------\n\nThe `ConflictingLabels` check finds identical or nearly identical (see\n[text normalization](#with-text-normalization)) samples in the dataset\nthat have different labels. Conflicting labels can lead to\ninconsistencies and confusion for the model during training. Identifying\nsuch samples can help in cleaning the data and improving the model\\'s\nperformance.\n\nCreate TextData\n---------------\n\nLets create a simple dataset with some samples having conflicting\nlabels.\n"
      ]
    },
    {
      "cell_type": "code",
      "execution_count": null,
      "metadata": {
        "collapsed": false
      },
      "outputs": [],
      "source": [
        "from deepchecks.nlp import TextData\nfrom deepchecks.nlp.checks import ConflictingLabels\n\ntexts = [\n    \"Deep learning is a subset of machine learning.\",\n    \"Deep learning is a subset of machine learning.\",\n    \"Deep learning is a sub-set of Machine Learning.\",\n    \"Deep learning is subset of machine learning\",\n    \"Natural language processing is a subfield of AI.\",\n    \"This is a unique text sample.\",\n    \"This is another unique text.\",\n]\n\nlabels = [0, 1, 1, 0, 2, 2, 2]\n\ndataset = TextData(texts, label=labels, task_type='text_classification')"
      ]
    },
    {
      "cell_type": "markdown",
      "metadata": {},
      "source": [
        "Run the Check\n=============\n"
      ]
    },
    {
      "cell_type": "code",
      "execution_count": null,
      "metadata": {
        "collapsed": false
      },
      "outputs": [],
      "source": [
        "# Run the check without any text normalization\nConflictingLabels(\n    ignore_case=False,\n    remove_punctuation=False,\n    normalize_unicode=False,\n    remove_stopwords=False,\n    ignore_whitespace=False\n).run(dataset)"
      ]
    },
    {
      "cell_type": "markdown",
      "metadata": {},
      "source": [
        "With Text Normalization\n=======================\n\nBy default, `ConflictingLabels` check applies text normalization before\nidentifying the conflicting labels. This includes case normalization,\npunctuation removal, Unicode normalization and stopwords removal. You\ncan also customize the normalization as per your requirements:\n"
      ]
    },
    {
      "cell_type": "code",
      "execution_count": null,
      "metadata": {
        "collapsed": false
      },
      "outputs": [],
      "source": [
        "ConflictingLabels(\n    ignore_case=True,\n    remove_punctuation=True,\n    normalize_unicode=True,\n    remove_stopwords=True,\n    ignore_whitespace=True\n).run(dataset)"
      ]
    },
    {
      "cell_type": "markdown",
      "metadata": {},
      "source": [
        "Of all the parameters in this example, `ignore_whitespace` is the only\none set to `False` by default.\n\nDefine a Condition\n==================\n\nNow, we define a condition that enforces the ratio of samples with\nconflicting labels to be 0. A condition is deepchecks\\' way to validate\nmodel and data quality, and let you know if anything goes wrong.\n"
      ]
    },
    {
      "cell_type": "code",
      "execution_count": null,
      "metadata": {
        "collapsed": false
      },
      "outputs": [],
      "source": [
        "check = ConflictingLabels()\ncheck.add_condition_ratio_of_conflicting_labels_less_or_equal(0)\nresult = check.run(dataset)\nresult.show(show_additional_outputs=False)"
      ]
    }
  ],
  "metadata": {
    "kernelspec": {
      "display_name": "Python 3",
      "language": "python",
      "name": "python3"
    },
    "language_info": {
      "codemirror_mode": {
        "name": "ipython",
        "version": 3
      },
      "file_extension": ".py",
      "mimetype": "text/x-python",
      "name": "python",
      "nbconvert_exporter": "python",
      "pygments_lexer": "ipython3",
      "version": "3.9.17"
    }
  },
  "nbformat": 4,
  "nbformat_minor": 0
}