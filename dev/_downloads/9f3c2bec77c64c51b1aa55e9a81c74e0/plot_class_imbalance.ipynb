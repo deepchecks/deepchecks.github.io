{
  "cells": [
    {
      "cell_type": "code",
      "execution_count": null,
      "metadata": {
        "collapsed": false
      },
      "outputs": [],
      "source": [
        "%matplotlib inline"
      ]
    },
    {
      "cell_type": "markdown",
      "metadata": {},
      "source": [
        "Class Imbalance {#plot_tabular_class_imbalance}\n===============\n\nThis notebook provides an overview for using and understanding the Class\nImbalance check.\n\n**Structure:**\n\n-   [What is the Class Imbalance\n    check](#what-is-the-class-imbalance-check)\n-   [Generate data](#generate-datal)\n-   [Run the check](#run-the-check)\n-   [Define a condition](#define-a-condition)\n"
      ]
    },
    {
      "cell_type": "markdown",
      "metadata": {},
      "source": [
        "What is the Class Imbalance check\n=================================\n\nThe `ClassImbalance` check produces a distribution of the target\nvariable. An indication for an imbalanced dataset is a biased class\ndistribution across one or multiple labels.\n"
      ]
    },
    {
      "cell_type": "code",
      "execution_count": null,
      "metadata": {
        "collapsed": false
      },
      "outputs": [],
      "source": [
        "# An imbalanced dataset posses its own challenges, namely learning the characteristics of\n# the minority label, scarce minority instances for both train and test and defining the\n# right evaluation metric.\n\n# Albeit, there are many techniques to address with these challenges, including artificially increasing\n# the minority sample size with SMOTE (over-sampling), drop instances from the majority class (under-sampling),\n# use regularization and adjust the label weight."
      ]
    },
    {
      "cell_type": "markdown",
      "metadata": {},
      "source": [
        "Imports\n=======\n"
      ]
    },
    {
      "cell_type": "code",
      "execution_count": null,
      "metadata": {
        "collapsed": false
      },
      "outputs": [],
      "source": [
        "from deepchecks.tabular import Dataset\nfrom deepchecks.tabular.checks import ClassImbalance\nfrom deepchecks.tabular.datasets.classification import lending_club"
      ]
    },
    {
      "cell_type": "markdown",
      "metadata": {},
      "source": [
        "Generate data\n=============\n"
      ]
    },
    {
      "cell_type": "code",
      "execution_count": null,
      "metadata": {
        "collapsed": false
      },
      "outputs": [],
      "source": [
        "df = lending_club.load_data(data_format='Dataframe', as_train_test=False)\ndataset = Dataset(df, label='loan_status', features=['id', 'loan_amnt'], cat_features=[])"
      ]
    },
    {
      "cell_type": "markdown",
      "metadata": {},
      "source": [
        "Run the check\n=============\n"
      ]
    },
    {
      "cell_type": "code",
      "execution_count": null,
      "metadata": {
        "collapsed": false
      },
      "outputs": [],
      "source": [
        "ClassImbalance().run(dataset)"
      ]
    },
    {
      "cell_type": "markdown",
      "metadata": {},
      "source": [
        "Skew the target variable and run the check\n==========================================\n"
      ]
    },
    {
      "cell_type": "code",
      "execution_count": null,
      "metadata": {
        "collapsed": false
      },
      "outputs": [],
      "source": [
        "df.loc[df.sample(frac=0.7, random_state=0).index, 'loan_status'] = 1\ndataset = Dataset(df, label='loan_status', features=['id', 'loan_amnt'], cat_features=[])\nClassImbalance().run(dataset)"
      ]
    },
    {
      "cell_type": "markdown",
      "metadata": {},
      "source": [
        "Define a condition\n==================\n\nA manually defined ratio between the labels can also be set:\n"
      ]
    },
    {
      "cell_type": "code",
      "execution_count": null,
      "metadata": {
        "collapsed": false
      },
      "outputs": [],
      "source": [
        "ClassImbalance().add_condition_class_ratio_less_than(0.15).run(dataset)"
      ]
    }
  ],
  "metadata": {
    "kernelspec": {
      "display_name": "Python 3",
      "language": "python",
      "name": "python3"
    },
    "language_info": {
      "codemirror_mode": {
        "name": "ipython",
        "version": 3
      },
      "file_extension": ".py",
      "mimetype": "text/x-python",
      "name": "python",
      "nbconvert_exporter": "python",
      "pygments_lexer": "ipython3",
      "version": "3.9.13"
    }
  },
  "nbformat": 4,
  "nbformat_minor": 0
}