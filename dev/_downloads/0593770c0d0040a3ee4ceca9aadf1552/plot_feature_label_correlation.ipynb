{
  "cells": [
    {
      "cell_type": "markdown",
      "metadata": {},
      "source": [
        "Feature Label Correlation {#tabular__feature_label_correlation}\n=========================\n\nThis notebook provides an overview for using and understanding the\nFeature Label Correlation check.\n\n**Structure:**\n\n-   [What is Feature Label\n    Correlation](#what-is-feature-label-correlation)\n-   [Generate data](#generate-data)\n-   [Run the check](#run-the-check)\n\nWhat is Feature Label Correlation\n---------------------------------\n\nThe `FeatureLabelCorrelation` check computes the correlation between\neach feature and the label, potentially spotting features highly\ncorrelated with the label.\n\nThis check works with 2 types of columns: categorical and numerical, and\nuses a different method to calculate the correlation for each feature\nlabel pair:\n\n1.  numerical-numerical: [Pearson\\'s correlation\n    coefficient](https://en.wikipedia.org/wiki/Pearson_correlation_coefficient)\n2.  numerical-categorical: [Correlation\n    ratio](https://en.wikipedia.org/wiki/Correlation_ratio)\n3.  categorical-categorical: [Symmetric Theil\\'s\n    U](https://en.wikipedia.org/wiki/Uncertainty_coefficient)\n"
      ]
    },
    {
      "cell_type": "markdown",
      "metadata": {},
      "source": [
        "Imports\n=======\n"
      ]
    },
    {
      "cell_type": "code",
      "execution_count": null,
      "metadata": {
        "collapsed": false
      },
      "outputs": [],
      "source": [
        "import numpy as np\nimport pandas as pd\n\nfrom deepchecks.tabular import Dataset\nfrom deepchecks.tabular.checks import FeatureLabelCorrelation"
      ]
    },
    {
      "cell_type": "markdown",
      "metadata": {},
      "source": [
        "Generate Data\n=============\n"
      ]
    },
    {
      "cell_type": "code",
      "execution_count": null,
      "metadata": {
        "collapsed": false
      },
      "outputs": [],
      "source": [
        "df = pd.DataFrame(np.random.randn(100, 3), columns=['x1', 'x2', 'x3'])\ndf['x4'] = df['x1'] * 0.5 + df['x2']\ndf['label'] = df['x2'] + 0.1 * df['x1']\ndf['x5'] = df['label'].apply(lambda x: 'v1' if x < 0 else 'v2')"
      ]
    },
    {
      "cell_type": "code",
      "execution_count": null,
      "metadata": {
        "collapsed": false
      },
      "outputs": [],
      "source": [
        "ds = Dataset(df, label='label', cat_features=[])"
      ]
    },
    {
      "cell_type": "markdown",
      "metadata": {},
      "source": [
        "Run the check\n=============\n"
      ]
    },
    {
      "cell_type": "code",
      "execution_count": null,
      "metadata": {
        "collapsed": false
      },
      "outputs": [],
      "source": [
        "my_check = FeatureLabelCorrelation(ppscore_params={'sample': 10})\nmy_check.run(dataset=ds)"
      ]
    }
  ],
  "metadata": {
    "kernelspec": {
      "display_name": "Python 3",
      "language": "python",
      "name": "python3"
    },
    "language_info": {
      "codemirror_mode": {
        "name": "ipython",
        "version": 3
      },
      "file_extension": ".py",
      "mimetype": "text/x-python",
      "name": "python",
      "nbconvert_exporter": "python",
      "pygments_lexer": "ipython3",
      "version": "3.9.16"
    }
  },
  "nbformat": 4,
  "nbformat_minor": 0
}