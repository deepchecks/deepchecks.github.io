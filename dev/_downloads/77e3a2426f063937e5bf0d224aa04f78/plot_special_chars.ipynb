{
  "cells": [
    {
      "cell_type": "markdown",
      "metadata": {},
      "source": [
        "Special Characters {#tabular__special_chars}\n==================\n\nThis notebook provides an overview for using and understanding the\nSpecial Characters check.\n\n**Structure:**\n\n-   [What is the Special Characters check](#what-is-special-characters)\n-   [Generate data](#generate-data)\n-   [Run the check](#run-the-check)\n"
      ]
    },
    {
      "cell_type": "markdown",
      "metadata": {},
      "source": [
        "What is the Special Characters check\n====================================\n\nThe `SpecialCharacters` check search in column\\[s\\] for values that\ncontains only special characters.\n"
      ]
    },
    {
      "cell_type": "code",
      "execution_count": null,
      "metadata": {
        "collapsed": false
      },
      "outputs": [],
      "source": [
        "import pandas as pd\n\nfrom deepchecks.tabular.checks import SpecialCharacters"
      ]
    },
    {
      "cell_type": "markdown",
      "metadata": {},
      "source": [
        "Generate Data\n=============\n"
      ]
    },
    {
      "cell_type": "code",
      "execution_count": null,
      "metadata": {
        "collapsed": false
      },
      "outputs": [],
      "source": [
        "data = {'col1': [' ', '!', '\"', '#', '$', '%', '&', '\\'','(', ')',\n                 '*', '+', ',', '-', '.', '/', ':', ';', '<', '=', \n                 '>', '?', '@', '[', ']', '\\\\', '^', '_', '`', '{',\n                 '}', '|', '~', '\\n'],\n        'col2':['v', 'v', 'v', 'v4', 'v5', 'v6', 'v7', 'v8','v9','v10', \n                 '*', '+', ',', '-', '.', '/', ':', ';', '<', '=', \n                 '>', '?', '@', '[', ']', '\\\\', '^', '_', '`', '{',\n                 '}', '|', '~', '\\n'],\n        'col3': [1,1,1,1,1,1,1,1,1,1,1,1,1,1,1,1,1,1,1,1,11,1,'???#',1,1,1,1,1,1,1,1,1,1,1],\n        'col4': [1,1,1,1,1,1,1,1,1,1,1,1,1,1,1,1,1,1,1,1,11,1,1,1,1,1,1,1,1,1,1,1,1,1],\n        'col5': ['valid1','valid2','valid3','valid4','valid5','valid6','valid7',\n                 'valid8','valid9','valid10','valid11','valid12',\n                'valid13','valid14','inval!d15','valid16','valid17','valid18',\n                 'valid19','valid20','valid21','valid22','valid23','valid24','valid25',\n                'valid26', 'valid27','valid28','valid29','valid30','valid31','32','33','34']}\n\ndataframe = pd.DataFrame(data=data)"
      ]
    },
    {
      "cell_type": "markdown",
      "metadata": {},
      "source": [
        "Run the check\n=============\n"
      ]
    },
    {
      "cell_type": "code",
      "execution_count": null,
      "metadata": {
        "collapsed": false
      },
      "outputs": [],
      "source": [
        "SpecialCharacters().run(dataframe)"
      ]
    }
  ],
  "metadata": {
    "kernelspec": {
      "display_name": "Python 3",
      "language": "python",
      "name": "python3"
    },
    "language_info": {
      "codemirror_mode": {
        "name": "ipython",
        "version": 3
      },
      "file_extension": ".py",
      "mimetype": "text/x-python",
      "name": "python",
      "nbconvert_exporter": "python",
      "pygments_lexer": "ipython3",
      "version": "3.9.16"
    }
  },
  "nbformat": 4,
  "nbformat_minor": 0
}