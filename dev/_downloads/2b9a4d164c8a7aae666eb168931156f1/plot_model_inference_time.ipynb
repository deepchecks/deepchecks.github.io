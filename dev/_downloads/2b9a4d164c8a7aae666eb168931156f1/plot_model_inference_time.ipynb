{
  "cells": [
    {
      "cell_type": "markdown",
      "metadata": {},
      "source": [
        "Model Inference Time {#tabular__model_inference_time}\n====================\n\nThis notebook provides an overview for using and understanding the Model\nInference Time check.\n\n**Structure:**\n\n-   [What is the Model Inference Time\n    check?](#what-is-the-model-inference-time-check)\n-   [Generate data & model](#generate-data-model)\n-   [Run the check](#run-the-check)\n-   [Define a condition](#define-a-condition)\n\nWhat is the Model Inference Time check?\n---------------------------------------\n\nThe `ModelInferenceTime` check measures the model\\'s average inference\ntime (in seconds) per sample. Inference time is an important metric for\nprediction models, especially in real-time applications and data\nstreaming processes, where a fast runtime can affect the user\\'s\nexperience or the overall system load.\n"
      ]
    },
    {
      "cell_type": "markdown",
      "metadata": {},
      "source": [
        "Imports\n=======\n"
      ]
    },
    {
      "cell_type": "code",
      "execution_count": null,
      "metadata": {
        "collapsed": false
      },
      "outputs": [],
      "source": [
        "from sklearn.datasets import load_iris\nfrom sklearn.ensemble import AdaBoostClassifier\nfrom sklearn.model_selection import train_test_split\n\nfrom deepchecks.tabular import Dataset\nfrom deepchecks.tabular.checks import ModelInferenceTime"
      ]
    },
    {
      "cell_type": "markdown",
      "metadata": {},
      "source": [
        "Generate data & model\n=====================\n"
      ]
    },
    {
      "cell_type": "code",
      "execution_count": null,
      "metadata": {
        "collapsed": false
      },
      "outputs": [],
      "source": [
        "iris = load_iris(as_frame=True)\ntrain, test = train_test_split(iris.frame, test_size=0.33, random_state=42)\n\ntrain_ds = Dataset(train, features=iris.feature_names, label='target')\ntest_ds = Dataset(test, features=iris.feature_names, label='target')\n\nclf = AdaBoostClassifier().fit(train_ds.data[train_ds.features], train_ds.data[train_ds.label_name])"
      ]
    },
    {
      "cell_type": "markdown",
      "metadata": {},
      "source": [
        "Run the check\n=============\n"
      ]
    },
    {
      "cell_type": "code",
      "execution_count": null,
      "metadata": {
        "collapsed": false
      },
      "outputs": [],
      "source": [
        "check = ModelInferenceTime()\ncheck.run(test_ds, clf)"
      ]
    },
    {
      "cell_type": "markdown",
      "metadata": {},
      "source": [
        "Define a condition\n==================\n\nA condition for the average inference time per sample can be defined.\nHere, we define the threshold to be 0.00001 seconds.\n"
      ]
    },
    {
      "cell_type": "code",
      "execution_count": null,
      "metadata": {
        "collapsed": false
      },
      "outputs": [],
      "source": [
        "check = ModelInferenceTime().add_condition_inference_time_less_than(value=0.00001)\ncheck.run(test_ds, clf)"
      ]
    }
  ],
  "metadata": {
    "kernelspec": {
      "display_name": "Python 3",
      "language": "python",
      "name": "python3"
    },
    "language_info": {
      "codemirror_mode": {
        "name": "ipython",
        "version": 3
      },
      "file_extension": ".py",
      "mimetype": "text/x-python",
      "name": "python",
      "nbconvert_exporter": "python",
      "pygments_lexer": "ipython3",
      "version": "3.9.17"
    }
  },
  "nbformat": 4,
  "nbformat_minor": 0
}