{
  "cells": [
    {
      "cell_type": "code",
      "execution_count": null,
      "metadata": {
        "collapsed": false
      },
      "outputs": [],
      "source": [
        "%matplotlib inline"
      ]
    },
    {
      "cell_type": "markdown",
      "metadata": {},
      "source": [
        "Single Dataset Performance {#plot_vision_single_dataset_performance}\n==========================\n\nThis notebooks provides an overview for using and understanding single\ndataset performance check.\n\n**Structure:**\n\n-   [What Is the Purpose of the\n    Check?](#what-is-the-purpose-of-the-check)\n-   [Generate data an model](#generate-data-and-model)\n-   [Run the check](#run-the-check)\n-   [Define a condition](#define-a-condition)\n\nWhat Is the Purpose of the Check?\n---------------------------------\n\nThis check returns the results from a dict of metrics, in the format\nmetric name: scorer, calculated for the given model dataset. The scorer\ncan be an ignite.Metric or Sklearn scorer. Use this check to evaluate\nthe performance on a single vision dataset such as a test set.\n"
      ]
    },
    {
      "cell_type": "markdown",
      "metadata": {},
      "source": [
        "Generate data and model\n=======================\n"
      ]
    },
    {
      "cell_type": "code",
      "execution_count": null,
      "metadata": {
        "collapsed": false
      },
      "outputs": [],
      "source": [
        "from deepchecks.vision.checks import SingleDatasetPerformance\nfrom deepchecks.vision.datasets.classification import mnist"
      ]
    },
    {
      "cell_type": "code",
      "execution_count": null,
      "metadata": {
        "collapsed": false
      },
      "outputs": [],
      "source": [
        "mnist_model = mnist.load_model()\ntrain_ds = mnist.load_dataset(train=True, object_type='VisionData')"
      ]
    },
    {
      "cell_type": "markdown",
      "metadata": {},
      "source": [
        "Run the check\n=============\n\nWe will run the check with the model defined above.\n\nThe check will use the default classification metrics -\n[Precision](https://pytorch.org/ignite/generated/ignite.metrics.precision.Precision.html#ignite.metrics.precision.Precision).\nand\n[Recall](https://pytorch.org/ignite/generated/ignite.metrics.recall.Recall.html#ignite.metrics.recall.Recall).\n"
      ]
    },
    {
      "cell_type": "code",
      "execution_count": null,
      "metadata": {
        "collapsed": false
      },
      "outputs": [],
      "source": [
        "check = SingleDatasetPerformance()\nresult = check.run(train_ds, mnist_model)\nresult"
      ]
    },
    {
      "cell_type": "markdown",
      "metadata": {},
      "source": [
        "If you have a GPU, you can speed up this check by passing it as an\nargument to .run() as device=\\<your GPU\\>\n\nTo display the results in an IDE like PyCharm, you can use the following\ncode:\n"
      ]
    },
    {
      "cell_type": "code",
      "execution_count": null,
      "metadata": {
        "collapsed": false
      },
      "outputs": [],
      "source": [
        "#  result.show_in_window()"
      ]
    },
    {
      "cell_type": "markdown",
      "metadata": {},
      "source": [
        "The result will be displayed in a new window.\n"
      ]
    },
    {
      "cell_type": "markdown",
      "metadata": {},
      "source": [
        "Now we will run a check with a metric different from the defaults- F-1.\n"
      ]
    },
    {
      "cell_type": "code",
      "execution_count": null,
      "metadata": {
        "collapsed": false
      },
      "outputs": [],
      "source": [
        "from ignite.metrics import Fbeta\n\ncheck = SingleDatasetPerformance(scorers={'f1': Fbeta(1)})\nresult = check.run(train_ds, mnist_model)\nresult"
      ]
    },
    {
      "cell_type": "markdown",
      "metadata": {},
      "source": [
        "Define a Condition\n==================\n\nWe can define a condition to validate that our model performance score\nis above or below a certain threshold. The condition is defined as a\nfunction that takes the results of the check as input and returns a\nConditionResult object.\n"
      ]
    },
    {
      "cell_type": "code",
      "execution_count": null,
      "metadata": {
        "collapsed": false
      },
      "outputs": [],
      "source": [
        "check = SingleDatasetPerformance()\ncheck.add_condition_greater_than(0.5)\nresult = check.run(train_ds, mnist_model)\nresult.show(show_additional_outputs=False)"
      ]
    },
    {
      "cell_type": "markdown",
      "metadata": {},
      "source": [
        "We can also define a condition on a specific metric (or a subset of the\nmetrics) that was passed to the check and a specific class, instead of\ntesting all the metrics and all the classes which is the default mode.\n"
      ]
    },
    {
      "cell_type": "code",
      "execution_count": null,
      "metadata": {
        "collapsed": false
      },
      "outputs": [],
      "source": [
        "check = SingleDatasetPerformance()\ncheck.add_condition_greater_than(0.8, metrics=['Precision'], class_mode='3')\nresult = check.run(train_ds, mnist_model)\nresult.show(show_additional_outputs=False)"
      ]
    }
  ],
  "metadata": {
    "kernelspec": {
      "display_name": "Python 3",
      "language": "python",
      "name": "python3"
    },
    "language_info": {
      "codemirror_mode": {
        "name": "ipython",
        "version": 3
      },
      "file_extension": ".py",
      "mimetype": "text/x-python",
      "name": "python",
      "nbconvert_exporter": "python",
      "pygments_lexer": "ipython3",
      "version": "3.9.16"
    }
  },
  "nbformat": 4,
  "nbformat_minor": 0
}