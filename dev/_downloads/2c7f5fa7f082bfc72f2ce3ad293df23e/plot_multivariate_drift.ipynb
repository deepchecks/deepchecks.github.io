{
  "cells": [
    {
      "cell_type": "code",
      "execution_count": null,
      "metadata": {
        "collapsed": false
      },
      "outputs": [],
      "source": [
        "%matplotlib inline"
      ]
    },
    {
      "cell_type": "markdown",
      "metadata": {},
      "source": [
        "Multivariate Drift {#plot_tabular_multivariate_drift}\n==================\n\nThis notebooks provides an overview for using and understanding the\nmultivariate drift check.\n\n**Structure:**\n\n-   [What Is Multivariate Drift?](#what-is-a-multivariate-drift)\n-   [Loading the Data](#loading-the-data)\n-   [Run the Check](#run-the-check)\n-   [Define a Condition](#define-a-condition)\n\nWhat Is Multivariate Drift?\n---------------------------\n\nDrift is simply a change in the distribution of data over time, and it\nis also one of the top reasons why machine learning model\\'s performance\ndegrades over time.\n\nA multivariate drift is a drift that occurs in more than one feature at\na time, and may even affect the relationships between those features,\nwhich are undetectable by univariate drift methods. The multivariate\ndrift check tries to detect multivariate drift between the two input\ndatasets.\n\nFor more information on drift, please visit our\n`drift guide </user-guide/general/drift_guide>`{.interpreted-text\nrole=\"doc\"}.\n\n### How Deepchecks Detects Dataset Drift\n\nThis check detects multivariate drift by using\n`a domain classifier <drift_detection_by_domain_classifier>`{.interpreted-text\nrole=\"ref\"}. Other methods to detect drift include\n`univariate measures <drift_detection_by_univariate_measure>`{.interpreted-text\nrole=\"ref\"} which is used in other checks, such as\n`Train Test Feature Drift check </checks_gallery/tabular/train_test_validation/plot_train_test_feature_drift>`{.interpreted-text\nrole=\"doc\"}.\n"
      ]
    },
    {
      "cell_type": "markdown",
      "metadata": {},
      "source": [
        "Loading the Data\n================\n\nThe dataset is the adult dataset which can be downloaded from the UCI\nmachine learning repository.\n\nDua, D. and Graff, C. (2019). UCI Machine Learning Repository\n\\[<http://archive.ics.uci.edu/ml>\\]. Irvine, CA: University of\nCalifornia, School of Information and Computer Science.\n"
      ]
    },
    {
      "cell_type": "code",
      "execution_count": null,
      "metadata": {
        "collapsed": false
      },
      "outputs": [],
      "source": [
        "from urllib.request import urlopen\n\nimport numpy as np\nimport pandas as pd\nfrom sklearn.preprocessing import LabelEncoder\n\nfrom deepchecks.tabular import Dataset\nfrom deepchecks.tabular.datasets.classification import adult"
      ]
    },
    {
      "cell_type": "markdown",
      "metadata": {},
      "source": [
        "Create Dataset\n==============\n"
      ]
    },
    {
      "cell_type": "code",
      "execution_count": null,
      "metadata": {
        "collapsed": false
      },
      "outputs": [],
      "source": [
        "label_name = 'income'\ntrain_ds, test_ds = adult.load_data()\nencoder = LabelEncoder()\ntrain_ds.data[label_name] = encoder.fit_transform(train_ds.data[label_name])\ntest_ds.data[label_name] = encoder.transform(test_ds.data[label_name])"
      ]
    },
    {
      "cell_type": "code",
      "execution_count": null,
      "metadata": {
        "collapsed": false
      },
      "outputs": [],
      "source": [
        "train_ds.label_name"
      ]
    },
    {
      "cell_type": "markdown",
      "metadata": {},
      "source": [
        "Run the Check\n=============\n"
      ]
    },
    {
      "cell_type": "code",
      "execution_count": null,
      "metadata": {
        "collapsed": false
      },
      "outputs": [],
      "source": [
        "from deepchecks.tabular.checks import MultivariateDrift\n\ncheck = MultivariateDrift()\ncheck.run(train_dataset=train_ds, test_dataset=test_ds)"
      ]
    },
    {
      "cell_type": "markdown",
      "metadata": {},
      "source": [
        "We can see that there is almost no drift found between the train and the\ntest set of the raw adult dataset. In addition to the drift score the\ncheck displays the top features that contibuted to the data drift.\n\nIntroduce drift to dataset\n==========================\n\nNow, let\\'s try to add a manual data drift to the data by sampling a\nbiased portion of the training data\n"
      ]
    },
    {
      "cell_type": "code",
      "execution_count": null,
      "metadata": {
        "collapsed": false
      },
      "outputs": [],
      "source": [
        "sample_size = 10000\nrandom_seed = 0"
      ]
    },
    {
      "cell_type": "code",
      "execution_count": null,
      "metadata": {
        "collapsed": false
      },
      "outputs": [],
      "source": [
        "train_drifted_df = pd.concat([train_ds.data.sample(min(sample_size, train_ds.n_samples) - 5000, random_state=random_seed), \n                             train_ds.data[train_ds.data['sex'] == ' Female'].sample(5000, random_state=random_seed)])\ntest_drifted_df = test_ds.data.sample(min(sample_size, test_ds.n_samples), random_state=random_seed)\n\ntrain_drifted_ds = Dataset(train_drifted_df, label=label_name, cat_features=train_ds.cat_features)\ntest_drifted_ds = Dataset(test_drifted_df, label=label_name, cat_features=test_ds.cat_features)"
      ]
    },
    {
      "cell_type": "code",
      "execution_count": null,
      "metadata": {
        "collapsed": false
      },
      "outputs": [],
      "source": [
        "check = MultivariateDrift()\ncheck.run(train_dataset=train_drifted_ds, test_dataset=test_drifted_ds)"
      ]
    },
    {
      "cell_type": "markdown",
      "metadata": {},
      "source": [
        "As expected, the check detects a multivariate drift between the train\nand the test sets. It also displays the sex feature\\'s distribution -\nthe feature that contributed the most to that drift. This is reasonable\nsince the sampling was biased based on that feature.\n\nDefine a Condition\n==================\n\nNow, we define a condition that enforce the multivariate drift score\nmust be below 0.1. A condition is deepchecks\\' way to validate model and\ndata quality, and let you know if anything goes wrong.\n"
      ]
    },
    {
      "cell_type": "code",
      "execution_count": null,
      "metadata": {
        "collapsed": false
      },
      "outputs": [],
      "source": [
        "check = MultivariateDrift()\ncheck.add_condition_overall_drift_value_less_than(0.1)\ncheck.run(train_dataset=train_drifted_ds, test_dataset=test_drifted_ds)"
      ]
    },
    {
      "cell_type": "markdown",
      "metadata": {},
      "source": [
        "As we see, our condition successfully detects the drift score is above\nthe defined threshold.\n"
      ]
    }
  ],
  "metadata": {
    "kernelspec": {
      "display_name": "Python 3",
      "language": "python",
      "name": "python3"
    },
    "language_info": {
      "codemirror_mode": {
        "name": "ipython",
        "version": 3
      },
      "file_extension": ".py",
      "mimetype": "text/x-python",
      "name": "python",
      "nbconvert_exporter": "python",
      "pygments_lexer": "ipython3",
      "version": "3.9.16"
    }
  },
  "nbformat": 4,
  "nbformat_minor": 0
}