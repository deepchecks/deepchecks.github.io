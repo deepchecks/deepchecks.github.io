{
  "cells": [
    {
      "cell_type": "markdown",
      "metadata": {},
      "source": [
        "Text Data Duplicates {#nlp__data_duplicates}\n====================\n\nThis notebook provides an overview for using and understanding the text\ndata duplicates check:\n\n**Structure:**\n\n-   [Why check for text data\n    duplicates?](#why-check-for-text-data-duplicates)\n-   [Create TextData](#create-textdata)\n-   [Run the Check](#run-the-check)\n-   [Define a Condition](#define-a-condition)\n\nWhy check for text data duplicates?\n-----------------------------------\n\nThe `TextDuplicates` check finds multiple instances of identical or\nnearly identical (see [text normalization](#with-text-normalization))\nsamples in the Dataset. Duplicate samples increase the weight the model\ngives to those samples. If these duplicates are there intentionally\n(e.g. as a result of intentional oversampling, or due to the dataset\\'s\nnature it has identical-looking samples) this may be valid, however if\nthis is a hidden issue we\\'re not expecting to occur, it may be an\nindicator for a problem in the data pipeline that requires attention.\n\nCreate TextData\n---------------\n\nLet\\'s create a simple dataset with some duplicate and similar text\nsamples.\n"
      ]
    },
    {
      "cell_type": "code",
      "execution_count": null,
      "metadata": {
        "collapsed": false
      },
      "outputs": [],
      "source": [
        "from deepchecks.nlp.checks import TextDuplicates\nfrom deepchecks.nlp import TextData\n\ntexts = [\n    \"Deep learning is a subset of machine learning.\",\n    \"Deep learning is a subset of machine learning.\",\n    \"Deep learning is a sub-set of Machine Learning.\",\n    \"Deep learning is subset of machine learning\",\n    \"Natural language processing is a subfield of AI.\",\n    \"This is a unique text sample.\",\n    \"This is another unique text.\",\n]\n\ndataset = TextData(texts)"
      ]
    },
    {
      "cell_type": "markdown",
      "metadata": {},
      "source": [
        "Run the Check\n=============\n"
      ]
    },
    {
      "cell_type": "code",
      "execution_count": null,
      "metadata": {
        "collapsed": false
      },
      "outputs": [],
      "source": [
        "# Run the check without any text normalization\nTextDuplicates(\n    ignore_case=False,\n    remove_punctuation=False,\n    normalize_unicode=False,\n    remove_stopwords=False,\n    ignore_whitespace=False\n).run(dataset)"
      ]
    },
    {
      "cell_type": "markdown",
      "metadata": {},
      "source": [
        "With Text Normalization\n=======================\n\nBy default, `TextDuplicates` check applies text normalization before\nidentifying the duplicates. This includes case normalization,\npunctuation removal, Unicode normalization and stopwords removal. You\ncan also customize the normalization as per your requirements:\n"
      ]
    },
    {
      "cell_type": "code",
      "execution_count": null,
      "metadata": {
        "collapsed": false
      },
      "outputs": [],
      "source": [
        "TextDuplicates(\n    ignore_case=True,\n    remove_punctuation=True,\n    normalize_unicode=True,\n    remove_stopwords=True,\n    ignore_whitespace=True\n).run(dataset)"
      ]
    },
    {
      "cell_type": "markdown",
      "metadata": {},
      "source": [
        "Of all the parameters in this example, `ignore_whitespace` is the only\none set to `False` by default.\n\nDefine a Condition\n==================\n\nNow, we define a condition that enforces the ratio of duplicates to be\n0. A condition is deepchecks\\' way to validate model and data quality,\nand let you know if anything goes wrong.\n"
      ]
    },
    {
      "cell_type": "code",
      "execution_count": null,
      "metadata": {
        "collapsed": false
      },
      "outputs": [],
      "source": [
        "check = TextDuplicates()\ncheck.add_condition_ratio_less_or_equal(0)\nresult = check.run(dataset)\nresult.show(show_additional_outputs=False)"
      ]
    }
  ],
  "metadata": {
    "kernelspec": {
      "display_name": "Python 3",
      "language": "python",
      "name": "python3"
    },
    "language_info": {
      "codemirror_mode": {
        "name": "ipython",
        "version": 3
      },
      "file_extension": ".py",
      "mimetype": "text/x-python",
      "name": "python",
      "nbconvert_exporter": "python",
      "pygments_lexer": "ipython3",
      "version": "3.9.17"
    }
  },
  "nbformat": 4,
  "nbformat_minor": 0
}