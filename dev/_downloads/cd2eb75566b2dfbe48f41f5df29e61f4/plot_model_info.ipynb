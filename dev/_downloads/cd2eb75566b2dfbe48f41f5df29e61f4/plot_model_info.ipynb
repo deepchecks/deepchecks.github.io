{
  "cells": [
    {
      "cell_type": "markdown",
      "metadata": {},
      "source": [
        "Model Info {#tabular__model_info}\n==========\n\nThis notebook provides an overview for using and understanding the Model\nInfo check.\n\n**Structure:**\n\n-   [What is the Model Info check?](#what-is-the-model-info-check)\n-   [Run the check](#run-the-check)\n\nWhat is the Model Info check?\n-----------------------------\n\nThe `ModelInfo` check produces a summary for the model parameters\n(number of estimators, learning rate, verbosity etc.).\n"
      ]
    },
    {
      "cell_type": "markdown",
      "metadata": {},
      "source": [
        "Imports\n=======\n"
      ]
    },
    {
      "cell_type": "code",
      "execution_count": null,
      "metadata": {
        "collapsed": false
      },
      "outputs": [],
      "source": [
        "from sklearn.ensemble import AdaBoostClassifier\n\nfrom deepchecks.tabular.checks import ModelInfo"
      ]
    },
    {
      "cell_type": "markdown",
      "metadata": {},
      "source": [
        "Run the check\n=============\n"
      ]
    },
    {
      "cell_type": "code",
      "execution_count": null,
      "metadata": {
        "collapsed": false
      },
      "outputs": [],
      "source": [
        "clf = AdaBoostClassifier(learning_rate=1.2)\nModelInfo().run(clf)"
      ]
    }
  ],
  "metadata": {
    "kernelspec": {
      "display_name": "Python 3",
      "language": "python",
      "name": "python3"
    },
    "language_info": {
      "codemirror_mode": {
        "name": "ipython",
        "version": 3
      },
      "file_extension": ".py",
      "mimetype": "text/x-python",
      "name": "python",
      "nbconvert_exporter": "python",
      "pygments_lexer": "ipython3",
      "version": "3.9.17"
    }
  },
  "nbformat": 4,
  "nbformat_minor": 0
}