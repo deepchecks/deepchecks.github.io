{
  "cells": [
    {
      "cell_type": "code",
      "execution_count": null,
      "metadata": {
        "collapsed": false
      },
      "outputs": [],
      "source": [
        "%matplotlib inline"
      ]
    },
    {
      "cell_type": "markdown",
      "metadata": {},
      "source": [
        "Heatmap Comparison {#plot_vision_heatmap_comparison}\n==================\n\nThis notebooks provides an overview for using and understanding Heatmap\ncomparison check.\n\n**Structure:**\n\n-   [What Is a Heatmap Comparison?](#what-is-a-heatmap-comparison)\n-   [Run the Check on a Classification\n    Task](#run-the-check-on-a-classification-task-mnist)\n-   [Run the Check on an Object Detection\n    Task](#run-the-check-on-an-object-detection-task-coco)\n-   [Limit to Specific Classes](#limit-to-specific-classes)\n\nWhat Is a Heatmap Comparison?\n-----------------------------\n\nHeatmap comparison is a method of detecting data drift in image data.\nData drift is simply a change in the distribution of data over time or\nbetween several distinct cases. It is also one of the top reasons that a\nmachine learning model performance degrades over time, or when applied\nto new scenarios.\n\nThe **Heatmap comparison** check simply computes an average image for\nall images in each dataset, train and test, and visualizes both the\naverage images of both. That way, we can visually compare the difference\nbetween the datasets\\' brightness distribution. For example, if training\ndata contains significantly more images with sky, we will see that the\naverage train image is brighter in the upper half of the heatmap.\n\n### Comparing Labels for Object Detection\n\nFor object detection tasks, it is also possible to visualize Label\nDrift, by displaying the average of bounding box label coverage. This is\ndone by producing label maps per image, in which each pixel inside a\nbounding box is white and the rest and black. Then, the average of all\nthese images is displayed.\n\nIn our previous example, the drift caused by more images with sky in\ntraining would also be visible by a lack of labels in the upper half of\nthe average label map of the training data, due to lack of labels in the\nsky.\n\n### Other Methods of Drift Detection\n\nAnother, more traditional method to detect such drift would be to use\nstatistical methods. Such an approach is covered by several builtin\ncheck in the deepchecks.vision package, such as the `Label Drift Check\n</checks_gallery/vision/train_test_validation/plot_train_test_label_drift>`{.interpreted-text\nrole=\"doc\"} or the `Image Dataset Drift Check\n</checks_gallery/vision/train_test_validation/plot_image_dataset_drift>`{.interpreted-text\nrole=\"doc\"}.\n\nRun the Check on a Classification Task (MNIST)\n----------------------------------------------\n"
      ]
    },
    {
      "cell_type": "markdown",
      "metadata": {},
      "source": [
        "Imports\n=======\n"
      ]
    },
    {
      "cell_type": "code",
      "execution_count": null,
      "metadata": {
        "collapsed": false
      },
      "outputs": [],
      "source": [
        "from deepchecks.vision.datasets.classification.mnist import load_dataset"
      ]
    },
    {
      "cell_type": "markdown",
      "metadata": {},
      "source": [
        "Loading Data\n============\n"
      ]
    },
    {
      "cell_type": "code",
      "execution_count": null,
      "metadata": {
        "collapsed": false
      },
      "outputs": [],
      "source": [
        "mnist_data_train = load_dataset(train=True, batch_size=64, object_type='VisionData')\nmnist_data_test = load_dataset(train=False, batch_size=64, object_type='VisionData')"
      ]
    },
    {
      "cell_type": "code",
      "execution_count": null,
      "metadata": {
        "collapsed": false
      },
      "outputs": [],
      "source": [
        "from deepchecks.vision.checks import HeatmapComparison\n\ncheck = HeatmapComparison()\nresult = check.run(mnist_data_train, mnist_data_test)\nresult"
      ]
    },
    {
      "cell_type": "markdown",
      "metadata": {},
      "source": [
        "To display the results in an IDE like PyCharm, you can use the following\ncode:\n"
      ]
    },
    {
      "cell_type": "code",
      "execution_count": null,
      "metadata": {
        "collapsed": false
      },
      "outputs": [],
      "source": [
        "#  result.show_in_window()"
      ]
    },
    {
      "cell_type": "markdown",
      "metadata": {},
      "source": [
        "The result will be displayed in a new window.\n"
      ]
    },
    {
      "cell_type": "markdown",
      "metadata": {},
      "source": [
        "Run the Check on an Object Detection Task (Coco)\n================================================\n"
      ]
    },
    {
      "cell_type": "code",
      "execution_count": null,
      "metadata": {
        "collapsed": false
      },
      "outputs": [],
      "source": [
        "from deepchecks.vision.datasets.detection.coco import load_dataset\n\ntrain_ds = load_dataset(train=True, object_type='VisionData')\ntest_ds = load_dataset(train=False, object_type='VisionData')"
      ]
    },
    {
      "cell_type": "code",
      "execution_count": null,
      "metadata": {
        "collapsed": false
      },
      "outputs": [],
      "source": [
        "check = HeatmapComparison()\nresult = check.run(train_ds, test_ds)\nresult"
      ]
    },
    {
      "cell_type": "markdown",
      "metadata": {},
      "source": [
        "Limit to Specific Classes\n=========================\n\nThe check can be limited to compare the bounding box coverage for a\nspecific set of classes. We\\'ll use that to inspect only objects labeled\nas human (class\\_id 0)\n"
      ]
    },
    {
      "cell_type": "code",
      "execution_count": null,
      "metadata": {
        "collapsed": false
      },
      "outputs": [],
      "source": [
        "check = HeatmapComparison(classes_to_display=['person'])\nresult = check.run(train_ds, test_ds)\nresult"
      ]
    },
    {
      "cell_type": "markdown",
      "metadata": {},
      "source": [
        "We can see a significant increased abundance of humans in the test data,\nlocated in the images lower center!\n"
      ]
    }
  ],
  "metadata": {
    "kernelspec": {
      "display_name": "Python 3",
      "language": "python",
      "name": "python3"
    },
    "language_info": {
      "codemirror_mode": {
        "name": "ipython",
        "version": 3
      },
      "file_extension": ".py",
      "mimetype": "text/x-python",
      "name": "python",
      "nbconvert_exporter": "python",
      "pygments_lexer": "ipython3",
      "version": "3.9.15"
    }
  },
  "nbformat": 4,
  "nbformat_minor": 0
}