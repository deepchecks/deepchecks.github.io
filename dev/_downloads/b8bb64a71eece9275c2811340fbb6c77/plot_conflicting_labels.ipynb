{
  "cells": [
    {
      "cell_type": "markdown",
      "metadata": {},
      "source": [
        "Conflicting Labels {#tabular__conflicting_labels}\n==================\n\nThis notebook provides an overview for using and understanding the\nconflicting labels check.\n\n**Structure:**\n\n-   [What are Conflicting Labels?](#what-are-conflicting-labels)\n-   [Load Data](#load-data)\n-   [Run the Check](#run-the-check)\n-   [Define a Condition](#define-a-condition)\n\nWhat are Conflicting Labels?\n----------------------------\n\nThe check searches for identical samples with different labels. This can\noccur due to either mislabeled data, or when the data collected is\nmissing features necessary to separate the labels. If the data is\nmislabled, it can confuse the model and can result in lower performance\nof the model.\n"
      ]
    },
    {
      "cell_type": "code",
      "execution_count": null,
      "metadata": {
        "collapsed": false
      },
      "outputs": [],
      "source": [
        "import pandas as pd\n\nfrom deepchecks.tabular import Dataset"
      ]
    },
    {
      "cell_type": "code",
      "execution_count": null,
      "metadata": {
        "collapsed": false
      },
      "outputs": [],
      "source": [
        "from deepchecks.tabular.checks import ConflictingLabels\nfrom deepchecks.tabular.datasets.classification.phishing import load_data"
      ]
    },
    {
      "cell_type": "markdown",
      "metadata": {},
      "source": [
        "Load Data\n=========\n"
      ]
    },
    {
      "cell_type": "code",
      "execution_count": null,
      "metadata": {
        "collapsed": false
      },
      "outputs": [],
      "source": [
        "phishing_dataframe = load_data(as_train_test=False, data_format='Dataframe')\nphishing_dataset = Dataset(phishing_dataframe, label='target', features=['urlLength', 'numDigits', 'numParams', 'num_%20', 'num_@', 'bodyLength', 'numTitles', 'numImages', 'numLinks', 'specialChars'])"
      ]
    },
    {
      "cell_type": "markdown",
      "metadata": {},
      "source": [
        "Run the Check\n=============\n"
      ]
    },
    {
      "cell_type": "code",
      "execution_count": null,
      "metadata": {
        "collapsed": false
      },
      "outputs": [],
      "source": [
        "ConflictingLabels().run(phishing_dataset)"
      ]
    },
    {
      "cell_type": "markdown",
      "metadata": {},
      "source": [
        "We can also check label ambiguity on a subset of the features:\n"
      ]
    },
    {
      "cell_type": "code",
      "execution_count": null,
      "metadata": {
        "collapsed": false
      },
      "outputs": [],
      "source": [
        "ConflictingLabels(n_to_show=1).run(phishing_dataset)"
      ]
    },
    {
      "cell_type": "code",
      "execution_count": null,
      "metadata": {
        "collapsed": false
      },
      "outputs": [],
      "source": [
        "ConflictingLabels(columns=['urlLength', 'numDigits']).run(phishing_dataset)"
      ]
    },
    {
      "cell_type": "markdown",
      "metadata": {},
      "source": [
        "Define a Condition\n==================\n\nNow, we define a condition that enforces that the ratio of samples with\nconflicting labels should be 0. A condition is deepchecks\\' way to\nvalidate model and data quality, and let you know if anything goes\nwrong.\n"
      ]
    },
    {
      "cell_type": "code",
      "execution_count": null,
      "metadata": {
        "collapsed": false
      },
      "outputs": [],
      "source": [
        "check = ConflictingLabels()\ncheck.add_condition_ratio_of_conflicting_labels_less_or_equal(0)\nresult = check.run(phishing_dataset)\nresult.show(show_additional_outputs=False)"
      ]
    }
  ],
  "metadata": {
    "kernelspec": {
      "display_name": "Python 3",
      "language": "python",
      "name": "python3"
    },
    "language_info": {
      "codemirror_mode": {
        "name": "ipython",
        "version": 3
      },
      "file_extension": ".py",
      "mimetype": "text/x-python",
      "name": "python",
      "nbconvert_exporter": "python",
      "pygments_lexer": "ipython3",
      "version": "3.9.16"
    }
  },
  "nbformat": 4,
  "nbformat_minor": 0
}