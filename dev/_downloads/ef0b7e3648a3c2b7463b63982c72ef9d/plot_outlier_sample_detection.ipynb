{
  "cells": [
    {
      "cell_type": "markdown",
      "metadata": {},
      "source": [
        "Outlier Sample Detection {#tabular__outlier_sample_detection}\n========================\n\nThis notebook provides an overview for using and understanding the\nOutlier Sample Detection check.\n\n**Structure:**\n\n-   [How deepchecks detects outliers](#How-deepchecks-detects-outliers)\n-   [Prepare data](#prepare-data)\n-   [Run the check](#run-the-check)\n-   [Define a condition](#define-a-condition)\n\nHow deepchecks detects outliers\n-------------------------------\n\nOutlier Sample Detection searches for outliers samples (jointly across\nall features) using the LoOP algorithm. The LoOP algorithm is a robust\nmethod for detecting outliers in a dataset across multiple variables by\ncomparing the density in the area of a sample with the densities in the\nareas of its nearest neighbors (see the [LoOp\npaper](https://www.dbs.ifi.lmu.de/Publikationen/Papers/LoOP1649.pdf) for\nfurther details).\n\nLoOP relies on a distance matrix. In our implementation we use the Gower\ndistance that averages the distances per feature between samples. For\nnumeric features it calculates the absolute distance divided by the\nrange of the feature and for categorical features it is an indicator for\nwhether the values are the same (see\n[link](https://www.jstor.org/stable/2528823) for further details).\n"
      ]
    },
    {
      "cell_type": "markdown",
      "metadata": {},
      "source": [
        "Imports\n=======\n"
      ]
    },
    {
      "cell_type": "code",
      "execution_count": null,
      "metadata": {
        "collapsed": false
      },
      "outputs": [],
      "source": [
        "import pandas as pd\nfrom sklearn.datasets import load_iris\n\nfrom deepchecks.tabular import Dataset\nfrom deepchecks.tabular.checks import OutlierSampleDetection"
      ]
    },
    {
      "cell_type": "markdown",
      "metadata": {},
      "source": [
        "Prepare data\n============\n"
      ]
    },
    {
      "cell_type": "code",
      "execution_count": null,
      "metadata": {
        "collapsed": false
      },
      "outputs": [],
      "source": [
        "iris = pd.DataFrame(load_iris().data)\niris.describe()"
      ]
    },
    {
      "cell_type": "markdown",
      "metadata": {},
      "source": [
        "Add an outlier:\n"
      ]
    },
    {
      "cell_type": "code",
      "execution_count": null,
      "metadata": {
        "collapsed": false
      },
      "outputs": [],
      "source": [
        "outlier_sample = [1, 10, 50, 100]\niris.loc[len(iris.index)] = outlier_sample\nprint(iris.tail())\nmodified_iris = Dataset(iris, cat_features=[])"
      ]
    },
    {
      "cell_type": "markdown",
      "metadata": {},
      "source": [
        "Run the Check\n=============\n\nWe define the nearest\\_neighbors\\_percent and the extent parameters for\nthe LoOP algorithm.\n"
      ]
    },
    {
      "cell_type": "code",
      "execution_count": null,
      "metadata": {
        "collapsed": false
      },
      "outputs": [],
      "source": [
        "check = OutlierSampleDetection(nearest_neighbors_percent=0.01, extent_parameter=3)\ncheck.run(modified_iris)"
      ]
    },
    {
      "cell_type": "markdown",
      "metadata": {},
      "source": [
        "Define a condition\n==================\n\nNow, we define a condition that enforces that the ratio of outlier\nsamples in out dataset is below 0.001.\n"
      ]
    },
    {
      "cell_type": "code",
      "execution_count": null,
      "metadata": {
        "collapsed": false
      },
      "outputs": [],
      "source": [
        "check = OutlierSampleDetection()\ncheck.add_condition_outlier_ratio_less_or_equal(max_outliers_ratio=0.001, outlier_score_threshold=0.9)\ncheck.run(modified_iris)"
      ]
    }
  ],
  "metadata": {
    "kernelspec": {
      "display_name": "Python 3",
      "language": "python",
      "name": "python3"
    },
    "language_info": {
      "codemirror_mode": {
        "name": "ipython",
        "version": 3
      },
      "file_extension": ".py",
      "mimetype": "text/x-python",
      "name": "python",
      "nbconvert_exporter": "python",
      "pygments_lexer": "ipython3",
      "version": "3.8.18"
    }
  },
  "nbformat": 4,
  "nbformat_minor": 0
}