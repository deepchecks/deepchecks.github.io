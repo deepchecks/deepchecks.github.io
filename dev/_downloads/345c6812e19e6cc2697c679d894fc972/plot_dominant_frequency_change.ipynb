{
  "cells": [
    {
      "cell_type": "code",
      "execution_count": null,
      "metadata": {
        "collapsed": false
      },
      "outputs": [],
      "source": [
        "%matplotlib inline"
      ]
    },
    {
      "cell_type": "markdown",
      "metadata": {},
      "source": [
        "Dominant Frequency Change\n=========================\n\nThis example provides an overview for using and understanding the\n[Dominant Frequency Change]{.title-ref} check.\n\n**Structure:**\n\n-   [What is a Dominant Frequency\n    Change?](#what-is-a-dominant-frequency-change)\n-   [Generate Data](#generate-data)\n-   [Run The Check](#run-the-check)\n-   [Define a Condition](#define-a-condition)\n\nWhat is a Dominant Frequency Change?\n------------------------------------\n\nDominant Frequency Change is a data integrity check which simply checks\nwhether dominant values have increased significantly between test data\nand train data. Sharp changes in dominant values can indicate a problem\nwith the data collection or data processing pipeline (for example, a\nsharp incrase in a common null or constant value), and will cause the\nmodel to fail to generalize well. This check goal is to catch these\nissues early in the pipeline.\n\nThis check compares the dominant values of each feature in the test data\nto the dominant values of the same feature in the train data. If the\nratio of the test to train dominant values is greater than a threshold,\nthe check fails. This threshold can be configured by specifying the\n[ratio\\_change\\_thres]{.title-ref} parameter of the check.\n\n### The Definition of a Dominant Value\n\nThe dominant value is defined as a value that is frequent in data at\nleast more than `dominance_ratio` times from the next most frequent\nvalue. The `dominance_ratio` is a configurable parameter of the check.\n"
      ]
    },
    {
      "cell_type": "code",
      "execution_count": null,
      "metadata": {
        "collapsed": false
      },
      "outputs": [],
      "source": [
        "from deepchecks.tabular.checks.integrity import DominantFrequencyChange\nfrom deepchecks.tabular.datasets.classification import iris"
      ]
    },
    {
      "cell_type": "markdown",
      "metadata": {},
      "source": [
        "Generate data\n=============\n"
      ]
    },
    {
      "cell_type": "code",
      "execution_count": null,
      "metadata": {
        "collapsed": false
      },
      "outputs": [],
      "source": [
        "train_ds, test_ds = iris.load_data(data_format='Dataset', as_train_test=True)"
      ]
    },
    {
      "cell_type": "markdown",
      "metadata": {},
      "source": [
        "Introducing Duplicates in the Test Data\n=======================================\n"
      ]
    },
    {
      "cell_type": "code",
      "execution_count": null,
      "metadata": {
        "collapsed": false
      },
      "outputs": [],
      "source": [
        "# make duplicates in the test data\ntest_ds.data.loc[test_ds.data.index % 2 == 0, 'petal length (cm)'] = 5.1\ntest_ds.data.loc[test_ds.data.index / 3 > 8, 'sepal width (cm)'] = 2.7"
      ]
    },
    {
      "cell_type": "markdown",
      "metadata": {},
      "source": [
        "Run The Check\n=============\n"
      ]
    },
    {
      "cell_type": "code",
      "execution_count": null,
      "metadata": {
        "collapsed": false
      },
      "outputs": [],
      "source": [
        "check = DominantFrequencyChange()\ncheck.run(test_ds, train_ds)"
      ]
    },
    {
      "cell_type": "markdown",
      "metadata": {},
      "source": [
        "Define a Condition\n==================\n"
      ]
    },
    {
      "cell_type": "code",
      "execution_count": null,
      "metadata": {
        "collapsed": false
      },
      "outputs": [],
      "source": [
        "check = DominantFrequencyChange()\ncheck.add_condition_ratio_of_change_not_greater_than(0.1)\nres = check.run(test_ds, train_ds)\nres.show(show_additional_outputs=False)"
      ]
    }
  ],
  "metadata": {
    "kernelspec": {
      "display_name": "Python 3",
      "language": "python",
      "name": "python3"
    },
    "language_info": {
      "codemirror_mode": {
        "name": "ipython",
        "version": 3
      },
      "file_extension": ".py",
      "mimetype": "text/x-python",
      "name": "python",
      "nbconvert_exporter": "python",
      "pygments_lexer": "ipython3",
      "version": "3.9.12"
    }
  },
  "nbformat": 4,
  "nbformat_minor": 0
}