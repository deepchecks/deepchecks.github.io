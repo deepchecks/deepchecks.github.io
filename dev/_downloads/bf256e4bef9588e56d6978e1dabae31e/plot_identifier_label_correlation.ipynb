{
  "cells": [
    {
      "cell_type": "markdown",
      "metadata": {},
      "source": [
        "Identifier Label Correlation {#tabular__identifier_label_correlation}\n============================\n\nThis notebook provides an overview for using and understanding the\nidentifier-label correlation check.\n\nThis check computes the Predictive Power Score (`PPS\n<plot_tabular_feature_label_correlation_change__how_is_the_predictive_power_score_pps_calculated>`{.interpreted-text\nrole=\"ref\"}) meaning, the ability of a unique identifier (index or\ndatetime) column to predict the label.\n\nHigh predictive score could indicate a problem in the data collection\npipeline, and even though the identifier column doesn\\'t directly enter\nthe model, collecting the data differently for different labels could\nhave an indirect influence on the data.\n\n**Structure:**\n\n-   [Generate Data](#generate-data)\n-   [Run the Check](#run-the-check)\n-   [Define a Condition](#define-a-condition)\n"
      ]
    },
    {
      "cell_type": "markdown",
      "metadata": {},
      "source": [
        "Imports\n=======\n"
      ]
    },
    {
      "cell_type": "code",
      "execution_count": null,
      "metadata": {
        "collapsed": false
      },
      "outputs": [],
      "source": [
        "import numpy as np\nimport pandas as pd\n\nfrom deepchecks.tabular import Dataset\nfrom deepchecks.tabular.checks import IdentifierLabelCorrelation"
      ]
    },
    {
      "cell_type": "markdown",
      "metadata": {},
      "source": [
        "Generate Data\n=============\n"
      ]
    },
    {
      "cell_type": "code",
      "execution_count": null,
      "metadata": {
        "collapsed": false
      },
      "outputs": [],
      "source": [
        "np.random.seed(42)\ndf = pd.DataFrame(np.random.randn(100, 3), columns=['x1', 'x2', 'x3'])\ndf['x4'] = df['x1'] * 0.05 + df['x2']\ndf['x5'] = df['x2']*121 + 0.01 * df['x1']\ndf['label'] = df['x5'].apply(lambda x: 0 if x < 0 else 1)"
      ]
    },
    {
      "cell_type": "code",
      "execution_count": null,
      "metadata": {
        "collapsed": false
      },
      "outputs": [],
      "source": [
        "dataset = Dataset(df, label='label', index_name='x1', datetime_name='x2', cat_features=[])"
      ]
    },
    {
      "cell_type": "markdown",
      "metadata": {},
      "source": [
        "Run The Check\n=============\n"
      ]
    },
    {
      "cell_type": "code",
      "execution_count": null,
      "metadata": {
        "collapsed": false
      },
      "outputs": [],
      "source": [
        "check = IdentifierLabelCorrelation()\ncheck.run(dataset)\n\n# To display the results in an IDE like PyCharm, you can use the following code:\n# check.run(ds).show()\n# The result will be displayed in a new window."
      ]
    },
    {
      "cell_type": "markdown",
      "metadata": {},
      "source": [
        "Define a Condition\n==================\n\nNow we will define a condition that the PPS should be less than or equal\nto 0.2.\n"
      ]
    },
    {
      "cell_type": "code",
      "execution_count": null,
      "metadata": {
        "collapsed": false
      },
      "outputs": [],
      "source": [
        "result = check.add_condition_pps_less_or_equal(max_pps=0.2).run(dataset)\nresult.show(show_additional_outputs=False)"
      ]
    }
  ],
  "metadata": {
    "kernelspec": {
      "display_name": "Python 3",
      "language": "python",
      "name": "python3"
    },
    "language_info": {
      "codemirror_mode": {
        "name": "ipython",
        "version": 3
      },
      "file_extension": ".py",
      "mimetype": "text/x-python",
      "name": "python",
      "nbconvert_exporter": "python",
      "pygments_lexer": "ipython3",
      "version": "3.9.17"
    }
  },
  "nbformat": 4,
  "nbformat_minor": 0
}