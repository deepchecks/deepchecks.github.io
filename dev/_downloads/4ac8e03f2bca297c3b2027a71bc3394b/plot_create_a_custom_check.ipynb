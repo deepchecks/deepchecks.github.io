{
  "cells": [
    {
      "cell_type": "markdown",
      "metadata": {},
      "source": [
        "Create a Custom Check\n=====================\n\nIt is possible to extend deepchecks by implementing custom checks. This\nenables you to have your own logic of metrics or validation, or even\njust to display your own graph using deepchecks\\' suite.\n\nFor implementing custom checks, please refer to:\n\n-   `Tabular Custom Check Guide </user-guide/tabular/auto_tutorials/plot_add_a_custom_check>`{.interpreted-text\n    role=\"doc\"}\n-   `Vision Custom Check Guide </user-guide/vision/auto_tutorials/plot_custom_checks>`{.interpreted-text\n    role=\"doc\"}\n"
      ]
    }
  ],
  "metadata": {
    "kernelspec": {
      "display_name": "Python 3",
      "language": "python",
      "name": "python3"
    },
    "language_info": {
      "codemirror_mode": {
        "name": "ipython",
        "version": 3
      },
      "file_extension": ".py",
      "mimetype": "text/x-python",
      "name": "python",
      "nbconvert_exporter": "python",
      "pygments_lexer": "ipython3",
      "version": "3.9.16"
    }
  },
  "nbformat": 4,
  "nbformat_minor": 0
}