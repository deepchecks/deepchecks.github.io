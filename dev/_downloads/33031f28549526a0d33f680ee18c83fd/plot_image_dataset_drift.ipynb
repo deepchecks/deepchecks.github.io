{
  "cells": [
    {
      "cell_type": "markdown",
      "metadata": {},
      "source": [
        "Image Dataset Drift {#plot_vision_image_dataset_drift}\n===================\n\nThis notebooks provides an overview for using and understanding the\nimage dataset drift check, used to detect drift in simple image\nproperties between train and test datasets.\n\n**Structure:**\n\n-   [What Is Image Dataset Drift?](#what-is-image-dataset-drift)\n-   [Which Image Properties Are Used?](#which-image-properties-are-used)\n-   [Loading The Data](#loading-the-data)\n-   [Run The Check](#run-the-check)\n-   [Define a Condition](#define-a-condition)\n\nWhat Is Image Dataset Drift?\n----------------------------\n\nDrift is simply a change in the distribution of data over time, and it\nis also one of the top reasons why machine learning model\\'s performance\ndegrades over time.\n\nImage dataset drift is a drift that occurs in more than one image\nproperty at a time, and may even affect the relationships between those\nproperties, which are undetectable by univariate drift methods.\n\nFor more information on drift, please visit our\n`drift guide </user-guide/general/drift_guide>`{.interpreted-text\nrole=\"doc\"}.\n\nHow Deepchecks Detects Dataset Drift\n------------------------------------\n\nThis check detects multivariate drift by using\n`a domain classifier <drift_detection_by_domain_classifier>`{.interpreted-text\nrole=\"ref\"}. Other methods to detect drift include\n`univariate measures <drift_detection_by_univariate_measure>`{.interpreted-text\nrole=\"ref\"} which is used in other checks, such as\n`Image Property Drift check </checks_gallery/vision/train_test_validation/plot_image_property_drift>`{.interpreted-text\nrole=\"doc\"}.\n\nUsing Properties to Detect Image Drift\n--------------------------------------\n\nIn computer vision specifically, we can\\'t measure drift on the images\ndirectly, as the individual pixel has little value when estimating\ndrift. Therefore, we calculate drift on different\n`properties of the image</user-guide/vision/vision_properties>`{.interpreted-text\nrole=\"doc\"}, on which we can directly measure drift.\n\nWhich Image Properties Are Used?\n--------------------------------\n\n  Property name                   What is it\n  ------------------------------- ----------------------------------------------------------------------------------------------------------------------------------------\n  Aspect Ratio                    Ratio between height and width of image (height / width)\n  Area                            Area of image in pixels (height \\* width)\n  Brightness                      Average intensity of image pixels. Color channels have different weights according to RGB-to-Grayscale formula\n  RMS Contrast                    Contrast of image, calculated by standard deviation of pixels\n  Mean Red Relative Intensity     Mean over all pixels of the red channel, scaled to their relative intensity in comparison to the other channels \\[r / (r + g + b)\\].\n  Mean Green Relative Intensity   Mean over all pixels of the green channel, scaled to their relative intensity in comparison to the other channels \\[g / (r + g + b)\\].\n  Mean Blue Relative Intensity    Mean over all pixels of the blue channel, scaled to their relative intensity in comparison to the other channels \\[b / (r + g + b)\\].\n"
      ]
    },
    {
      "cell_type": "markdown",
      "metadata": {},
      "source": [
        "Imports\n=======\n\n::: {.note}\n::: {.title}\nNote\n:::\n\nIn this example, we use the pytorch version of the coco dataset and\nmodel. In order to run this example using tensorflow, please change the\nimport statements to:\n\nfrom deepchecks.vision.datasets.detection.coco\\_tensorflow import\nload\\_dataset\n:::\n"
      ]
    },
    {
      "cell_type": "code",
      "execution_count": null,
      "metadata": {
        "collapsed": false
      },
      "outputs": [],
      "source": [
        "import numpy as np\n\nfrom deepchecks.vision.checks import ImageDatasetDrift\nfrom deepchecks.vision.datasets.detection.coco_torch import load_dataset"
      ]
    },
    {
      "cell_type": "markdown",
      "metadata": {},
      "source": [
        "Loading the data\n================\n"
      ]
    },
    {
      "cell_type": "code",
      "execution_count": null,
      "metadata": {
        "collapsed": false
      },
      "outputs": [],
      "source": [
        "train_ds = load_dataset(train=True, object_type='VisionData')\ntest_ds = load_dataset(train=False, object_type='VisionData')"
      ]
    },
    {
      "cell_type": "markdown",
      "metadata": {},
      "source": [
        "Run the check\n=============\n\nwithout drift\n-------------\n"
      ]
    },
    {
      "cell_type": "code",
      "execution_count": null,
      "metadata": {
        "collapsed": false
      },
      "outputs": [],
      "source": [
        "check = ImageDatasetDrift()\nresult = check.run(train_dataset=train_ds, test_dataset=test_ds)\nresult"
      ]
    },
    {
      "cell_type": "markdown",
      "metadata": {},
      "source": [
        "To display the results in an IDE like PyCharm, you can use the following\ncode:\n"
      ]
    },
    {
      "cell_type": "code",
      "execution_count": null,
      "metadata": {
        "collapsed": false
      },
      "outputs": [],
      "source": [
        "#  result.show_in_window()"
      ]
    },
    {
      "cell_type": "markdown",
      "metadata": {},
      "source": [
        "The result will be displayed in a new window.\n"
      ]
    },
    {
      "cell_type": "markdown",
      "metadata": {},
      "source": [
        "Insert drift\n============\n\nNow, we will define a custom collate function that will insert a drift\nto the training set.\n"
      ]
    },
    {
      "cell_type": "code",
      "execution_count": null,
      "metadata": {
        "collapsed": false
      },
      "outputs": [],
      "source": [
        "def add_brightness(img):\n    reverse = 255 - img\n    addition_of_brightness = (reverse * 0.2).astype(int)\n    return img + addition_of_brightness"
      ]
    },
    {
      "cell_type": "code",
      "execution_count": null,
      "metadata": {
        "collapsed": false
      },
      "outputs": [],
      "source": [
        "drifted_train_ds = load_dataset(train=True, object_type='VisionData')\n\ndef created_drifted_collate_function(collate_fn):\n    def drifted_collate_function(batch):\n        data_dict = collate_fn(batch)\n        data_dict['images'] = [add_brightness(np.array(img)) for img in data_dict['images']]\n        return data_dict\n    return drifted_collate_function\n\n\ndrifted_train_ds._batch_loader.collate_fn = created_drifted_collate_function(drifted_train_ds._batch_loader.collate_fn)"
      ]
    },
    {
      "cell_type": "markdown",
      "metadata": {},
      "source": [
        "Run the check again\n===================\n"
      ]
    },
    {
      "cell_type": "code",
      "execution_count": null,
      "metadata": {
        "collapsed": false
      },
      "outputs": [],
      "source": [
        "check = ImageDatasetDrift()\nresult = check.run(train_dataset=drifted_train_ds, test_dataset=test_ds)\nresult"
      ]
    },
    {
      "cell_type": "markdown",
      "metadata": {},
      "source": [
        "Define a Condition\n==================\n\nNow, we will define a condition that the maximum drift score is less\nthan a certain threshold. In this example we will set the threshold at\n0.2. In order to demonstrate the condition, we will use again the\noriginal (not drifted) train dataset.\n"
      ]
    },
    {
      "cell_type": "code",
      "execution_count": null,
      "metadata": {
        "collapsed": false
      },
      "outputs": [],
      "source": [
        "check = ImageDatasetDrift().add_condition_drift_score_less_than(0.2)\nresult = check.run(train_dataset=train_ds, test_dataset=test_ds).show(show_additional_outputs=False)\nresult"
      ]
    }
  ],
  "metadata": {
    "kernelspec": {
      "display_name": "Python 3",
      "language": "python",
      "name": "python3"
    },
    "language_info": {
      "codemirror_mode": {
        "name": "ipython",
        "version": 3
      },
      "file_extension": ".py",
      "mimetype": "text/x-python",
      "name": "python",
      "nbconvert_exporter": "python",
      "pygments_lexer": "ipython3",
      "version": "3.9.16"
    }
  },
  "nbformat": 4,
  "nbformat_minor": 0
}