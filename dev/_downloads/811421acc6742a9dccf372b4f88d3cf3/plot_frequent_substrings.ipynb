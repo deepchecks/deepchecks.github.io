{
  "cells": [
    {
      "cell_type": "markdown",
      "metadata": {},
      "source": [
        "Frequent Substrings {#nlp__frequent_substrings}\n===================\n\nThis notebook provides an overview for using and understanding the\nfrequent substrings check:\n\n**Structure:**\n\n-   [Why check for frequent\n    substrings?](#why-check-for-frequent-substrings)\n-   [Create TextData](#create-textdata)\n-   [Run the Check](#run-the-check)\n-   [Define a Condition](#define-a-condition)\n\nWhy check for frequent substrings?\n----------------------------------\n\nThe purpose of the `FrequentSubstrings` check is to identify recurring\nsubstrings within the Dataset. These commonly occurring substrings can\nsignal potential issues within the data pipeline that demand\nconsideration. Furthermore, these substrings might impact the model\\'s\nperformance and, in certain scenarios, it might be necessary to remove\nthem from the dataset.\n\nSubstrings of varying lengths (n-grams) are extracted from the dataset\ntext samples. The frequencies of these n-grams are calculated and only\nsubstrings exceeding a defined minimum length are retained. The\nsubstrings are then sorted by their frequencies and the most frequent\nsubstrings are identified. Finally, the substrings with the highest\nfrequency and those surpassing a significance level are displayed.\n\nCreate TextData\n---------------\n\nLet\\'s create a simple dataset with some frequent substrings.\n"
      ]
    },
    {
      "cell_type": "code",
      "execution_count": null,
      "metadata": {
        "collapsed": false
      },
      "outputs": [],
      "source": [
        "from deepchecks.nlp.checks import FrequentSubstrings\nfrom deepchecks.nlp import TextData\n\ntexts = [\n    'Deep learning is a subset of machine learning. Sent from my iPhone',\n    'Deep learning is a sub-set of Machine Learning.',\n    'Natural language processing is a subfield of AI. Sent from my iPhone',\n    'NLP is a subfield of Artificial Intelligence. Sent from my iPhone',\n    'This is a unique text sample.',\n    'This is another unique text.'\n]\n\ndataset = TextData(texts)"
      ]
    },
    {
      "cell_type": "markdown",
      "metadata": {},
      "source": [
        "Run the Check\n=============\n"
      ]
    },
    {
      "cell_type": "code",
      "execution_count": null,
      "metadata": {
        "collapsed": false
      },
      "outputs": [],
      "source": [
        "FrequentSubstrings().run(dataset)"
      ]
    },
    {
      "cell_type": "markdown",
      "metadata": {},
      "source": [
        "Define a Condition\n==================\n\nNow, we define a condition that enforces that ratio of frequent\nsubstrings will be smaller than 0.05 for all frequent substrings in the\ndata. A condition is deepchecks\\' way to validate model and data\nquality, and let you know if anything goes wrong.\n"
      ]
    },
    {
      "cell_type": "code",
      "execution_count": null,
      "metadata": {
        "collapsed": false
      },
      "outputs": [],
      "source": [
        "check = FrequentSubstrings()\ncheck.add_condition_zero_result()\nresult = check.run(dataset)\nresult.show(show_additional_outputs=False)"
      ]
    }
  ],
  "metadata": {
    "kernelspec": {
      "display_name": "Python 3",
      "language": "python",
      "name": "python3"
    },
    "language_info": {
      "codemirror_mode": {
        "name": "ipython",
        "version": 3
      },
      "file_extension": ".py",
      "mimetype": "text/x-python",
      "name": "python",
      "nbconvert_exporter": "python",
      "pygments_lexer": "ipython3",
      "version": "3.9.18"
    }
  },
  "nbformat": 4,
  "nbformat_minor": 0
}