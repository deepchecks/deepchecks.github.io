{
  "cells": [
    {
      "cell_type": "markdown",
      "metadata": {},
      "source": [
        "Regression Error Distribution {#tabular__regression_error_distribution}\n=============================\n\nThis notebook provides an overview for using and understanding the\nRegression Error Distribution check.\n\n**Structure:**\n\n-   [What is the Regression Error Distribution\n    check?](#what-is-the-regression-error-distribution-check)\n-   [Run the check](#run-the-check)\n-   [Define a condition](#define-a-condition)\n\nWhat is the Regression Error Distribution check?\n------------------------------------------------\n\nThe `RegressionErrorDistribution` check shows the distribution of the\nregression error, and enables to set conditions on two of the\ndistribution parameters: Systematic error and Kurtosis values. Kurtosis\nis a measure of the shape of the distribution, helping us understand if\nthe distribution is significantly \\\"wider\\\" from the normal\ndistribution, which may imply a certain cause of error deforming the\nnormal shape. Systematic error, otherwise known as the error bias, is\nthe mean prediction error of the model.\n"
      ]
    },
    {
      "cell_type": "markdown",
      "metadata": {},
      "source": [
        "Run the check\n=============\n"
      ]
    },
    {
      "cell_type": "markdown",
      "metadata": {},
      "source": [
        "Generate data & model\n=====================\n"
      ]
    },
    {
      "cell_type": "code",
      "execution_count": null,
      "metadata": {
        "collapsed": false
      },
      "outputs": [],
      "source": [
        "from sklearn.datasets import load_diabetes\nfrom sklearn.ensemble import GradientBoostingRegressor\nfrom sklearn.model_selection import train_test_split\n\ndiabetes_df = load_diabetes(return_X_y=False, as_frame=True).frame\ntrain_df, test_df = train_test_split(diabetes_df, test_size=0.33, random_state=42)\n\nclf = GradientBoostingRegressor(random_state=0)\nclf.fit(train_df.drop('target', axis=1), train_df['target'])"
      ]
    },
    {
      "cell_type": "markdown",
      "metadata": {},
      "source": [
        "Run the check (normal distribution)\n===================================\n\nSince the following distribution resembles the normal distribution, both\nthe kurtosis value and the systematic error will be \\~0.\n"
      ]
    },
    {
      "cell_type": "code",
      "execution_count": null,
      "metadata": {
        "collapsed": false
      },
      "outputs": [],
      "source": [
        "from deepchecks.tabular import Dataset\nfrom deepchecks.tabular.checks import RegressionErrorDistribution\n\ntest = Dataset(test_df, label='target', cat_features=['sex'])\ncheck = RegressionErrorDistribution()\ncheck.run(test, clf)"
      ]
    },
    {
      "cell_type": "markdown",
      "metadata": {},
      "source": [
        "Skewing the data & rerun the check\n==================================\n"
      ]
    },
    {
      "cell_type": "code",
      "execution_count": null,
      "metadata": {
        "collapsed": false
      },
      "outputs": [],
      "source": [
        "test.data[test.label_name] = 150\ncheck.run(test, clf)"
      ]
    },
    {
      "cell_type": "markdown",
      "metadata": {},
      "source": [
        "Define a condition\n==================\n\nAfter artificially skewing the target variable, both the kurtosis value\nand the systematic error would be significantly larger. In the\nconditions below we check if the systemic error, otherwise the mean\nprediction error, is less than 0.01 times the model\\'s rmse score and\nthat the kurtosis is greater than -0.1.\n"
      ]
    },
    {
      "cell_type": "code",
      "execution_count": null,
      "metadata": {
        "collapsed": false
      },
      "outputs": [],
      "source": [
        "check = RegressionErrorDistribution()\ncheck.add_condition_kurtosis_greater_than(threshold=-0.1)\ncheck.add_condition_systematic_error_ratio_to_rmse_less_than(max_ratio=0.01)\ncheck.run(test, clf)"
      ]
    }
  ],
  "metadata": {
    "kernelspec": {
      "display_name": "Python 3",
      "language": "python",
      "name": "python3"
    },
    "language_info": {
      "codemirror_mode": {
        "name": "ipython",
        "version": 3
      },
      "file_extension": ".py",
      "mimetype": "text/x-python",
      "name": "python",
      "nbconvert_exporter": "python",
      "pygments_lexer": "ipython3",
      "version": "3.9.16"
    }
  },
  "nbformat": 4,
  "nbformat_minor": 0
}