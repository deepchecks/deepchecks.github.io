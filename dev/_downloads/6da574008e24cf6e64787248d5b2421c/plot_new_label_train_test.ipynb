{
  "cells": [
    {
      "cell_type": "code",
      "execution_count": null,
      "metadata": {
        "collapsed": false
      },
      "outputs": [],
      "source": [
        "%matplotlib inline"
      ]
    },
    {
      "cell_type": "markdown",
      "metadata": {},
      "source": [
        "New Label\n=========\n"
      ]
    },
    {
      "cell_type": "code",
      "execution_count": null,
      "metadata": {
        "collapsed": false
      },
      "outputs": [],
      "source": [
        "import pandas as pd\n\nfrom deepchecks.tabular import Dataset\nfrom deepchecks.tabular.checks.integrity import NewLabelTrainTest"
      ]
    },
    {
      "cell_type": "code",
      "execution_count": null,
      "metadata": {
        "collapsed": false
      },
      "outputs": [],
      "source": [
        "test_data = {\"col1\": [0, 1, 2, 3] * 10}\nval_data = {\"col1\": [4, 5, 6, 7, 8, 9] * 10}\ntest = Dataset(pd.DataFrame(data=test_data), label=\"col1\", label_type=\"classification_label\")\nval = Dataset(pd.DataFrame(data=val_data), label=\"col1\", label_type=\"classification_label\")"
      ]
    },
    {
      "cell_type": "code",
      "execution_count": null,
      "metadata": {
        "collapsed": false
      },
      "outputs": [],
      "source": [
        "test_data = {\"col1\": [\"a\", \"b\", \"a\", \"c\"] * 10, \"col2\": [1,2,2,3]*10}\nval_data = {\"col1\": [\"a\",\"b\",\"d\"] * 10, \"col2\": [1, 4, 5]*10}\ntest = Dataset(pd.DataFrame(data=test_data), label=\"col2\", label_type=\"classification_label\")\nval = Dataset(pd.DataFrame(data=val_data), label=\"col2\", label_type=\"classification_label\")"
      ]
    },
    {
      "cell_type": "code",
      "execution_count": null,
      "metadata": {
        "collapsed": false
      },
      "outputs": [],
      "source": [
        "NewLabelTrainTest().run(test, val)"
      ]
    }
  ],
  "metadata": {
    "kernelspec": {
      "display_name": "Python 3",
      "language": "python",
      "name": "python3"
    },
    "language_info": {
      "codemirror_mode": {
        "name": "ipython",
        "version": 3
      },
      "file_extension": ".py",
      "mimetype": "text/x-python",
      "name": "python",
      "nbconvert_exporter": "python",
      "pygments_lexer": "ipython3",
      "version": "3.9.12"
    }
  },
  "nbformat": 4,
  "nbformat_minor": 0
}