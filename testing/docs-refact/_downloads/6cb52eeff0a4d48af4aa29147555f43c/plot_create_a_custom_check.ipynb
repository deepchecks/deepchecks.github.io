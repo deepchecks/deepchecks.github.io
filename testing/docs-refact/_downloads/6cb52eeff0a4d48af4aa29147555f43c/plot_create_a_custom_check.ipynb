{
  "cells": [
    {
      "cell_type": "code",
      "execution_count": null,
      "metadata": {
        "collapsed": false
      },
      "outputs": [],
      "source": [
        "%matplotlib inline"
      ]
    },
    {
      "cell_type": "markdown",
      "metadata": {},
      "source": [
        "Create a Custom Check\n=====================\n\nIn addition to deepchecks\\' built-in checks, it is possible to extend\ndeepchecks by implementing custom checks. This enables you to have your\nown logic of metrics or validation, or even just to display your own\ngraph using deepchecks\\' suite.\n\nFor more information about writing custom vision checks, please refer to\nthe\n`Vision Custom Check Guide. </user-guide/vision/tutorials/plot_custom_checks>`{.interpreted-text\nrole=\"doc\"}\n"
      ]
    }
  ],
  "metadata": {
    "kernelspec": {
      "display_name": "Python 3",
      "language": "python",
      "name": "python3"
    },
    "language_info": {
      "codemirror_mode": {
        "name": "ipython",
        "version": 3
      },
      "file_extension": ".py",
      "mimetype": "text/x-python",
      "name": "python",
      "nbconvert_exporter": "python",
      "pygments_lexer": "ipython3",
      "version": "3.9.15"
    }
  },
  "nbformat": 4,
  "nbformat_minor": 0
}