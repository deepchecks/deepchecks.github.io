{
  "cells": [
    {
      "cell_type": "code",
      "execution_count": null,
      "metadata": {
        "collapsed": false
      },
      "outputs": [],
      "source": [
        "%matplotlib inline"
      ]
    },
    {
      "cell_type": "markdown",
      "metadata": {},
      "source": [
        "Regression Systematic Error {#plot_tabular_regression_systematic_error}\n===========================\n\nThis notebook provides an overview for using and understanding the\nRegression Systematic Error check.\n\n**This check is deprecated and will be removed in future versions**,\nplease use the `Regression Error Distribution\n</checks_gallery/tabular/model_evaluation/plot_regression_error_distribution>`{.interpreted-text\nrole=\"doc\"} check instead.\n\n**Structure:**\n\n-   [What is the the Regression Systematic Error\n    check?](#what-is-the-regression-systematic-error-check)\n-   [Generate data & model](#generate-data-model)\n-   [Run the check](#run-the-check)\n\nWhat is the Regression Systematic Error check?\n----------------------------------------------\n\nThe `RegressionSystematicError` check looks for a systematic error in\nmodel predictions. If the errors distribution is non-zero mean, it\nindicates the presence of a systematic error.\n"
      ]
    },
    {
      "cell_type": "markdown",
      "metadata": {},
      "source": [
        "Imports\n=======\n"
      ]
    },
    {
      "cell_type": "code",
      "execution_count": null,
      "metadata": {
        "collapsed": false
      },
      "outputs": [],
      "source": [
        "from sklearn.datasets import load_diabetes\nfrom sklearn.ensemble import GradientBoostingRegressor\nfrom sklearn.model_selection import train_test_split\n\nfrom deepchecks.tabular import Dataset\nfrom deepchecks.tabular.checks import RegressionSystematicError"
      ]
    },
    {
      "cell_type": "markdown",
      "metadata": {},
      "source": [
        "Generate data & model\n=====================\n"
      ]
    },
    {
      "cell_type": "code",
      "execution_count": null,
      "metadata": {
        "collapsed": false
      },
      "outputs": [],
      "source": [
        "diabetes_df = load_diabetes(return_X_y=False, as_frame=True).frame\ntrain_df, test_df = train_test_split(diabetes_df, test_size=0.33, random_state=42)\ntrain_df['target'] = train_df['target'] + 150\n\ntrain = Dataset(train_df, label='target', cat_features=['sex'])\ntest = Dataset(test_df, label='target', cat_features=['sex'])\n\nclf = GradientBoostingRegressor(random_state=0)\n_ = clf.fit(train.data[train.features], train.data[train.label_name])"
      ]
    },
    {
      "cell_type": "markdown",
      "metadata": {},
      "source": [
        "Run the check\n=============\n"
      ]
    },
    {
      "cell_type": "code",
      "execution_count": null,
      "metadata": {
        "collapsed": false
      },
      "outputs": [],
      "source": [
        "check = RegressionSystematicError()\ncheck.run(test, clf)"
      ]
    }
  ],
  "metadata": {
    "kernelspec": {
      "display_name": "Python 3",
      "language": "python",
      "name": "python3"
    },
    "language_info": {
      "codemirror_mode": {
        "name": "ipython",
        "version": 3
      },
      "file_extension": ".py",
      "mimetype": "text/x-python",
      "name": "python",
      "nbconvert_exporter": "python",
      "pygments_lexer": "ipython3",
      "version": "3.9.15"
    }
  },
  "nbformat": 4,
  "nbformat_minor": 0
}