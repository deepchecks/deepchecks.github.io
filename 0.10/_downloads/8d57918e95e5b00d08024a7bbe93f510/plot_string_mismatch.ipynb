{
  "cells": [
    {
      "cell_type": "code",
      "execution_count": null,
      "metadata": {
        "collapsed": false
      },
      "outputs": [],
      "source": [
        "%matplotlib inline"
      ]
    },
    {
      "cell_type": "markdown",
      "metadata": {},
      "source": [
        "String Mismatch {#plot_tabular_string_mismatch}\n===============\n\nThis notebook provides an overview for using and understanding the\n\\\"String Mismatch\\\" check.\n\n**Structure:**\n\n-   [What is the purpose of the\n    check?](#what-is-the-purpose-of-the-check)\n-   [Run check](#run-the-check)\n-   [Define a condition](#define-a-condition)\n\nWhat is the purpose of the check?\n---------------------------------\n\nString Mismatch works on a single dataset, and it looks for mismatches\nin each string column in the data. Finding mismatches in strings is\nhelpful for identifying errors in the data. For example, if your data is\naggregated from multiple sources, it might have the same values but with\na little variation in the formatting, like a leading uppercase. In this\ncase, the model\\'s ability to learn may be impaired since it will see\ncategories that are supposed to be the same, as different categories.\n\n### How String Mismatch Defined?\n\nTo recognize string mismatch, we transform each string to it\\'s base\nform. The base form is the string with only its alphanumeric characters\nin lowercase. (For example \\\"Cat-9?!\\\" base form is \\\"cat9\\\"). If two\nstrings have the same base form, they are considered to be the same.\n"
      ]
    },
    {
      "cell_type": "markdown",
      "metadata": {},
      "source": [
        "Run the Check\n=============\n"
      ]
    },
    {
      "cell_type": "code",
      "execution_count": null,
      "metadata": {
        "collapsed": false
      },
      "outputs": [],
      "source": [
        "import pandas as pd\n\nfrom deepchecks.tabular import Dataset\nfrom deepchecks.tabular.checks import StringMismatch\n\ndata = {'col1': ['Deep', 'deep', 'deep!!!', '$deeP$', 'earth', 'foo', 'bar', 'foo?']}\ndf = pd.DataFrame(data=data)\ndataset = Dataset(df, cat_features=['col1'])\nresult = StringMismatch().run(dataset)\nresult.show()"
      ]
    },
    {
      "cell_type": "markdown",
      "metadata": {},
      "source": [
        "Define a Condition\n==================\n"
      ]
    },
    {
      "cell_type": "code",
      "execution_count": null,
      "metadata": {
        "collapsed": false
      },
      "outputs": [],
      "source": [
        "check = StringMismatch().add_condition_no_variants()\nresult = check.run(dataset)\nresult.show(show_additional_outputs=False)"
      ]
    }
  ],
  "metadata": {
    "kernelspec": {
      "display_name": "Python 3",
      "language": "python",
      "name": "python3"
    },
    "language_info": {
      "codemirror_mode": {
        "name": "ipython",
        "version": 3
      },
      "file_extension": ".py",
      "mimetype": "text/x-python",
      "name": "python",
      "nbconvert_exporter": "python",
      "pygments_lexer": "ipython3",
      "version": "3.9.15"
    }
  },
  "nbformat": 4,
  "nbformat_minor": 0
}