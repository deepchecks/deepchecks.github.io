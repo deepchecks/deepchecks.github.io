{
  "cells": [
    {
      "cell_type": "code",
      "execution_count": null,
      "metadata": {
        "collapsed": false
      },
      "outputs": [],
      "source": [
        "%matplotlib inline"
      ]
    },
    {
      "cell_type": "markdown",
      "metadata": {},
      "source": [
        "Single Dataset Scalar Performance\n=================================\n\nThis notebooks provides an overview for using and understanding single\ndataset scalar performance check.\n\n**Structure:**\n\n-   [What Is the Purpose of the\n    Check?](#what-is-the-purpose-of-the-check)\n-   [Generate data an model](#generate-data-and-model)\n-   [Run the check](#run-the-check)\n-   [Define a condition](#define-a-condition)\n\nWhat Is the Purpose of the Check?\n---------------------------------\n\nThis check returns a metric result as a single scalar, which is\nespecially useful for monitoring a model in production.\n\nSome metrics return a single score, but others return a tensor of\nscores.\n\nFor example, Precision returns a tensor in the size of the number of\nclasses. In that case, we will use a reduce function - a function that\naggregates the scores into a scalar. In this example we use \\'nanmean\\'\nthat returns the mean over the classes, while ignoring NaNs.\n"
      ]
    },
    {
      "cell_type": "markdown",
      "metadata": {},
      "source": [
        "Generate data and model\n=======================\n"
      ]
    },
    {
      "cell_type": "code",
      "execution_count": null,
      "metadata": {
        "collapsed": false
      },
      "outputs": [],
      "source": [
        "from deepchecks.vision.checks import SingleDatasetScalarPerformance\nfrom deepchecks.vision.datasets.classification import mnist"
      ]
    },
    {
      "cell_type": "code",
      "execution_count": null,
      "metadata": {
        "collapsed": false
      },
      "outputs": [],
      "source": [
        "mnist_model = mnist.load_model()\ntrain_ds = mnist.load_dataset(train=True, object_type='VisionData')"
      ]
    },
    {
      "cell_type": "markdown",
      "metadata": {},
      "source": [
        "Run the check\n=============\n\nWe will run the check with the model defined above.\n\nThe check will use the default classification metric\n-[ignite.Accuracy](https://pytorch.org/ignite/generated/ignite.metrics.Accuracy.html).\nThe default metric returns a scalar, therefore we will use the reduce\nfunction default - None.\n"
      ]
    },
    {
      "cell_type": "code",
      "execution_count": null,
      "metadata": {
        "collapsed": false
      },
      "outputs": [],
      "source": [
        "check = SingleDatasetScalarPerformance()\nresult = check.run(train_ds, mnist_model)\nresult"
      ]
    },
    {
      "cell_type": "markdown",
      "metadata": {},
      "source": [
        "The result value is a dictionary with the following fields: score - the\nactual result, metric - the name of metric used reduce - the name of the\nreduce function used.\n"
      ]
    },
    {
      "cell_type": "code",
      "execution_count": null,
      "metadata": {
        "collapsed": false
      },
      "outputs": [],
      "source": [
        "result.value"
      ]
    },
    {
      "cell_type": "markdown",
      "metadata": {},
      "source": [
        "Now we will run a check with parameters, to use a metric and a reduce\nfunction different from the defaults. We will also pass names for them,\nso that the return value will look neat.\n"
      ]
    },
    {
      "cell_type": "code",
      "execution_count": null,
      "metadata": {
        "collapsed": false
      },
      "outputs": [],
      "source": [
        "from ignite.metrics import Precision\nfrom torch import nanmean\n\ncheck = SingleDatasetScalarPerformance(Precision(), nanmean, metric_name='precision', reduce_name='mean')\nresult = check.run(train_ds, mnist_model)\nresult.value"
      ]
    },
    {
      "cell_type": "markdown",
      "metadata": {},
      "source": [
        "Define a Condition\n==================\n\nWe can define a condition to validate that our model performance score\nis above or below a certain threshold. The condition is defined as a\nfunction that takes the results of the check as input and returns a\nConditionResult object.\n"
      ]
    },
    {
      "cell_type": "code",
      "execution_count": null,
      "metadata": {
        "collapsed": false
      },
      "outputs": [],
      "source": [
        "check = SingleDatasetScalarPerformance()\ncheck.add_condition_greater_than(0.5)\nresult = check.run(train_ds, mnist_model)\nresult.show(show_additional_outputs=False)"
      ]
    }
  ],
  "metadata": {
    "kernelspec": {
      "display_name": "Python 3",
      "language": "python",
      "name": "python3"
    },
    "language_info": {
      "codemirror_mode": {
        "name": "ipython",
        "version": 3
      },
      "file_extension": ".py",
      "mimetype": "text/x-python",
      "name": "python",
      "nbconvert_exporter": "python",
      "pygments_lexer": "ipython3",
      "version": "3.9.12"
    }
  },
  "nbformat": 4,
  "nbformat_minor": 0
}