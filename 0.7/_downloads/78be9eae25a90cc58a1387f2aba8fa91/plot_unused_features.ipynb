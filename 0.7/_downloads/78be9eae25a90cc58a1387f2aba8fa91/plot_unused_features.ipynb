{
  "cells": [
    {
      "cell_type": "code",
      "execution_count": null,
      "metadata": {
        "collapsed": false
      },
      "outputs": [],
      "source": [
        "%matplotlib inline"
      ]
    },
    {
      "cell_type": "markdown",
      "metadata": {},
      "source": [
        "Unused Features\n===============\n\nThis notebook provides an overview for using and understanding the\nUnused Features check.\n\n**Structure:**\n\n-   [How unused features affect my\n    model?](#how-unused-features-affect-my-model)\n-   [Run the check](#run-the-check)\n-   [Define a condition](#define-a-condition)\n\nHow unused features affect my model?\n------------------------------------\n\nHaving too many features can prolong training times and degrade model\nperformance due to \\\"The Curse of Dimensionality\\\" or \\\"Hughes\nPhenomenon\\\". This is because the dimensional space grows exponentially\nwith the number of features. When the space is too large in relate to\nthe number of data samples, it results in a very sparse distribution of\nthe samples in the space. This sparsity also makes the samples more\nsimilar to each other, since they are all far from each other which\nmakes it harder to find cluster together similar samples in order to\nfind patterns. The increased dimensional space and samples similarity\nmay require more complex models, which in turn are in greater risk of\noverfitting.\n\nFeatures with low model contribution (feature importance) are probably\njust noise, and should be removed as they increase the dimensionality\nwithout contributing anything. Nevertheless, models may miss important\nfeatures. For that reason the Unused Features check selects out of these\nfeatures those that have high variance, as they may represent\ninformation that was ignored during model construction. We may wish to\nmanually inspect those features to make sure our model is not missing on\nimportant information.\n\nRun the check\n-------------\n\nWe will run the check on the adult dataset which can be downloaded from\nthe [UCI machine learning repository](http://archive.ics.uci.edu/ml) and\nis also available in [deepchecks.tabular.datasets]{.title-ref}.\n"
      ]
    },
    {
      "cell_type": "code",
      "execution_count": null,
      "metadata": {
        "collapsed": false
      },
      "outputs": [],
      "source": [
        "from deepchecks.tabular.checks import UnusedFeatures\nfrom deepchecks.tabular.datasets.classification import adult\n\ntrain_ds, test_ds = adult.load_data()\nmodel = adult.load_fitted_model()\n\nUnusedFeatures().add_condition_number_of_high_variance_unused_features_not_greater_than()\nresult = UnusedFeatures().run(train_ds, test_ds, model)\nresult"
      ]
    },
    {
      "cell_type": "markdown",
      "metadata": {},
      "source": [
        "Controlling the variance threshold\n==================================\n\nThe check can be configured to use a different threshold which controls\nwhich features are considered \\\"high variance\\\". The default value is\n[0.4]{.title-ref}. We will use a more strict value and see that fewer\nfeatures are considered \\\"high variance\\\".\n"
      ]
    },
    {
      "cell_type": "code",
      "execution_count": null,
      "metadata": {
        "collapsed": false
      },
      "outputs": [],
      "source": [
        "result = UnusedFeatures(feature_variance_threshold=1.5).run(train_ds, test_ds, model)\nresult"
      ]
    },
    {
      "cell_type": "markdown",
      "metadata": {},
      "source": [
        "Controlling the importance threshold\n====================================\n\nWe can also define the importance threshold which controls features are\nconsidered important. If we define it as 0 then all features are\nconsidered important.\n"
      ]
    },
    {
      "cell_type": "code",
      "execution_count": null,
      "metadata": {
        "collapsed": false
      },
      "outputs": [],
      "source": [
        "result = UnusedFeatures(feature_importance_threshold=0).run(train_ds, test_ds, model)\nresult"
      ]
    },
    {
      "cell_type": "markdown",
      "metadata": {},
      "source": [
        "Define a condition\n==================\n\nWe can define a condition that enforces that number of unused features\nwith high variance is not greater than a given amount, the default is 5.\n"
      ]
    },
    {
      "cell_type": "code",
      "execution_count": null,
      "metadata": {
        "collapsed": false
      },
      "outputs": [],
      "source": [
        "check = UnusedFeatures().add_condition_number_of_high_variance_unused_features_not_greater_than(5)\nresult = check.run(train_ds, test_ds, model)\nresult.show(show_additional_outputs=False)"
      ]
    }
  ],
  "metadata": {
    "kernelspec": {
      "display_name": "Python 3",
      "language": "python",
      "name": "python3"
    },
    "language_info": {
      "codemirror_mode": {
        "name": "ipython",
        "version": 3
      },
      "file_extension": ".py",
      "mimetype": "text/x-python",
      "name": "python",
      "nbconvert_exporter": "python",
      "pygments_lexer": "ipython3",
      "version": "3.9.12"
    }
  },
  "nbformat": 4,
  "nbformat_minor": 0
}