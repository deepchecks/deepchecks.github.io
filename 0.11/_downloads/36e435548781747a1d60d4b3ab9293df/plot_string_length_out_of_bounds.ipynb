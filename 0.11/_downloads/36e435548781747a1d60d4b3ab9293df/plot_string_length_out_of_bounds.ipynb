{
  "cells": [
    {
      "cell_type": "markdown",
      "metadata": {},
      "source": [
        "String Length Out Of Bounds {#plot_tabular_string_length_out_of_bounds}\n===========================\n\nThis notebook provides an overview for using and understanding the\nString Length Out Of Bounds check.\n\n**Structure:**\n\n-   [What is String Length Out Of\n    Bounds](#what-is-string-length-out-of-bounds)\n-   [Generate data](#generate-data)\n-   [Run the check](#run-the-check)\n"
      ]
    },
    {
      "cell_type": "markdown",
      "metadata": {},
      "source": [
        "What is String Length Out Of Bounds\n===================================\n\nThe `StringLengthOutOfBounds` check detects strings with length that is\nmuch longer/shorter than the identified \\\"normal\\\" string lengths.\n"
      ]
    },
    {
      "cell_type": "code",
      "execution_count": null,
      "metadata": {
        "collapsed": false
      },
      "outputs": [],
      "source": [
        "import pandas as pd\n\nfrom deepchecks.tabular.checks import StringLengthOutOfBounds\nfrom deepchecks.tabular import Dataset"
      ]
    },
    {
      "cell_type": "markdown",
      "metadata": {},
      "source": [
        "Generate Data\n=============\n"
      ]
    },
    {
      "cell_type": "code",
      "execution_count": null,
      "metadata": {
        "collapsed": false
      },
      "outputs": [],
      "source": [
        "col1 = [\"deepchecks123\", \"deepchecks456\"]*40\ncol1.append(\"ab\")\ncol1.append(\"cd\")\n\ncol2 = [\"b\", \"abc\"]*41\n\ncol3 = [\"deepchecks\"]*80\ncol3.append(\"an_outlier\")\ncol3.append(\"im_an_outlier_too\")\n\n## col1 and col3 contain outliers, col2 does not\ndf = pd.DataFrame({\"col1\":col1, \"col2\": col2, \"col3\": col3 })\ndf = Dataset(df, cat_features=[])"
      ]
    },
    {
      "cell_type": "markdown",
      "metadata": {},
      "source": [
        "Run the check\n=============\n"
      ]
    },
    {
      "cell_type": "code",
      "execution_count": null,
      "metadata": {
        "collapsed": false
      },
      "outputs": [],
      "source": [
        "StringLengthOutOfBounds().run(df)"
      ]
    }
  ],
  "metadata": {
    "kernelspec": {
      "display_name": "Python 3",
      "language": "python",
      "name": "python3"
    },
    "language_info": {
      "codemirror_mode": {
        "name": "ipython",
        "version": 3
      },
      "file_extension": ".py",
      "mimetype": "text/x-python",
      "name": "python",
      "nbconvert_exporter": "python",
      "pygments_lexer": "ipython3",
      "version": "3.9.16"
    }
  },
  "nbformat": 4,
  "nbformat_minor": 0
}