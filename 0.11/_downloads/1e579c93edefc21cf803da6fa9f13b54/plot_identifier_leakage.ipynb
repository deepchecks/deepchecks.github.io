{
  "cells": [
    {
      "cell_type": "markdown",
      "metadata": {},
      "source": [
        "This check is deprecated, see\n[IdentifierLabelCorrelation](https://docs.deepchecks.com/en/stable/checks_gallery/tabular/data_integrity/plot_identifier_label_correlation.html)\n"
      ]
    }
  ],
  "metadata": {
    "kernelspec": {
      "display_name": "Python 3",
      "language": "python",
      "name": "python3"
    },
    "language_info": {
      "codemirror_mode": {
        "name": "ipython",
        "version": 3
      },
      "file_extension": ".py",
      "mimetype": "text/x-python",
      "name": "python",
      "nbconvert_exporter": "python",
      "pygments_lexer": "ipython3",
      "version": "3.9.16"
    }
  },
  "nbformat": 4,
  "nbformat_minor": 0
}