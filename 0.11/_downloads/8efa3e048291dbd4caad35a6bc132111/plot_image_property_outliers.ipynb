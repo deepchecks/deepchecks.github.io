{
  "cells": [
    {
      "cell_type": "code",
      "execution_count": null,
      "metadata": {
        "collapsed": false
      },
      "outputs": [],
      "source": [
        "%matplotlib inline"
      ]
    },
    {
      "cell_type": "markdown",
      "metadata": {},
      "source": [
        "Image Property Outliers {#plot_vision_image_property_outliers}\n=======================\n\nThis notebooks provides an overview for using and understanding the\nimage property outliers check, used to detect outliers in simple image\nproperties in a dataset.\n\n**Structure:**\n\n-   [Why Check for Outliers?](#why-check-for-outliers)\n-   [How Does the Check Work?](#how-does-the-check-work)\n-   [Which Image Properties Are Used?](#which-image-properties-are-used)\n-   [Run the Check](#run-the-check)\n\nWhy Check for Outliers?\n-----------------------\n\nExamining outliers may help you gain insights that you couldn\\'t have\nreached from taking an aggregate look or by inspecting random samples.\nFor example, it may help you understand you have some corrupt samples\n(e.g. an image that is completely black), or samples you didn\\'t expect\nto have (e.g. extreme aspect ratio). In some cases, these outliers may\nhelp debug some performance discrepancies (the model can be excused for\nfailing on a totally dark image). In more extreme cases, the outlier\nsamples may indicate the presence of samples interfering with the\nmodel\\'s training by teaching the model to fit \\\"irrelevant\\\" samples.\n\nHow Does the Check Work?\n------------------------\n\nIdeally we would like to directly find images which are outliers, but\nthis is computationally expensive and does not have a clear and\nexplainable results. Therefore, we use image properties in order to find\noutliers (such as brightness, aspect ratio etc.) which are much more\nefficient to compute, and each outlier is easily explained.\n\nWe use [Interquartile\nRange](https://en.wikipedia.org/wiki/Interquartile_range#Outliers) to\ndefine our upper and lower limit for the properties\\' values.\n\n### Which Image Properties Are Used?\n\nBy default the checks use the built-in image properties, and it\\'s also\npossible to replace the default properties with custom ones. For the\nlist of the built-in image properties and explanation about custom\nproperties refer to\n`vision properties </user-guide/vision/vision_properties>`{.interpreted-text\nrole=\"doc\"}.\n"
      ]
    },
    {
      "cell_type": "markdown",
      "metadata": {},
      "source": [
        "Run the Check\n=============\n\nFor the example we will load COCO object detection data, and will run\nthe check with the default properties.\n\n::: {.note}\n::: {.title}\nNote\n:::\n\nIn this example, we use the pytorch version of the coco dataset and\nmodel. In order to run this example using tensorflow, please change the\nimport statements to:\n\nfrom deepchecks.vision.datasets.detection.coco\\_tensorflow import\nload\\_dataset\n:::\n"
      ]
    },
    {
      "cell_type": "code",
      "execution_count": null,
      "metadata": {
        "collapsed": false
      },
      "outputs": [],
      "source": [
        "from deepchecks.vision.checks import ImagePropertyOutliers\nfrom deepchecks.vision.datasets.detection.coco_torch import load_dataset\n\ntrain_data = load_dataset(train=True, object_type='VisionData')\ncheck = ImagePropertyOutliers()\nresult = check.run(train_data)\nresult"
      ]
    },
    {
      "cell_type": "markdown",
      "metadata": {},
      "source": [
        "To display the results in an IDE like PyCharm, you can use the following\ncode:\n"
      ]
    },
    {
      "cell_type": "code",
      "execution_count": null,
      "metadata": {
        "collapsed": false
      },
      "outputs": [],
      "source": [
        "#  result.show_in_window()"
      ]
    },
    {
      "cell_type": "markdown",
      "metadata": {},
      "source": [
        "The result will be displayed in a new window.\n"
      ]
    },
    {
      "cell_type": "markdown",
      "metadata": {},
      "source": [
        "Observe Graphic Result\n======================\n\nThe check shows a section for each property. In each section we show the\nnumber of outliers and the non-outlier property range, and also the\nimages with the lowest and highest values for the property.\n\nFor example in property \\\"RMS Contrast\\\" we can see that only 3 outliers\nwere found, 1 below the normal property range and 2 above. Now we can\ninspect these images and decide if we wish to ignore these kinds of\nsamples or if we would like the model to be able to support them, in\nwhich case we may take a close look into the model\\'s predictions on\nthese samples.\n\nObserve Result Value\n====================\n\nThe check returns CheckResult object with a property \\'value\\' on it\nwhich contain the information that was calculated in the check\\'s run.\n"
      ]
    },
    {
      "cell_type": "code",
      "execution_count": null,
      "metadata": {
        "collapsed": false
      },
      "outputs": [],
      "source": [
        "result.value"
      ]
    }
  ],
  "metadata": {
    "kernelspec": {
      "display_name": "Python 3",
      "language": "python",
      "name": "python3"
    },
    "language_info": {
      "codemirror_mode": {
        "name": "ipython",
        "version": 3
      },
      "file_extension": ".py",
      "mimetype": "text/x-python",
      "name": "python",
      "nbconvert_exporter": "python",
      "pygments_lexer": "ipython3",
      "version": "3.9.16"
    }
  },
  "nbformat": 4,
  "nbformat_minor": 0
}