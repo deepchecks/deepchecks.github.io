{
  "cells": [
    {
      "cell_type": "code",
      "execution_count": null,
      "metadata": {
        "collapsed": false
      },
      "outputs": [],
      "source": [
        "%matplotlib inline"
      ]
    },
    {
      "cell_type": "markdown",
      "metadata": {},
      "source": [
        "Train Test Samples Mix\n======================\n\nThis notebook provides an overview for using and understanding the Train\nTest Samples Mix check.\n\n**Structure:**\n\n-   [Why is samples mix unwanted?](#why-is-samples-mix-unwanted)\n-   [Run the check](#run-the-check)\n-   [Define a condition](#define-a-condition)\n\nWhy is samples mix unwanted?\n----------------------------\n\nSamples mix is when the train and test datasets have some samples in\ncommon. We use the test dataset in order to evaluate our model\nperformance, and having samples in common with the train dataset will\nlead to biased metrics, which does not represent the real performance we\nwill get in a real scenario. Therefore, we always want to avoid samples\nmix.\n\nRun the check\n-------------\n\nWe will run the check on the iris dataset.\n"
      ]
    },
    {
      "cell_type": "code",
      "execution_count": null,
      "metadata": {
        "collapsed": false
      },
      "outputs": [],
      "source": [
        "from deepchecks.tabular import Dataset\nfrom deepchecks.tabular.checks.methodology import TrainTestSamplesMix\nfrom deepchecks.tabular.datasets.classification import iris\n\n# Create data with leakage from train to test\ntrain, test = iris.load_data()\nbad_test_df = test.data.append(train.data.iloc[[0, 1, 1, 2, 3, 4, 2, 2, 10]], ignore_index=True)\nbad_test = test.copy(bad_test_df)\n\ncheck = TrainTestSamplesMix()\nresult = check.run(test_dataset=bad_test, train_dataset=train)\nresult"
      ]
    },
    {
      "cell_type": "markdown",
      "metadata": {},
      "source": [
        "Define a condition\n==================\n\nWe can define a condition that enforces that the ratio of samples in\ntest which appears in train is below a given amount, the default is\n[0.1]{.title-ref}.\n"
      ]
    },
    {
      "cell_type": "code",
      "execution_count": null,
      "metadata": {
        "collapsed": false
      },
      "outputs": [],
      "source": [
        "check = TrainTestSamplesMix().add_condition_duplicates_ratio_not_greater_than()\nresult = check.run(test_dataset=bad_test, train_dataset=train)\nresult.show(show_additional_outputs=False)"
      ]
    }
  ],
  "metadata": {
    "kernelspec": {
      "display_name": "Python 3",
      "language": "python",
      "name": "python3"
    },
    "language_info": {
      "codemirror_mode": {
        "name": "ipython",
        "version": 3
      },
      "file_extension": ".py",
      "mimetype": "text/x-python",
      "name": "python",
      "nbconvert_exporter": "python",
      "pygments_lexer": "ipython3",
      "version": "3.9.12"
    }
  },
  "nbformat": 4,
  "nbformat_minor": 0
}