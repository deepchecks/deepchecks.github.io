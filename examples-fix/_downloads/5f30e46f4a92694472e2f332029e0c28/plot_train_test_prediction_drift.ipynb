{
  "cells": [
    {
      "cell_type": "code",
      "execution_count": null,
      "metadata": {
        "collapsed": false
      },
      "outputs": [],
      "source": [
        "%matplotlib inline"
      ]
    },
    {
      "cell_type": "markdown",
      "metadata": {},
      "source": [
        "Train Test Prediction Drift\n===========================\n\nThis notebooks provides an overview for using and understanding the\ntabular prediction drift check.\n\n**Structure:**\n\n-   [What is prediction drift?](#what-is-prediction-drift)\n-   [Generate Data](#generate-data)\n-   [Build Model](#build-model)\n-   [Run check](#run-check)\n\nWhat Is Prediction Drift?\n-------------------------\n\nThe term drift (and all it\\'s derivatives) is used to describe any\nchange in the data compared to the data the model was trained on.\nPrediction drift refers to the case in which a change in the data\n(data/feature drift) has happened and as a result, the distribution of\nthe models\\' prediction has changed.\n\nCalculating prediction drift is especially useful in cases in which\nlabels are not available for the test dataset, and so a drift in the\npredictions is our only indication that a changed has happened in the\ndata that actually affects model predictions. If labels are available,\nit\\'s also recommended to run the [Label Drift\nCheck](/examples/tabular/checks/distribution/examples/plot_train_test_label_drift.html).\n\nThere are two main causes for prediction drift:\n\n-   A change in the sample population. In this case, the underline\n    phenomenon we\\'re trying to predict behaves the same, but we\\'re not\n    getting the same types of samples. For example, Iris Virginica stops\n    growing and is not being predicted by the model trained to classify\n    Iris species.\n-   Concept drift, which means that the underline relation between the\n    data and the label has changed. For example, we\\'re trying to\n    predict income based on food spending, but ongoing inflation effect\n    prices. It\\'s important to note that concept drift won\\'t\n    necessarily result in prediction drift, unless it affects features\n    that are of high importance to the model.\n\nHow Does the TrainTestPredictionDrift Check Work?\n-------------------------------------------------\n\nThere are many methods to detect drift, that usually include statistical\nmethods that aim to measure difference between 2 distributions. We\nexperimented with various approaches and found that for detecting drift\nbetween 2 one-dimensional distributions, the following 2 methods give\nthe best results:\n\n-   For regression problems, the [Population Stability Index\n    (PSI)](https://www.lexjansen.com/wuss/2017/47_Final_Paper_PDF.pdf)\n-   For classification problems, the [Wasserstein Distance (Earth\n    Mover\\'s\n    Distance)](https://en.wikipedia.org/wiki/Wasserstein_metric)\n"
      ]
    },
    {
      "cell_type": "code",
      "execution_count": null,
      "metadata": {
        "collapsed": false
      },
      "outputs": [],
      "source": [
        "from sklearn.preprocessing import LabelEncoder\n\nfrom deepchecks.tabular.checks import TrainTestPredictionDrift\nfrom deepchecks.tabular.datasets.classification import adult"
      ]
    },
    {
      "cell_type": "markdown",
      "metadata": {},
      "source": [
        "Generate data\n=============\n"
      ]
    },
    {
      "cell_type": "code",
      "execution_count": null,
      "metadata": {
        "collapsed": false
      },
      "outputs": [],
      "source": [
        "label_name = 'income'\ntrain_ds, test_ds = adult.load_data()\nencoder = LabelEncoder()\ntrain_ds.data[label_name] = encoder.fit_transform(train_ds.data[label_name])\ntest_ds.data[label_name] = encoder.transform(test_ds.data[label_name])"
      ]
    },
    {
      "cell_type": "markdown",
      "metadata": {},
      "source": [
        "Introducing drift:\n"
      ]
    },
    {
      "cell_type": "code",
      "execution_count": null,
      "metadata": {
        "collapsed": false
      },
      "outputs": [],
      "source": [
        "test_ds.data['education-num'] = 13\ntest_ds.data['education'] = ' Bachelors'"
      ]
    },
    {
      "cell_type": "markdown",
      "metadata": {},
      "source": [
        "Build Model\n===========\n"
      ]
    },
    {
      "cell_type": "code",
      "execution_count": null,
      "metadata": {
        "collapsed": false
      },
      "outputs": [],
      "source": [
        "from sklearn.compose import ColumnTransformer\nfrom sklearn.ensemble import RandomForestClassifier\nfrom sklearn.impute import SimpleImputer\nfrom sklearn.pipeline import Pipeline\nfrom sklearn.preprocessing import OrdinalEncoder"
      ]
    },
    {
      "cell_type": "code",
      "execution_count": null,
      "metadata": {
        "collapsed": false
      },
      "outputs": [],
      "source": [
        "numeric_transformer = SimpleImputer()\ncategorical_transformer = Pipeline(\n    steps=[(\"imputer\", SimpleImputer(strategy=\"most_frequent\")), (\"encoder\", OrdinalEncoder())]\n)\n\ntrain_ds.features\npreprocessor = ColumnTransformer(\n    transformers=[\n        (\"num\", numeric_transformer, train_ds.numerical_features),\n        (\"cat\", categorical_transformer, train_ds.cat_features),\n    ]\n)\n\nmodel = Pipeline(steps=[(\"preprocessing\", preprocessor), (\"model\", RandomForestClassifier(max_depth=5, n_jobs=-1))])\nmodel = model.fit(train_ds.data[train_ds.features], train_ds.data[train_ds.label_name])"
      ]
    },
    {
      "cell_type": "markdown",
      "metadata": {},
      "source": [
        "Run check\n=========\n"
      ]
    },
    {
      "cell_type": "code",
      "execution_count": null,
      "metadata": {
        "collapsed": false
      },
      "outputs": [],
      "source": [
        "check = TrainTestPredictionDrift()\nresult = check.run(train_dataset=train_ds, test_dataset=test_ds, model=model)\nresult"
      ]
    }
  ],
  "metadata": {
    "kernelspec": {
      "display_name": "Python 3",
      "language": "python",
      "name": "python3"
    },
    "language_info": {
      "codemirror_mode": {
        "name": "ipython",
        "version": 3
      },
      "file_extension": ".py",
      "mimetype": "text/x-python",
      "name": "python",
      "nbconvert_exporter": "python",
      "pygments_lexer": "ipython3",
      "version": "3.9.12"
    }
  },
  "nbformat": 4,
  "nbformat_minor": 0
}