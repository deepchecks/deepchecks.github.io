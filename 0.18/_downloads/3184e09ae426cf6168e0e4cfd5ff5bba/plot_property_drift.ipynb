{
  "cells": [
    {
      "cell_type": "markdown",
      "metadata": {},
      "source": [
        "NLP Property Drift {#nlp__property_drift}\n==================\n\nThis notebooks provides an overview for using and understanding the nlp\nproperty drift check.\n\n**Structure:**\n\n-   [Calculating Drift for Text Data](#calculating-drift-for-text-data)\n-   [Prepare data](#prepare-data)\n-   [Run the check](#run-the-check)\n-   [Define a condition](#define-a-condition)\n-   [Check Parameters](#check-parameters)\n\nCalculating Drift for Text Data\n-------------------------------\n\n### What is Drift?\n\nDrift is simply a change in the distribution of data over time, and it\nis also one of the top reasons why machine learning model\\'s performance\ndegrades over time.\n\nFor more information on drift, please visit our\n`drift_user_guide`{.interpreted-text role=\"ref\"}.\n\n### How Deepchecks Detects Drift in NLP Data\n\nThis check detects drift by in NLP Data by calculated\n`univariate drift measures <drift_detection_by_univariate_measure>`{.interpreted-text\nrole=\"ref\"} for each of the\n`text property <nlp__properties_guide>`{.interpreted-text role=\"ref\"}\n(such as text length, language etc.) that are present in the train and\ntest datasets.\n\nThis check is easy to run (once the properties are calculated once per\ndataset) and is useful for detecting easily explainable changes in the\ndata. For example, if you have started to use new data sources that\ncontain samples in a new language, this check will detect it and show\nyou a high drift score for the language property.\n\n### Which NLP Properties Are Used?\n\nBy default the checks uses the properties that where calculated for the\ntrain and test datasets, which by default are the built-in text\nproperties. It\\'s also possible to replace the default properties with\ncustom ones. For the list of the built-in text properties and\nexplanation about custom properties refer to `NLP properties\n<nlp__properties_guide>`{.interpreted-text role=\"ref\"}.\n\n::: {.note}\n::: {.title}\nNote\n:::\n\nIf a property was not calculated for a sample (for example, if it\napplies only to English samples and the sample is in another language),\nit will contain a nan value and will be ignored when calculating the\ndrift.\n:::\n\nPrepare data\n------------\n"
      ]
    },
    {
      "cell_type": "code",
      "execution_count": null,
      "metadata": {
        "collapsed": false
      },
      "outputs": [],
      "source": [
        "from deepchecks.nlp.datasets.classification.tweet_emotion import load_data\n\ntrain_dataset, test_dataset = load_data()\n\n# # Calculate properties, commented out because it takes a short while to run\n# train_dataset.calculate_builtin_properties(include_long_calculation_properties=True)\n# test_dataset.calculate_builtin_properties(include_long_calculation_properties=True)"
      ]
    },
    {
      "cell_type": "markdown",
      "metadata": {},
      "source": [
        "Run the check\n=============\n"
      ]
    },
    {
      "cell_type": "code",
      "execution_count": null,
      "metadata": {
        "collapsed": false
      },
      "outputs": [],
      "source": [
        "from deepchecks.nlp.checks import PropertyDrift\ncheck_result = PropertyDrift().run(train_dataset, test_dataset)\ncheck_result"
      ]
    },
    {
      "cell_type": "markdown",
      "metadata": {},
      "source": [
        "We can see that there isn\\'t any significant drift in the data. We can\nsee some slight increase in the formality of the text samples in the\ntest dataset.\n\nTo display the results in an IDE like PyCharm, you can use the following\ncode:\n"
      ]
    },
    {
      "cell_type": "code",
      "execution_count": null,
      "metadata": {
        "collapsed": false
      },
      "outputs": [],
      "source": [
        "#  check_result.show_in_window()"
      ]
    },
    {
      "cell_type": "markdown",
      "metadata": {},
      "source": [
        "The result will be displayed in a new window.\n"
      ]
    },
    {
      "cell_type": "markdown",
      "metadata": {},
      "source": [
        "Observe the check's output\n==========================\n\nThe result value is a dict that contains drift score and method used for\neach text property.\n"
      ]
    },
    {
      "cell_type": "code",
      "execution_count": null,
      "metadata": {
        "collapsed": false
      },
      "outputs": [],
      "source": [
        "check_result.value"
      ]
    },
    {
      "cell_type": "markdown",
      "metadata": {},
      "source": [
        "Define a condition\n==================\n\nWe can define a condition that make sure that nlp properties drift\nscores do not exceed allowed threshold.\n"
      ]
    },
    {
      "cell_type": "code",
      "execution_count": null,
      "metadata": {
        "collapsed": false
      },
      "outputs": [],
      "source": [
        "check_result = (\n    PropertyDrift()\n    .add_condition_drift_score_less_than(0.001)\n    .run(train_dataset, test_dataset)\n)\ncheck_result.show(show_additional_outputs=False)"
      ]
    },
    {
      "cell_type": "markdown",
      "metadata": {},
      "source": [
        "Check Parameters\n================\n\nThe Property Drift Check can define a list of properties to use for the\ndrift check, or a list to exclude using the `properties` and\n`ignore_properties` parameters.\n\nOn top of that the Property Drift Check supports several parameters\npertaining to the way drift is calculated and displayed. Information\nabout the most relevant of them can be found in the\n`drift_user_guide`{.interpreted-text role=\"ref\"}.\n"
      ]
    }
  ],
  "metadata": {
    "kernelspec": {
      "display_name": "Python 3",
      "language": "python",
      "name": "python3"
    },
    "language_info": {
      "codemirror_mode": {
        "name": "ipython",
        "version": 3
      },
      "file_extension": ".py",
      "mimetype": "text/x-python",
      "name": "python",
      "nbconvert_exporter": "python",
      "pygments_lexer": "ipython3",
      "version": "3.9.18"
    }
  },
  "nbformat": 4,
  "nbformat_minor": 0
}