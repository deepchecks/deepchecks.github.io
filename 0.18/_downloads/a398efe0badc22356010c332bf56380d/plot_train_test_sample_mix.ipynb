{
  "cells": [
    {
      "cell_type": "markdown",
      "metadata": {},
      "source": [
        "Train-Test Samples Mix {#nlp__train_test_samples_mix}\n======================\n\nThis notebook provides an overview for using and understanding the\ntrain-test samples mix check:\n\n**Structure:**\n\n-   [Why check for train-test samples\n    mix?](#why-check-for-train-test-samples-mix)\n-   [Create TextData for Train and Test\n    Sets](#create-textdata-for-train-and-test-sets)\n-   [Run the Check](#run-the-check)\n-   [Define a Condition](#define-a-condition)\n\nWhy check for train-test samples mix?\n-------------------------------------\n\nThe `TrainTestSamplesMix` check finds instances of identical or nearly\nidentical (see [text normalization](#with-text-normalization)) samples\nin both the train and test datasets. If such samples are present\nunintentionally, it may lead to data leakage, which can result in overly\noptimistic model performance estimates during evaluation. Identifying\nand addressing such issues is crucial to ensure the model performs well\non unseen data.\n\nCreate TextData for Train and Test Sets\n---------------------------------------\n\nLet\\'s create train and test datasets with some overlapping and similar\ntext samples.\n"
      ]
    },
    {
      "cell_type": "code",
      "execution_count": null,
      "metadata": {
        "collapsed": false
      },
      "outputs": [],
      "source": [
        "from deepchecks.nlp.checks import TrainTestSamplesMix\nfrom deepchecks.nlp import TextData\n\ntrain_texts = [\n    \"Deep learning is a subset of machine learning.\",\n    \"Deep learning is a subset of machine learning.\",\n    \"Deep learning is a sub-set of Machine Learning.\",\n    \"Natural language processing is a subfield of AI.\",]\n\ntest_texts = [\n    \"Deep learning is a subset of machine learning.\",\n    \"Deep learning is subset of machine learning\",\n    \"Machine learning is a subfield of AI.\",\n    \"This is a unique text sample in the test set.\",\n    \"This is another unique text in the test set.\",\n]\n\ntrain_dataset = TextData(train_texts)\ntest_dataset = TextData(test_texts)"
      ]
    },
    {
      "cell_type": "markdown",
      "metadata": {},
      "source": [
        "Run the Check\n=============\n"
      ]
    },
    {
      "cell_type": "code",
      "execution_count": null,
      "metadata": {
        "collapsed": false
      },
      "outputs": [],
      "source": [
        "# Run the check without any text normalization\ncheck = TrainTestSamplesMix(\n    ignore_case=False,\n    remove_punctuation=False,\n    normalize_unicode=False,\n    remove_stopwords=False,\n    ignore_whitespace=False\n)\nresult = check.run(train_dataset, test_dataset)\nresult.show()"
      ]
    },
    {
      "cell_type": "markdown",
      "metadata": {},
      "source": [
        "With Text Normalization\n=======================\n\nBy default, `TrainTestSamplesMix` check applies text normalization\nbefore identifying the duplicates. This includes case normalization,\npunctuation removal, Unicode normalization and stopwords removal. You\ncan also customize the normalization as per your requirements:\n"
      ]
    },
    {
      "cell_type": "code",
      "execution_count": null,
      "metadata": {
        "collapsed": false
      },
      "outputs": [],
      "source": [
        "check = TrainTestSamplesMix(\n    ignore_case=True,\n    remove_punctuation=True,\n    normalize_unicode=True,\n    remove_stopwords=True,\n    ignore_whitespace=True\n)\nresult = check.run(train_dataset, test_dataset)\nresult.show()"
      ]
    },
    {
      "cell_type": "markdown",
      "metadata": {},
      "source": [
        "Of all the parameters in this example, `ignore_whitespace` is the only\none set to `False` by default.\n\nDefine a Condition\n==================\n\nNow, we define a condition that enforces the ratio of duplicates to be\n0. A condition is deepchecks\\' way to validate model and data quality,\nand let you know if anything goes wrong.\n"
      ]
    },
    {
      "cell_type": "code",
      "execution_count": null,
      "metadata": {
        "collapsed": false
      },
      "outputs": [],
      "source": [
        "check = TrainTestSamplesMix()\ncheck.add_condition_duplicates_ratio_less_or_equal(0)\nresult = check.run(train_dataset, test_dataset)\nresult.show(show_additional_outputs=False)"
      ]
    }
  ],
  "metadata": {
    "kernelspec": {
      "display_name": "Python 3",
      "language": "python",
      "name": "python3"
    },
    "language_info": {
      "codemirror_mode": {
        "name": "ipython",
        "version": 3
      },
      "file_extension": ".py",
      "mimetype": "text/x-python",
      "name": "python",
      "nbconvert_exporter": "python",
      "pygments_lexer": "ipython3",
      "version": "3.9.18"
    }
  },
  "nbformat": 4,
  "nbformat_minor": 0
}