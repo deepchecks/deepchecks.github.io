{
  "cells": [
    {
      "cell_type": "markdown",
      "metadata": {},
      "source": [
        "Single Dataset Performance {#vision__single_dataset_performance}\n==========================\n\nThis notebooks provides an overview for using and understanding single\ndataset performance check.\n\n**Structure:**\n\n-   [What Is the Purpose of the\n    Check?](#what-is-the-purpose-of-the-check)\n-   [Generate Dataset](#generate-dataset)\n-   [Run the check](#run-the-check)\n-   [Define a condition](#define-a-condition)\n\nWhat Is the Purpose of the Check?\n---------------------------------\n\nThis check returns the results from a dict of metrics, in the format\nmetric name: scorer, calculated for the given model dataset. The scorer\nshould be either a sklearn scorer or a custom metric (see\n`metrics_user_guide`{.interpreted-text role=\"ref\"} for further details).\nUse this check to evaluate the performance on a single vision dataset\nsuch as a test set.\n"
      ]
    },
    {
      "cell_type": "markdown",
      "metadata": {},
      "source": [
        "Generate Dataset\n================\n\n::: {.note}\n::: {.title}\nNote\n:::\n\nIn this example, we use the pytorch version of the mnist dataset and\nmodel. In order to run this example using tensorflow, please change the\nimport statements to:\n\nfrom deepchecks.vision.datasets.classification import mnist\\_tensorflow\nas mnist\n:::\n"
      ]
    },
    {
      "cell_type": "code",
      "execution_count": null,
      "metadata": {
        "collapsed": false
      },
      "outputs": [],
      "source": [
        "from deepchecks.vision.checks import SingleDatasetPerformance\nfrom deepchecks.vision.datasets.classification import mnist_torch as mnist"
      ]
    },
    {
      "cell_type": "code",
      "execution_count": null,
      "metadata": {
        "collapsed": false
      },
      "outputs": [],
      "source": [
        "train_ds = mnist.load_dataset(train=True, object_type='VisionData')"
      ]
    },
    {
      "cell_type": "markdown",
      "metadata": {},
      "source": [
        "Run the check\n=============\n\nThe check will use the default classification metrics - precision and\nrecall.\n"
      ]
    },
    {
      "cell_type": "code",
      "execution_count": null,
      "metadata": {
        "collapsed": false
      },
      "outputs": [],
      "source": [
        "check = SingleDatasetPerformance()\nresult = check.run(train_ds)\nresult.show()"
      ]
    },
    {
      "cell_type": "markdown",
      "metadata": {},
      "source": [
        "To display the results in an IDE like PyCharm, you can use the following\ncode:\n"
      ]
    },
    {
      "cell_type": "code",
      "execution_count": null,
      "metadata": {
        "collapsed": false
      },
      "outputs": [],
      "source": [
        "#  result.show_in_window()"
      ]
    },
    {
      "cell_type": "markdown",
      "metadata": {},
      "source": [
        "The result will be displayed in a new window.\n"
      ]
    },
    {
      "cell_type": "markdown",
      "metadata": {},
      "source": [
        "Now we will run a check with a metric different from the defaults- F-1.\nYou can read more about setting metrics in the\n`Metrics Guide <metrics_user_guide>`{.interpreted-text role=\"ref\"}.\n"
      ]
    },
    {
      "cell_type": "code",
      "execution_count": null,
      "metadata": {
        "collapsed": false
      },
      "outputs": [],
      "source": [
        "check = SingleDatasetPerformance(scorers={'f1': 'f1_per_class'})\nresult = check.run(train_ds)\nresult"
      ]
    },
    {
      "cell_type": "markdown",
      "metadata": {},
      "source": [
        "Define a Condition\n==================\n\nWe can define a condition to validate that our model performance score\nis above or below a certain threshold. The condition is defined as a\nfunction that takes the results of the check as input and returns a\nConditionResult object.\n"
      ]
    },
    {
      "cell_type": "code",
      "execution_count": null,
      "metadata": {
        "collapsed": false
      },
      "outputs": [],
      "source": [
        "check = SingleDatasetPerformance()\ncheck.add_condition_greater_than(0.5)\nresult = check.run(train_ds)\nresult.show(show_additional_outputs=False)"
      ]
    },
    {
      "cell_type": "markdown",
      "metadata": {},
      "source": [
        "We can also define a condition on a specific metric (or a subset of the\nmetrics) that was passed to the check and a specific class, instead of\ntesting all the metrics and all the classes which is the default mode.\n"
      ]
    },
    {
      "cell_type": "code",
      "execution_count": null,
      "metadata": {
        "collapsed": false
      },
      "outputs": [],
      "source": [
        "check = SingleDatasetPerformance()\ncheck.add_condition_greater_than(0.8, metrics=['Precision'], class_mode='3')\nresult = check.run(train_ds)\nresult.show(show_additional_outputs=False)"
      ]
    }
  ],
  "metadata": {
    "kernelspec": {
      "display_name": "Python 3",
      "language": "python",
      "name": "python3"
    },
    "language_info": {
      "codemirror_mode": {
        "name": "ipython",
        "version": 3
      },
      "file_extension": ".py",
      "mimetype": "text/x-python",
      "name": "python",
      "nbconvert_exporter": "python",
      "pygments_lexer": "ipython3",
      "version": "3.9.18"
    }
  },
  "nbformat": 4,
  "nbformat_minor": 0
}