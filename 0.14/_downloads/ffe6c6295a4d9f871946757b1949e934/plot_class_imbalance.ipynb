{
  "cells": [
    {
      "cell_type": "markdown",
      "metadata": {},
      "source": [
        "Class Imbalance {#tabular__class_imbalance}\n===============\n\nThis notebook provides an overview for using and understanding the Class\nImbalance check.\n\n**Structure:**\n\n-   [What is the Class Imbalance\n    check](#what-is-the-class-imbalance-check)\n-   [Generate data](#generate-data)\n-   [Run the check](#run-the-check)\n-   [Define a condition](#define-a-condition)\n\nWhat is the Class Imbalance check\n---------------------------------\n\nThe `ClassImbalance` check produces a distribution of the target\nvariable. An indication for an imbalanced dataset is an uneven\ndistribution in label classes.\n\nAn imbalanced dataset poses its own challenges, namely learning the\ncharacteristics of the minority label, scarce minority instances to\ntrain on (or test for) and defining the right evaluation metric.\n\nAlbeit, there are many techniques to address these challenges, including\nartificially increasing the minority sample size (by over-sampling or\nusing SMOTE), drop instances from the majority class (under-sampling),\nusing regularization, and adjusting the label classes weights.\n"
      ]
    },
    {
      "cell_type": "markdown",
      "metadata": {},
      "source": [
        "Imports\n=======\n"
      ]
    },
    {
      "cell_type": "code",
      "execution_count": null,
      "metadata": {
        "collapsed": false
      },
      "outputs": [],
      "source": [
        "from deepchecks.tabular import Dataset\nfrom deepchecks.tabular.checks import ClassImbalance\nfrom deepchecks.tabular.datasets.classification import lending_club"
      ]
    },
    {
      "cell_type": "markdown",
      "metadata": {},
      "source": [
        "Generate data\n=============\n"
      ]
    },
    {
      "cell_type": "code",
      "execution_count": null,
      "metadata": {
        "collapsed": false
      },
      "outputs": [],
      "source": [
        "df = lending_club.load_data(data_format='Dataframe', as_train_test=False)\ndataset = Dataset(df, label='loan_status', features=['id', 'loan_amnt'], cat_features=[])"
      ]
    },
    {
      "cell_type": "markdown",
      "metadata": {},
      "source": [
        "Run the check\n=============\n"
      ]
    },
    {
      "cell_type": "code",
      "execution_count": null,
      "metadata": {
        "collapsed": false
      },
      "outputs": [],
      "source": [
        "ClassImbalance().run(dataset)"
      ]
    },
    {
      "cell_type": "markdown",
      "metadata": {},
      "source": [
        "Skew the target variable and run the check\n==========================================\n"
      ]
    },
    {
      "cell_type": "code",
      "execution_count": null,
      "metadata": {
        "collapsed": false
      },
      "outputs": [],
      "source": [
        "df.loc[df.sample(frac=0.7, random_state=0).index, 'loan_status'] = 1\ndataset = Dataset(df, label='loan_status', features=['id', 'loan_amnt'], cat_features=[])\nClassImbalance().run(dataset)"
      ]
    },
    {
      "cell_type": "markdown",
      "metadata": {},
      "source": [
        "Define a condition\n==================\n\nA manually defined ratio between the labels can also be set:\n"
      ]
    },
    {
      "cell_type": "code",
      "execution_count": null,
      "metadata": {
        "collapsed": false
      },
      "outputs": [],
      "source": [
        "ClassImbalance().add_condition_class_ratio_less_than(0.15).run(dataset)"
      ]
    }
  ],
  "metadata": {
    "kernelspec": {
      "display_name": "Python 3",
      "language": "python",
      "name": "python3"
    },
    "language_info": {
      "codemirror_mode": {
        "name": "ipython",
        "version": 3
      },
      "file_extension": ".py",
      "mimetype": "text/x-python",
      "name": "python",
      "nbconvert_exporter": "python",
      "pygments_lexer": "ipython3",
      "version": "3.9.16"
    }
  },
  "nbformat": 4,
  "nbformat_minor": 0
}