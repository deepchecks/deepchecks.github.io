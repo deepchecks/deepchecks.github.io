{
  "cells": [
    {
      "cell_type": "code",
      "execution_count": null,
      "metadata": {
        "collapsed": false
      },
      "outputs": [],
      "source": [
        "%matplotlib inline"
      ]
    },
    {
      "cell_type": "markdown",
      "metadata": {},
      "source": [
        "Regression Error Distribution {#plot_tabular_regression_error_distribution}\n=============================\n\nThis notebook provides an overview for using and understanding the\nRegression Error Distribution check.\n\n**Structure:**\n\n-   [What is the Regression Error Distribution\n    check?](#what-is-the-regression-error-distribution-check)\n-   [Run the check - normal\n    distribution](#run-the-check-normal-distribution)\n-   [Run the check - abnormal\n    distribution](#run-the-check-abnormal-distribution)\n\nWhat is the Regression Error Distribution check?\n------------------------------------------------\n\nThe `RegressionErrorDistribution` check shows the distribution of the\nregression error, and enables to set conditions on the distribution\\'s\nkurtosis. Kurtosis is a measure of the shape of the distribution,\nhelping us understand if the distribution is significantly \\\"wider\\\"\nfrom the normal distribution, which may imply a certain cause of error\ndeforming the normal shape.\n"
      ]
    },
    {
      "cell_type": "markdown",
      "metadata": {},
      "source": [
        "Imports\n=======\n"
      ]
    },
    {
      "cell_type": "code",
      "execution_count": null,
      "metadata": {
        "collapsed": false
      },
      "outputs": [],
      "source": [
        "from sklearn.datasets import load_diabetes\nfrom sklearn.ensemble import GradientBoostingRegressor\nfrom sklearn.model_selection import train_test_split\n\nfrom deepchecks.tabular import Dataset\nfrom deepchecks.tabular.checks import RegressionErrorDistribution"
      ]
    },
    {
      "cell_type": "markdown",
      "metadata": {},
      "source": [
        "Run the check - normal distribution\n===================================\n"
      ]
    },
    {
      "cell_type": "markdown",
      "metadata": {},
      "source": [
        "Generate data & model\n=====================\n"
      ]
    },
    {
      "cell_type": "code",
      "execution_count": null,
      "metadata": {
        "collapsed": false
      },
      "outputs": [],
      "source": [
        "diabetes_df = load_diabetes(return_X_y=False, as_frame=True).frame\ntrain_df, test_df = train_test_split(diabetes_df, test_size=0.33, random_state=42)\n\ntrain = Dataset(train_df, label='target', cat_features=['sex'])\ntest = Dataset(test_df, label='target', cat_features=['sex'])\n\nclf = GradientBoostingRegressor(random_state=0)\n_ = clf.fit(train.data[train.features], train.data[train.label_name])"
      ]
    },
    {
      "cell_type": "markdown",
      "metadata": {},
      "source": [
        "Run the check (normal distribution)\n===================================\n\nSince the following distribution resembles the normal distribution, the\nkurtosis will be \\~0.\n"
      ]
    },
    {
      "cell_type": "code",
      "execution_count": null,
      "metadata": {
        "collapsed": false
      },
      "outputs": [],
      "source": [
        "check = RegressionErrorDistribution()\ncheck.run(test, clf)"
      ]
    },
    {
      "cell_type": "markdown",
      "metadata": {},
      "source": [
        "Skewing the data\n================\n"
      ]
    },
    {
      "cell_type": "code",
      "execution_count": null,
      "metadata": {
        "collapsed": false
      },
      "outputs": [],
      "source": [
        "test.data[test.label_name] = 150"
      ]
    },
    {
      "cell_type": "markdown",
      "metadata": {},
      "source": [
        "Run the check - abnormal distribution\n=====================================\n"
      ]
    },
    {
      "cell_type": "code",
      "execution_count": null,
      "metadata": {
        "collapsed": false
      },
      "outputs": [],
      "source": [
        "check = RegressionErrorDistribution()\ncheck.run(test, clf)"
      ]
    },
    {
      "cell_type": "markdown",
      "metadata": {},
      "source": [
        "Define a condition\n==================\n\nSince we artificially skewed the target variable, the kurtosis would be\nbigger than the previous check, which implies a certain cause of error.\n"
      ]
    },
    {
      "cell_type": "code",
      "execution_count": null,
      "metadata": {
        "collapsed": false
      },
      "outputs": [],
      "source": [
        "check = RegressionErrorDistribution()\ncheck.add_condition_kurtosis_greater_than(0.1).run(test, clf)"
      ]
    }
  ],
  "metadata": {
    "kernelspec": {
      "display_name": "Python 3",
      "language": "python",
      "name": "python3"
    },
    "language_info": {
      "codemirror_mode": {
        "name": "ipython",
        "version": 3
      },
      "file_extension": ".py",
      "mimetype": "text/x-python",
      "name": "python",
      "nbconvert_exporter": "python",
      "pygments_lexer": "ipython3",
      "version": "3.9.15"
    }
  },
  "nbformat": 4,
  "nbformat_minor": 0
}