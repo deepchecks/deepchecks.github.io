{
  "cells": [
    {
      "cell_type": "code",
      "execution_count": null,
      "metadata": {
        "collapsed": false
      },
      "outputs": [],
      "source": [
        "%matplotlib inline"
      ]
    },
    {
      "cell_type": "markdown",
      "metadata": {},
      "source": [
        "Using Deepchecks Vision With a Few Lines of Code\n================================================\n\nDeepchecks Vision is built to validate your data and model, however\ncomplex your model and data may be. That being said, sometime there is\nno need to write a full-blown\n`ClassificationData </tutorials/vision/examples/plot_classification_tutorial>`{.interpreted-text\nrole=\"doc\"} or\n`DetectionData </tutorials/vision/examples/plot_detection_tutorial>`{.interpreted-text\nrole=\"doc\"}. In the case of a simple classification task, there is quite\na few checks that can be run writing only a few lines of code. In this\ntutorial, we will show you how to run all checks that do not require a\nmodel on a simple classification task.\n\nThis is ideal, for example, when receiving a new dataset for a\nclassification task. Running these checks on the dataset before even\nstarting with training will give you a quick idea of how the dataset\nlooks like and what potential issues it contains.\n"
      ]
    },
    {
      "cell_type": "markdown",
      "metadata": {},
      "source": [
        "Defining the data and model\n===========================\n\nThe data is available from the torch library. We will download and\nextract it to the current directory.\n"
      ]
    },
    {
      "cell_type": "code",
      "execution_count": null,
      "metadata": {
        "collapsed": false
      },
      "outputs": [],
      "source": [
        "import urllib.request\nimport zipfile\nimport os\n\nurl = 'https://download.pytorch.org/tutorial/hymenoptera_data.zip'\nurllib.request.urlretrieve(url, 'hymenoptera_data.zip')\n\nwith zipfile.ZipFile('hymenoptera_data.zip', 'r') as zip_ref:\n    zip_ref.extractall('.')\n\n# Rename val folder to test, because the simple classification task expects a test folder.\nif not os.path.exists('hymenoptera_data/test'):\n    os.rename('hymenoptera_data/val', 'hymenoptera_data/test')"
      ]
    },
    {
      "cell_type": "markdown",
      "metadata": {},
      "source": [
        "Loading a Simple Classification Dataset\n=======================================\n\nA simple classification dataset is an image dataset structured in the\nfollowing way:\n\n> -   \n>\n>     root/\n>\n>     :   -   \n>\n>             train/\n>\n>             :   -   \n>\n>                     class1/\n>\n>                     :   image1.jpeg\n>\n>         -   \n>\n>             test/\n>\n>             :   -   \n>\n>                     class1/\n>\n>                     :   image1.jpeg\n"
      ]
    },
    {
      "cell_type": "code",
      "execution_count": null,
      "metadata": {
        "collapsed": false
      },
      "outputs": [],
      "source": [
        "from deepchecks.vision.simple_classification_data import load_dataset\n\ntrain_ds = load_dataset('hymenoptera_data', train=True, object_type='VisionData', image_extension='jpg')\ntest_ds = load_dataset('hymenoptera_data', train=False, object_type='VisionData', image_extension='jpg')\n\n# Running Deepchecks' full suite\n# ==============================\n# That's it, we have just defined the classification data object and are ready to run the train_test_validation suite:\n\nfrom deepchecks.vision.suites import train_test_validation\n\nsuite = train_test_validation()\nresult = suite.run(train_ds, test_ds)"
      ]
    },
    {
      "cell_type": "markdown",
      "metadata": {},
      "source": [
        "Observing the results:\n======================\n\nThe results can be saved as a html file with the following code:\n"
      ]
    },
    {
      "cell_type": "code",
      "execution_count": null,
      "metadata": {
        "collapsed": false
      },
      "outputs": [],
      "source": [
        "result.save_as_html('output.html')"
      ]
    },
    {
      "cell_type": "markdown",
      "metadata": {},
      "source": [
        "Or, if working inside a notebook, the output can be displayed directly\nby simply printing the result object:\n"
      ]
    },
    {
      "cell_type": "code",
      "execution_count": null,
      "metadata": {
        "collapsed": false
      },
      "outputs": [],
      "source": [
        "result"
      ]
    }
  ],
  "metadata": {
    "kernelspec": {
      "display_name": "Python 3",
      "language": "python",
      "name": "python3"
    },
    "language_info": {
      "codemirror_mode": {
        "name": "ipython",
        "version": 3
      },
      "file_extension": ".py",
      "mimetype": "text/x-python",
      "name": "python",
      "nbconvert_exporter": "python",
      "pygments_lexer": "ipython3",
      "version": "3.9.12"
    }
  },
  "nbformat": 4,
  "nbformat_minor": 0
}