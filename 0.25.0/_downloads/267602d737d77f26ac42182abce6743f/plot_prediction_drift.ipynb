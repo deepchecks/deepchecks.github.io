{
  "cells": [
    {
      "cell_type": "markdown",
      "metadata": {},
      "source": [
        "Prediction Drift {#tabular__prediction_drift}\n================\n\nThis notebook provides an overview for using and understanding the\ntabular prediction drift check.\n\n**Structure:**\n\n-   [What Is Prediction Drift?](#what-is-prediction-drift)\n-   [Generate Data](#generate-data)\n-   [Build Model](#build-model)\n-   [Run check](#run-check)\n\nWhat Is Prediction Drift?\n-------------------------\n\nDrift is simply a change in the distribution of data over time, and it\nis also one of the top reasons why machine learning model\\'s performance\ndegrades over time.\n\nPrediction drift is when drift occurs in the prediction itself.\nCalculating prediction drift is especially useful in cases in which\nlabels are not available for the test dataset, and so a drift in the\npredictions is our only indication that a changed has happened in the\ndata that actually affects model predictions. If labels are available,\nit\\'s also recommended to run the\n`Label Drift check <tabular__label_drift>`{.interpreted-text\nrole=\"ref\"}.\n\nFor more information on drift, please visit our\n`Drift Guide <drift_user_guide>`{.interpreted-text role=\"ref\"}.\n\n### How Deepchecks Detects Prediction Drift\n\nThis check detects prediction drift by using\n`univariate measures <drift_detection_by_univariate_measure>`{.interpreted-text\nrole=\"ref\"} on the prediction output.\n"
      ]
    },
    {
      "cell_type": "code",
      "execution_count": null,
      "metadata": {
        "collapsed": false
      },
      "outputs": [],
      "source": [
        "from sklearn.preprocessing import LabelEncoder\n\nfrom deepchecks.tabular.checks import PredictionDrift\nfrom deepchecks.tabular.datasets.classification import adult"
      ]
    },
    {
      "cell_type": "markdown",
      "metadata": {},
      "source": [
        "Generate data\n=============\n"
      ]
    },
    {
      "cell_type": "code",
      "execution_count": null,
      "metadata": {
        "collapsed": false
      },
      "outputs": [],
      "source": [
        "label_name = 'income'\ntrain_ds, test_ds = adult.load_data()"
      ]
    },
    {
      "cell_type": "markdown",
      "metadata": {},
      "source": [
        "Introducing drift:\n"
      ]
    },
    {
      "cell_type": "code",
      "execution_count": null,
      "metadata": {
        "collapsed": false
      },
      "outputs": [],
      "source": [
        "test_ds.data['education-num'] = 13\ntest_ds.data['education'] = ' Bachelors'"
      ]
    },
    {
      "cell_type": "markdown",
      "metadata": {},
      "source": [
        "Build Model\n===========\n"
      ]
    },
    {
      "cell_type": "code",
      "execution_count": null,
      "metadata": {
        "collapsed": false
      },
      "outputs": [],
      "source": [
        "from sklearn.compose import ColumnTransformer\nfrom sklearn.ensemble import RandomForestClassifier\nfrom sklearn.impute import SimpleImputer\nfrom sklearn.pipeline import Pipeline\nfrom sklearn.preprocessing import OrdinalEncoder"
      ]
    },
    {
      "cell_type": "code",
      "execution_count": null,
      "metadata": {
        "collapsed": false
      },
      "outputs": [],
      "source": [
        "numeric_transformer = SimpleImputer()\ncategorical_transformer = Pipeline(\n    steps=[(\"imputer\", SimpleImputer(strategy=\"most_frequent\")), (\"encoder\", OrdinalEncoder())]\n)\n\ntrain_ds.features\npreprocessor = ColumnTransformer(\n    transformers=[\n        (\"num\", numeric_transformer, train_ds.numerical_features),\n        (\"cat\", categorical_transformer, train_ds.cat_features),\n    ]\n)\n\nmodel = Pipeline(steps=[(\"preprocessing\", preprocessor), (\"model\", RandomForestClassifier(max_depth=5, n_jobs=-1))])\nmodel = model.fit(train_ds.data[train_ds.features], train_ds.data[train_ds.label_name])"
      ]
    },
    {
      "cell_type": "markdown",
      "metadata": {},
      "source": [
        "Run check\n=========\n"
      ]
    },
    {
      "cell_type": "code",
      "execution_count": null,
      "metadata": {
        "collapsed": false
      },
      "outputs": [],
      "source": [
        "check = PredictionDrift()\nresult = check.run(train_dataset=train_ds, test_dataset=test_ds, model=model)\nresult"
      ]
    },
    {
      "cell_type": "markdown",
      "metadata": {},
      "source": [
        "The prediction drift check can also calculate drift on the predicted\nclasses rather than the probabilities. This is the default behavior for\nmulticlass tasks. To force this behavior for binary tasks, set the\n`drift_mode` parameter to `prediction`.\n"
      ]
    },
    {
      "cell_type": "code",
      "execution_count": null,
      "metadata": {
        "collapsed": false
      },
      "outputs": [],
      "source": [
        "check = PredictionDrift(drift_mode='prediction')\nresult = check.run(train_dataset=train_ds, test_dataset=test_ds, model=model)\nresult"
      ]
    }
  ],
  "metadata": {
    "kernelspec": {
      "display_name": "Python 3",
      "language": "python",
      "name": "python3"
    },
    "language_info": {
      "codemirror_mode": {
        "name": "ipython",
        "version": 3
      },
      "file_extension": ".py",
      "mimetype": "text/x-python",
      "name": "python",
      "nbconvert_exporter": "python",
      "pygments_lexer": "ipython3",
      "version": "3.8.18"
    }
  },
  "nbformat": 4,
  "nbformat_minor": 0
}