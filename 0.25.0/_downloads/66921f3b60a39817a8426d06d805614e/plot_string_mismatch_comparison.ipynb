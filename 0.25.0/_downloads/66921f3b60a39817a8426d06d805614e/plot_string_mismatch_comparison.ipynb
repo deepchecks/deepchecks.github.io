{
  "cells": [
    {
      "cell_type": "markdown",
      "metadata": {},
      "source": [
        "String Mismatch Comparison {#tabular__string_mismatch_comparison}\n==========================\n\nThis page provides an overview for using and understanding the \\\"String\nMismatch Comparison\\\" check.\n\n**Structure:**\n\n-   [What is the purpose of the\n    check?](#what-is-the-purpose-of-the-check)\n-   [Run check](#run-the-check)\n-   [Define a condition](#define-a-condition)\n\nWhat is the purpose of the check?\n---------------------------------\n\nThe check compares the same categorical column within train and test and\nchecks whether there are variants of similar strings that exists only in\ntest and not in train. Finding those mismatches is helpful to prevent\nerrors when inferring on the test data. For example, in train data we\nhave category \\'New York\\', and in our test data we have \\'new york\\'.\nWe would like to be acknowledged that the test data contain a new\nvariant of the train data, so we can address the problem.\n\n### How String Mismatch Defined?\n\nTo recognize string mismatch, we transform each string to it\\'s base\nform. The base form is the string with only its alphanumeric characters\nin lowercase. (For example \\\"Cat-9?!\\\" base form is \\\"cat9\\\"). If two\nstrings have the same base form, they are considered to be the same.\n"
      ]
    },
    {
      "cell_type": "code",
      "execution_count": null,
      "metadata": {
        "collapsed": false
      },
      "outputs": [],
      "source": [
        "import pandas as pd"
      ]
    },
    {
      "cell_type": "markdown",
      "metadata": {},
      "source": [
        "Run the Check\n=============\n"
      ]
    },
    {
      "cell_type": "code",
      "execution_count": null,
      "metadata": {
        "collapsed": false
      },
      "outputs": [],
      "source": [
        "from deepchecks.tabular.checks import StringMismatchComparison\n\ndata = {'col1': ['Deep', 'deep', 'deep!!!', 'earth', 'foo', 'bar', 'foo?']}\ncompared_data = {'col1': ['Deep', 'deep', '$deeP$', 'earth', 'foo', 'bar', 'foo?', '?deep']}\n\ncheck = StringMismatchComparison()\nresult = check.run(pd.DataFrame(data=data), pd.DataFrame(data=compared_data))\nresult"
      ]
    },
    {
      "cell_type": "markdown",
      "metadata": {},
      "source": [
        "Define a Condition\n==================\n"
      ]
    },
    {
      "cell_type": "code",
      "execution_count": null,
      "metadata": {
        "collapsed": false
      },
      "outputs": [],
      "source": [
        "check = StringMismatchComparison().add_condition_no_new_variants()\nresult = check.run(pd.DataFrame(data=data), pd.DataFrame(data=compared_data))\nresult.show(show_additional_outputs=False)"
      ]
    }
  ],
  "metadata": {
    "kernelspec": {
      "display_name": "Python 3",
      "language": "python",
      "name": "python3"
    },
    "language_info": {
      "codemirror_mode": {
        "name": "ipython",
        "version": 3
      },
      "file_extension": ".py",
      "mimetype": "text/x-python",
      "name": "python",
      "nbconvert_exporter": "python",
      "pygments_lexer": "ipython3",
      "version": "3.8.18"
    }
  },
  "nbformat": 4,
  "nbformat_minor": 0
}