{
  "cells": [
    {
      "cell_type": "markdown",
      "metadata": {},
      "source": [
        "Is Single Value {#tabular__is_single_value}\n===============\n\nThis notebook provides an overview for using and understanding the Is\nSingle Value check.\n\n**Structure:**\n\n-   [What is the Is Single Value\n    check](#what-is-feature-label-correlation)\n-   [Load Data](#load-data)\n-   [Run the check](#run-the-check)\n"
      ]
    },
    {
      "cell_type": "markdown",
      "metadata": {},
      "source": [
        "What is the Is Single Value check\n=================================\n\nThe `IsSingleValue` check checks if there are columns which have only a\nsingle unique value in all rows.\n"
      ]
    },
    {
      "cell_type": "markdown",
      "metadata": {},
      "source": [
        "Imports\n=======\n"
      ]
    },
    {
      "cell_type": "code",
      "execution_count": null,
      "metadata": {
        "collapsed": false
      },
      "outputs": [],
      "source": [
        "import numpy as np\nimport pandas as pd\nfrom sklearn.datasets import load_iris\n\nfrom deepchecks.tabular.checks import IsSingleValue"
      ]
    },
    {
      "cell_type": "markdown",
      "metadata": {},
      "source": [
        "Load Data\n=========\n"
      ]
    },
    {
      "cell_type": "code",
      "execution_count": null,
      "metadata": {
        "collapsed": false
      },
      "outputs": [],
      "source": [
        "iris = load_iris()\nX = iris.data"
      ]
    },
    {
      "cell_type": "markdown",
      "metadata": {},
      "source": [
        "Run the check\n=============\n"
      ]
    },
    {
      "cell_type": "code",
      "execution_count": null,
      "metadata": {
        "collapsed": false
      },
      "outputs": [],
      "source": [
        "IsSingleValue().run(pd.DataFrame(X))"
      ]
    },
    {
      "cell_type": "markdown",
      "metadata": {},
      "source": [
        "If `None` is given as a value, it will be ignored (this can be changed\nwith `ignore_nan` set to `False`):\n"
      ]
    },
    {
      "cell_type": "code",
      "execution_count": null,
      "metadata": {
        "collapsed": false
      },
      "outputs": [],
      "source": [
        "df = pd.DataFrame({'a': [3, 4, 1], 'b': [2, 2, 2], 'c': [None, None, None], 'd': ['a', 4, 6]})\nsv = IsSingleValue()\nsv.run(df)"
      ]
    },
    {
      "cell_type": "code",
      "execution_count": null,
      "metadata": {
        "collapsed": false
      },
      "outputs": [],
      "source": [
        "# Ignoring NaN values:\nIsSingleValue(ignore_nan=True).run(pd.DataFrame({\n    'a': [3, np.nan],\n    'b': [2, 2],\n    'c': [None, np.nan],\n    'd': ['a', 4]\n}))"
      ]
    },
    {
      "cell_type": "markdown",
      "metadata": {},
      "source": [
        "Ignoring specific columns by name is also possible:\n"
      ]
    },
    {
      "cell_type": "code",
      "execution_count": null,
      "metadata": {
        "collapsed": false
      },
      "outputs": [],
      "source": [
        "sv_ignore = IsSingleValue(ignore_columns=['b', 'c'])\nsv_ignore.run(df)"
      ]
    }
  ],
  "metadata": {
    "kernelspec": {
      "display_name": "Python 3",
      "language": "python",
      "name": "python3"
    },
    "language_info": {
      "codemirror_mode": {
        "name": "ipython",
        "version": 3
      },
      "file_extension": ".py",
      "mimetype": "text/x-python",
      "name": "python",
      "nbconvert_exporter": "python",
      "pygments_lexer": "ipython3",
      "version": "3.9.18"
    }
  },
  "nbformat": 4,
  "nbformat_minor": 0
}