{
  "cells": [
    {
      "cell_type": "markdown",
      "metadata": {},
      "source": [
        "Special Characters {#nlp__special_characters}\n==================\n\nThis notebook provides an overview for using and understanding the\nspecial characters check.\n\n**Structure:**\n\n-   [Why check for special\n    characters?](#why-check-for-text-data-duplicates)\n-   [Generate data & model](#generate-data-model)\n-   [Run the Check](#run-the-check)\n-   [Define a Condition](#define-a-condition)\n\nWhy check for special characters?\n---------------------------------\n\nThe `SpecialCharacters` check looks for text sample in which the\npercentage of special characters out of all characters is significant.\nSuch samples can be an indicator for a problem in the data pipeline that\nrequire attention. Additionally, such examples may be problematic for\nthe model to predict on. For example, a text sample with many emojis may\nbe hard to predict on and a common methodology will be to replace them\nwith a textual representation of the emoji.\n\nGenerate data & model\n---------------------\n\nLet\\'s create a simple dataset with some duplicate and similar text\nsamples.\n"
      ]
    },
    {
      "cell_type": "code",
      "execution_count": null,
      "metadata": {
        "collapsed": false
      },
      "outputs": [],
      "source": [
        "from deepchecks.nlp.datasets.classification import tweet_emotion\n\ntext_data = tweet_emotion.load_data(as_train_test=False)\ntext_data.head(3)"
      ]
    },
    {
      "cell_type": "markdown",
      "metadata": {},
      "source": [
        "Run the Check\n=============\n"
      ]
    },
    {
      "cell_type": "code",
      "execution_count": null,
      "metadata": {
        "collapsed": false
      },
      "outputs": [],
      "source": [
        "from deepchecks.nlp.checks import SpecialCharacters\n\ncheck = SpecialCharacters()\nresult = check.run(text_data)\nresult.show()"
      ]
    },
    {
      "cell_type": "markdown",
      "metadata": {},
      "source": [
        "We can see in the check display that \\~17% of the samples contain at\nleast one special character and that the samples with the highest\npercentage of special characters contain many emojis.\n\nIn addition to the check display we can also see receive a summary of\nmost common special characters and which samples contain them. This can\nassist us in conforming that the majority of the special characters in\nthis dataset are indeed emojis.\n"
      ]
    },
    {
      "cell_type": "code",
      "execution_count": null,
      "metadata": {
        "collapsed": false
      },
      "outputs": [],
      "source": [
        "result.value['samples_per_special_char']"
      ]
    },
    {
      "cell_type": "markdown",
      "metadata": {},
      "source": [
        "Define a condition\n==================\n\nWe can add a condition that will validate that the percentage of samples\nwith a significant ratio of special characters is below a certain\nthreshold. Let\\'s add a condition and re-run the check:\n"
      ]
    },
    {
      "cell_type": "code",
      "execution_count": null,
      "metadata": {
        "collapsed": false
      },
      "outputs": [],
      "source": [
        "check.add_condition_samples_ratio_w_special_characters_less_or_equal(0.01)\nresult = check.run(text_data)\nresult.show()"
      ]
    }
  ],
  "metadata": {
    "kernelspec": {
      "display_name": "Python 3",
      "language": "python",
      "name": "python3"
    },
    "language_info": {
      "codemirror_mode": {
        "name": "ipython",
        "version": 3
      },
      "file_extension": ".py",
      "mimetype": "text/x-python",
      "name": "python",
      "nbconvert_exporter": "python",
      "pygments_lexer": "ipython3",
      "version": "3.9.17"
    }
  },
  "nbformat": 4,
  "nbformat_minor": 0
}