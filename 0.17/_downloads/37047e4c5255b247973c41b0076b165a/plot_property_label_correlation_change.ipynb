{
  "cells": [
    {
      "cell_type": "markdown",
      "metadata": {},
      "source": [
        "Property Label Correlation Change {#vision__property_label_correlation_change}\n=================================\n\nThis notebook provides an overview for using and understanding the\n\\\"Property Label Correlation Change\\\" check.\n\n**Structure:**\n\n-   [What is the purpose of the\n    check?](#what-is-the-purpose-of-the-check)\n-   [Run check on a Classification\n    task](#run-the-check-on-a-classification-task)\n-   [Run check on an Object Detection\n    task](#run-the-check-on-an-object-detection-task)\n-   [Define a condition](#define-a-condition)\n\nWhat is the purpose of the check?\n---------------------------------\n\nThe check estimates for every image\n` property <vision__properties_guide>`{.interpreted-text role=\"ref\"}\n(such as brightness, contrast etc.) its ability to predict the label by\nitself. This check can help find:\n\n-   A potential bias in one or both datasets, that leads to the labels\n    being strongly correlated with simple image properties such as\n    color, brightness, aspect ratio and more. This is a critical\n    problem, that will likely stay hidden without this check (as it\n    won\\'t pop up when comparing model performance on train and test).\n\nThe check is based on calculating the predictive power score (PPS) of\neach image property. For more details you can read here [how the PPS is\ncalculated](#how-is-the-predictive-power-score-pps-calculated).\n\n### What is a problematic result?\n\n1.  Image properties with a high predictive score - can indicate that\n    there is a bias in the dataset, as a single property can predict the\n    label successfully, using simple classic ML algorithms.\n\n    This means that a deep learning algorithm may accidentally learn\n    these properties instead of more accurate complex abstractions. For\n    example, in a classification dataset of wolves and dogs photographs,\n    if only wolves are photographed in the snow, the brightness of the\n    image may be used to predict the label \\\"wolf\\\" easily.\n\n    In this case, a model might not learn to discern wolf from dog by\n    the animal\\'s characteristics, but by using the background color.\n\n2.  A high difference between the PPS scores of a certain image property\n    in the train and in the test datasets - this is an indication for a\n    drift between the relation of the property and the label and a\n    possible bias in one of the datasets.\n\n    For example: an object detection dataset that identifies household\n    items. In it, a pen would usually create a long and thin rectangle\n    bounding box. If in the test dataset the pens would be angled\n    differently, or other object are mistakenly identified as pens, the\n    bounding boxes may have a different aspect ratio. In this case, the\n    PPS of the train dataset will be high, while the PPS of the test\n    dataset would be low, indicating that a bias in the train dataset\n    does not appear in the test dataset, and could indicate the model\n    will not be able to infer correctly on the test (or any other)\n    dataset due to drift.\n\n### How do we calculate for different vision tasks?\n\n-   For classification tasks, this check uses PPS to predict the class\n    by image properties.\n-   For object detection tasks, this check uses PPS to predict the class\n    of each bounding box, by the image properties of that specific\n    bounding box. This means that for each image, this check crops all\n    the sub-images defined by bounding boxes, and uses them as inputs as\n    though they were regular classification dataset images.\n\n### How is the Predictive Power Score (PPS) calculated?\n\nThe properties\\' predictive score results in a numeric score between 0\n(feature has no predictive power) and 1 (feature can fully predict the\nlabel alone).\n\nThe process of calculating the PPS is the following:\n"
      ]
    },
    {
      "cell_type": "markdown",
      "metadata": {},
      "source": [
        "1.  Extract from the data only the label and the feature being tested\n2.  Drop samples with missing values\n3.  Keep 5000 (this is configurable parameter) samples from the data\n4.  Preprocess categorical columns. For the label using\n    [sklearn.LabelEncoder]{.title-ref} and for the feature using\n    [sklearn.OneHotEncoder]{.title-ref}\n5.  Partition the data with 4-fold cross-validation\n6.  Train decision tree\n7.  Compare the trained model\\'s performance with naive model\\'s\n    performance as follows:\n\nRegression: The naive model always predicts the median of the label\ncolumn, the metric being used is MAE and the PPS calculation is:\n$1 - \\frac{\\text{MAE model}}{\\text{MAE naive}}$\n\nClassification: The naive model always predicts the most common class of\nthe label column, The metric being used is F1 and the PPS calculation\nis: $\\frac{\\text{F1 model} - \\text{F1 naive}}{1 - \\text{F1 naive}}$\n\n::: {.note}\n::: {.title}\nNote\n:::\n\nAll the PPS parameters can be changed by passing to the check the\nparameter `ppscore_params`\n:::\n\nFor further information about PPS you can visit the [ppscore\ngithub](https://github.com/8080labs/ppscore) or the following blog post:\n[RIP correlation. Introducing the Predictive Power\nScore](https://towardsdatascience.com/rip-correlation-introducing-the-predictive-power-score-3d90808b9598)\n"
      ]
    },
    {
      "cell_type": "markdown",
      "metadata": {},
      "source": [
        "Run the check on a Classification task\n======================================\n"
      ]
    },
    {
      "cell_type": "markdown",
      "metadata": {},
      "source": [
        "Loading data (MNIST)\n====================\n\n::: {.note}\n::: {.title}\nNote\n:::\n\nIn this example, we use the pytorch version of the mnist dataset and\nmodel. In order to run this example using tensorflow, please change the\nimport statements to:\n\nfrom deepchecks.vision.datasets.classification.mnist\\_tensorflow import\nload\\_dataset\n:::\n"
      ]
    },
    {
      "cell_type": "code",
      "execution_count": null,
      "metadata": {
        "collapsed": false
      },
      "outputs": [],
      "source": [
        "import numpy as np\nfrom deepchecks.vision.checks import PropertyLabelCorrelationChange\nfrom deepchecks.vision.datasets.classification.mnist_torch import load_dataset\n\ntrain_ds = load_dataset(train=True, object_type='VisionData')\ntest_ds = load_dataset(train=False, object_type='VisionData')"
      ]
    },
    {
      "cell_type": "markdown",
      "metadata": {},
      "source": [
        "Insert bias\n===========\n\nLet\\'s see what happens when we insert bias into the dataset.\n\nSpecifically, we\\'re going to change the pixel values of the image\ndepending on the label (0 to 9) so there is a correlation between\nbrightness of image and the label (also a small correlation of the\nindex)\n"
      ]
    },
    {
      "cell_type": "code",
      "execution_count": null,
      "metadata": {
        "collapsed": false
      },
      "outputs": [],
      "source": [
        "def generate_collate_function_with_leakage(collate_fn, mod):\n    def collate_function_with_leakage(batch):\n        \"\"\"Create function which inverse the data normalization.\"\"\"\n        batch_dict = collate_fn(batch)\n        images = batch_dict['images']\n        labels = batch_dict['labels']\n        # add some label/index correlation\n        for i, label in enumerate(labels):\n            if i % mod != 0:\n                images[i] = np.ones(images[i].shape) * int(i % 3 + 1) * int(label)\n\n        batch_dict['images'] = images\n        return batch_dict\n    return collate_function_with_leakage"
      ]
    },
    {
      "cell_type": "code",
      "execution_count": null,
      "metadata": {
        "collapsed": false
      },
      "outputs": [],
      "source": [
        "train_ds._batch_loader.collate_fn = generate_collate_function_with_leakage(train_ds._batch_loader.collate_fn, 9)\ntest_ds._batch_loader.collate_fn = generate_collate_function_with_leakage(test_ds._batch_loader.collate_fn, 2)"
      ]
    },
    {
      "cell_type": "markdown",
      "metadata": {},
      "source": [
        "Run the check\n=============\n"
      ]
    },
    {
      "cell_type": "code",
      "execution_count": null,
      "metadata": {
        "collapsed": false
      },
      "outputs": [],
      "source": [
        "check = PropertyLabelCorrelationChange()\nresult = check.run(train_ds, test_ds)\nresult.show()"
      ]
    },
    {
      "cell_type": "markdown",
      "metadata": {},
      "source": [
        "To display the results in an IDE like PyCharm, you can use the following\ncode:\n"
      ]
    },
    {
      "cell_type": "code",
      "execution_count": null,
      "metadata": {
        "collapsed": false
      },
      "outputs": [],
      "source": [
        "#  result.show_in_window()"
      ]
    },
    {
      "cell_type": "markdown",
      "metadata": {},
      "source": [
        "The result will be displayed in a new window.\n"
      ]
    },
    {
      "cell_type": "markdown",
      "metadata": {},
      "source": [
        "We can see that the check detected the bias we inserted, and that the\nbrightness property of the image has a high PPS in train and then nearly\nnone in test, implying that there might have been some leakage in the\ntrain dataset.\n\nRun the check on an Object Detection task\n=========================================\n"
      ]
    },
    {
      "cell_type": "markdown",
      "metadata": {},
      "source": [
        "Loading data (COCO)\n===================\n\n::: {.note}\n::: {.title}\nNote\n:::\n\nIn this example, we use the pytorch version of the coco dataset and\nmodel. In order to run this example using tensorflow, please change the\nimport statements to:\n\nfrom deepchecks.vision.datasets.detection.coco\\_tensorflow import\nload\\_dataset\n:::\n"
      ]
    },
    {
      "cell_type": "code",
      "execution_count": null,
      "metadata": {
        "collapsed": false
      },
      "outputs": [],
      "source": [
        "from deepchecks.vision.datasets.detection.coco_torch import load_dataset\n\ntrain_ds = load_dataset(train=True, object_type='VisionData')\ntest_ds = load_dataset(train=False, object_type='VisionData')"
      ]
    },
    {
      "cell_type": "markdown",
      "metadata": {},
      "source": [
        "Insert bias\n===========\n\nLet\\'s now see what happens when we insert bias into the dataset.\n\nSpecifically, we\\'re going to change the pixel values of parts of the\nimage (where the bounding boxes are), so there is a correlation between\nbrightness of image and the label\n"
      ]
    },
    {
      "cell_type": "code",
      "execution_count": null,
      "metadata": {
        "collapsed": false
      },
      "outputs": [],
      "source": [
        "# Increase the pixel values of all bounding boxes by the labels value:\n\ndef generate_collate_function_with_leakage_coco(collate_fn, mod):\n    def collate_function_with_leakage_coco(batch):\n        import numpy as np\n        batch_dict = collate_fn(batch)\n        images = batch_dict['images']\n        labels = batch_dict['labels']\n        ret = [np.array(x) for x in images]\n        for i, labels in enumerate(labels):\n            if i % mod != 0:\n                for label in labels:\n                    x, y, w, h = np.array(label[1:]).astype(int)\n                    ret[i][y:y+h, x:x+w] = (ret[i][y:y+h, x:x+w] * int(label[0])).clip(min=200, max=255)\n        batch_dict['images'] = ret\n        return batch_dict\n    return collate_function_with_leakage_coco\n\n\ntrain_ds._batch_loader.collate_fn = generate_collate_function_with_leakage_coco(train_ds._batch_loader.collate_fn, 12)\ntest_ds._batch_loader.collate_fn = generate_collate_function_with_leakage_coco(test_ds._batch_loader.collate_fn, 2)"
      ]
    },
    {
      "cell_type": "markdown",
      "metadata": {},
      "source": [
        "Run the check\n=============\n"
      ]
    },
    {
      "cell_type": "code",
      "execution_count": null,
      "metadata": {
        "collapsed": false
      },
      "outputs": [],
      "source": [
        "check = PropertyLabelCorrelationChange(per_class=False)\nresult = check.run(train_ds, test_ds)\nresult.show()"
      ]
    },
    {
      "cell_type": "markdown",
      "metadata": {},
      "source": [
        "We can see that the check detected the bias we inserted, and that the\nPPS of the brightness property has changed, implying that there might\nhave been some leakage in the train dataset.\n\nDefine a condition\n==================\n\nWe can define on our check a condition that will validate that our pps\nscores aren\\'t too high. The check has 2 possible built-in conditions:\n\n`add_condition_feature_pps_difference_not_greater_than` - Validate that\nthe difference in the PPS between train and test is not larger than\ndefined amount (default 0.2)\n\n`add_condition_feature_pps_in_train_not_greater_than` - Validate that\nthe PPS scores on train dataset are not exceeding a defined amount\n(default 0.7)\n\nLet\\'s add the conditions, and re-run the check:\n"
      ]
    },
    {
      "cell_type": "code",
      "execution_count": null,
      "metadata": {
        "collapsed": false
      },
      "outputs": [],
      "source": [
        "check = PropertyLabelCorrelationChange(per_class=False).add_condition_property_pps_difference_less_than(0.1) \\\n        .add_condition_property_pps_in_train_less_than()\nresult = check.run(train_dataset=train_ds, test_dataset=test_ds)\nresult.show(show_additional_outputs=False)"
      ]
    }
  ],
  "metadata": {
    "kernelspec": {
      "display_name": "Python 3",
      "language": "python",
      "name": "python3"
    },
    "language_info": {
      "codemirror_mode": {
        "name": "ipython",
        "version": 3
      },
      "file_extension": ".py",
      "mimetype": "text/x-python",
      "name": "python",
      "nbconvert_exporter": "python",
      "pygments_lexer": "ipython3",
      "version": "3.9.18"
    }
  },
  "nbformat": 4,
  "nbformat_minor": 0
}