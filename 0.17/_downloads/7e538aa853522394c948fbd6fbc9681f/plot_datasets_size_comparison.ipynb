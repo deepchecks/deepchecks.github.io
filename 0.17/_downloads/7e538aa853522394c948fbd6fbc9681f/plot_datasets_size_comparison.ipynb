{
  "cells": [
    {
      "cell_type": "markdown",
      "metadata": {},
      "source": [
        "Datasets Size Comparison {#tabular__datasets_size_comparison}\n========================\n"
      ]
    },
    {
      "cell_type": "code",
      "execution_count": null,
      "metadata": {
        "collapsed": false
      },
      "outputs": [],
      "source": [
        "import numpy as np\nimport pandas as pd\nfrom sklearn.model_selection import train_test_split\n\nfrom deepchecks.tabular import Dataset\nfrom deepchecks.tabular.checks import DatasetsSizeComparison"
      ]
    },
    {
      "cell_type": "code",
      "execution_count": null,
      "metadata": {
        "collapsed": false
      },
      "outputs": [],
      "source": [
        "df = pd.DataFrame(np.random.randn(1000, 3), columns=['x1', 'x2', 'x3'])\ndf['label'] = df['x2'] + 0.1 * df['x1']\n\ntrain, test = train_test_split(df, test_size=0.4)\ntrain = Dataset(train, features=['x1', 'x2', 'x3'], label='label')\ntest = Dataset(test, features=['x1', 'x2', 'x3'], label='label')\n\ncheck_instance = (\n    DatasetsSizeComparison()\n    .add_condition_train_dataset_greater_or_equal_test()\n    .add_condition_test_size_greater_or_equal(100)\n    .add_condition_test_train_size_ratio_greater_than(0.2)\n)"
      ]
    },
    {
      "cell_type": "code",
      "execution_count": null,
      "metadata": {
        "collapsed": false
      },
      "outputs": [],
      "source": [
        "check_instance.run(train, test)"
      ]
    }
  ],
  "metadata": {
    "kernelspec": {
      "display_name": "Python 3",
      "language": "python",
      "name": "python3"
    },
    "language_info": {
      "codemirror_mode": {
        "name": "ipython",
        "version": 3
      },
      "file_extension": ".py",
      "mimetype": "text/x-python",
      "name": "python",
      "nbconvert_exporter": "python",
      "pygments_lexer": "ipython3",
      "version": "3.9.17"
    }
  },
  "nbformat": 4,
  "nbformat_minor": 0
}