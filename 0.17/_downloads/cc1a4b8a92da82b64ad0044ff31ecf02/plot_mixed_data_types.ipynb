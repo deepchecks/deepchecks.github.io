{
  "cells": [
    {
      "cell_type": "markdown",
      "metadata": {},
      "source": [
        "Mixed Data Types {#tabular__mixed_data_types}\n================\n\nThis notebook provides an overview for using and understanding the mixed\ndata types check.\n\n**Structure:**\n\n-   [What are Mixed Data Types?](#what-are-mixed-data-types)\n-   [Run the Check](#run-the-check)\n-   [Define a Condition](#define-a-condition)\n\nWhat are Mixed Data Types?\n--------------------------\n\nMixed data types is when a column contains both string values and\nnumeric values (either as numeric type or as string like \\\"42.90\\\").\nThis may indicate a problem in the data collection pipeline, or\nrepresent a problem situation for the model\\'s training.\n\nThis checks searches for columns with a mix of strings and numeric\nvalues and returns them and their respective ratios.\n\nRun the Check\n-------------\n\nWe will run the check on the adult dataset which can be downloaded from\nthe [UCI machine learning repository](http://archive.ics.uci.edu/ml) and\nis also available in [deepchecks.tabular.datasets]{.title-ref}, and\nintroduce to it some data type mixing in order to show the check\\'s\nresult.\n"
      ]
    },
    {
      "cell_type": "code",
      "execution_count": null,
      "metadata": {
        "collapsed": false
      },
      "outputs": [],
      "source": [
        "import numpy as np\nimport pandas as pd\n\nfrom deepchecks.tabular.datasets.classification import adult\n\n# Prepare functions to insert mixed data types\n\ndef insert_new_values_types(col: pd.Series, ratio_to_replace: float, values_list):\n    col = col.to_numpy().astype(object)\n    indices_to_replace = np.random.choice(range(len(col)), int(len(col) * ratio_to_replace), replace=False)\n    new_values = np.random.choice(values_list, len(indices_to_replace))\n    col[indices_to_replace] = new_values\n    return col\n\n\ndef insert_string_types(col: pd.Series, ratio_to_replace):\n    return insert_new_values_types(col, ratio_to_replace, ['a', 'b', 'c'])\n\n\ndef insert_numeric_string_types(col: pd.Series, ratio_to_replace):\n    return insert_new_values_types(col, ratio_to_replace, ['1.0', '1', '10394.33'])\n\n\ndef insert_number_types(col: pd.Series, ratio_to_replace):\n    return insert_new_values_types(col, ratio_to_replace, [66, 99.9])\n\n\n# Load dataset and insert some data type mixing\nadult_df, _ = adult.load_data(as_train_test=True, data_format='Dataframe')\nadult_df['workclass'] = insert_numeric_string_types(adult_df['workclass'], ratio_to_replace=0.01)\nadult_df['education'] = insert_number_types(adult_df['education'], ratio_to_replace=0.1)\nadult_df['age'] = insert_string_types(adult_df['age'], ratio_to_replace=0.5)"
      ]
    },
    {
      "cell_type": "code",
      "execution_count": null,
      "metadata": {
        "collapsed": false
      },
      "outputs": [],
      "source": [
        "from deepchecks.tabular import Dataset\nfrom deepchecks.tabular.checks import MixedDataTypes\n\nadult_dataset = Dataset(adult_df, cat_features=['workclass', 'education'])\ncheck = MixedDataTypes()\nresult = check.run(adult_dataset)\nresult"
      ]
    },
    {
      "cell_type": "markdown",
      "metadata": {},
      "source": [
        "Define a Condition\n==================\n\nWe can define a condition that enforces the ratio of the \\\"rare type\\\"\n(the less common type, either numeric or string) is not in a given\nrange. The range represents the dangerous zone, when the ratio is lower\nthan the lower bound, then it\\'s presumably a contamination but a\nnegligible one, and when the ratio is higher than the upper bound, then\nit\\'s presumably supposed to contain both numbers and string values. So\nwhen the ratio is inside the range there is a real chance that the rarer\ndata type may represent a problem to model training and inference.\n"
      ]
    },
    {
      "cell_type": "code",
      "execution_count": null,
      "metadata": {
        "collapsed": false
      },
      "outputs": [],
      "source": [
        "check = MixedDataTypes().add_condition_rare_type_ratio_not_in_range((0.01, 0.2))\nresult = check.run(adult_dataset)\nresult.show(show_additional_outputs=False)"
      ]
    }
  ],
  "metadata": {
    "kernelspec": {
      "display_name": "Python 3",
      "language": "python",
      "name": "python3"
    },
    "language_info": {
      "codemirror_mode": {
        "name": "ipython",
        "version": 3
      },
      "file_extension": ".py",
      "mimetype": "text/x-python",
      "name": "python",
      "nbconvert_exporter": "python",
      "pygments_lexer": "ipython3",
      "version": "3.9.16"
    }
  },
  "nbformat": 4,
  "nbformat_minor": 0
}