{
  "cells": [
    {
      "cell_type": "markdown",
      "metadata": {},
      "source": [
        "Feature Feature Correlation {#tabular__feature_feature_correlation}\n===========================\n\nThis notebook provides an overview for using and understanding the\nfeature-feature correlation check.\n\nThis check computes the pairwise correlations between the features,\npotentially spotting pairs of features that are highly correlated.\n\n**Structure:**\n\n-   [How are The Correlations\n    Calculated?](#how-are-the-correlations-calculated)\n-   [Load Data](#load-data)\n-   [Run the Check](#run-the-check)\n-   [Define a Condition](#define-a-condition)\n\nHow are The Correlations Calculated?\n------------------------------------\n\nThis check works with 2 types of features: categorical and numerical,\nand uses a different method to calculate the correlation for each\ncombination of feature types:\n\n1.  numerical-numerical: [Pearson\\'s correlation\n    coefficient](https://en.wikipedia.org/wiki/Pearson_correlation_coefficient)\n2.  numerical-categorical: [Correlation\n    ratio](https://en.wikipedia.org/wiki/Correlation_ratio)\n3.  categorical-categorical: [Symmetric Theil\\'s\n    U](https://en.wikipedia.org/wiki/Uncertainty_coefficient)\n"
      ]
    },
    {
      "cell_type": "markdown",
      "metadata": {},
      "source": [
        "Imports\n=======\n"
      ]
    },
    {
      "cell_type": "code",
      "execution_count": null,
      "metadata": {
        "collapsed": false
      },
      "outputs": [],
      "source": [
        "import pandas as pd\nfrom deepchecks.tabular.datasets.classification import adult\nfrom deepchecks.tabular.checks.data_integrity import FeatureFeatureCorrelation"
      ]
    },
    {
      "cell_type": "markdown",
      "metadata": {},
      "source": [
        "Load Data\n=========\n\nWe load the Adult dataset, a dataset based on the 1994 US Census\ncontaining both numerical and categorical features.\n"
      ]
    },
    {
      "cell_type": "code",
      "execution_count": null,
      "metadata": {
        "collapsed": false
      },
      "outputs": [],
      "source": [
        "ds = adult.load_data(as_train_test=False)"
      ]
    },
    {
      "cell_type": "markdown",
      "metadata": {},
      "source": [
        "Run the Check\n=============\n"
      ]
    },
    {
      "cell_type": "code",
      "execution_count": null,
      "metadata": {
        "collapsed": false
      },
      "outputs": [],
      "source": [
        "check = FeatureFeatureCorrelation()\ncheck.run(ds)\n\n# To display the results in an IDE like PyCharm, you can use the following code:\n# check.run(ds).show()\n# The result will be displayed in a new window."
      ]
    },
    {
      "cell_type": "markdown",
      "metadata": {},
      "source": [
        "Define a Condition\n==================\n\nNow we will define a condition on the maximum number of pairs that are\ncorrelated above a certain threshold. In this example, we will define a\ncondition that the maximum number of pairs that are correlated above 0.8\nis less than 3.\n"
      ]
    },
    {
      "cell_type": "code",
      "execution_count": null,
      "metadata": {
        "collapsed": false
      },
      "outputs": [],
      "source": [
        "check = FeatureFeatureCorrelation()\ncheck.add_condition_max_number_of_pairs_above_threshold(0.8, 3)\nresult = check.run(ds)\nresult.show(show_additional_outputs=False)"
      ]
    }
  ],
  "metadata": {
    "kernelspec": {
      "display_name": "Python 3",
      "language": "python",
      "name": "python3"
    },
    "language_info": {
      "codemirror_mode": {
        "name": "ipython",
        "version": 3
      },
      "file_extension": ".py",
      "mimetype": "text/x-python",
      "name": "python",
      "nbconvert_exporter": "python",
      "pygments_lexer": "ipython3",
      "version": "3.9.16"
    }
  },
  "nbformat": 4,
  "nbformat_minor": 0
}