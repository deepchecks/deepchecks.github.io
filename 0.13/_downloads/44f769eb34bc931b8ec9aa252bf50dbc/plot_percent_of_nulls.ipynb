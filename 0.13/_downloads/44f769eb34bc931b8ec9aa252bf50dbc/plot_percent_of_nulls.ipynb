{
  "cells": [
    {
      "cell_type": "code",
      "execution_count": null,
      "metadata": {
        "collapsed": false
      },
      "outputs": [],
      "source": [
        "%matplotlib inline"
      ]
    },
    {
      "cell_type": "markdown",
      "metadata": {},
      "source": [
        "Percent Of Nulls {#plot_percent_of_nulls}\n================\n\nThis notebook provides an overview for using the Percent Of Nulls check.\n\n**Structure:**\n\n-   [What is Percent Of Nulls](#what-are-percent-of-nulls)\n-   [Generate data](#generate-data)\n-   [Run the check](#run-the-check)\n-   [Define a condition](#define-a-condition)\n\nWhat is Percent Of Nulls\n------------------------\n\nThe `PercentOfNulls` check calculates percent of `null` values for each\ncolumn and displays the result as a bar chart.\n"
      ]
    },
    {
      "cell_type": "markdown",
      "metadata": {},
      "source": [
        "Generate data\n=============\n"
      ]
    },
    {
      "cell_type": "code",
      "execution_count": null,
      "metadata": {
        "collapsed": false
      },
      "outputs": [],
      "source": [
        "import numpy as np\nimport pandas as pd\nfrom deepchecks.tabular.checks.data_integrity import PercentOfNulls\n\ndf = pd.DataFrame({'foo': [1, 2, None, np.nan], 'bar': [None, 1, 2, 3]})"
      ]
    },
    {
      "cell_type": "markdown",
      "metadata": {},
      "source": [
        "Run the Check\n=============\n"
      ]
    },
    {
      "cell_type": "code",
      "execution_count": null,
      "metadata": {
        "collapsed": false
      },
      "outputs": [],
      "source": [
        "result = PercentOfNulls().run(df)\nresult.show()"
      ]
    },
    {
      "cell_type": "markdown",
      "metadata": {},
      "source": [
        "Define a Condition\n==================\n"
      ]
    },
    {
      "cell_type": "code",
      "execution_count": null,
      "metadata": {
        "collapsed": false
      },
      "outputs": [],
      "source": [
        "df = pd.DataFrame({'foo': [1, 2, None, np.nan], 'bar': [None, 1, 2, 3]})\ncheck = PercentOfNulls().add_condition_percent_of_nulls_not_greater_than()\nresult = check.run(df)\nresult.show()"
      ]
    }
  ],
  "metadata": {
    "kernelspec": {
      "display_name": "Python 3",
      "language": "python",
      "name": "python3"
    },
    "language_info": {
      "codemirror_mode": {
        "name": "ipython",
        "version": 3
      },
      "file_extension": ".py",
      "mimetype": "text/x-python",
      "name": "python",
      "nbconvert_exporter": "python",
      "pygments_lexer": "ipython3",
      "version": "3.9.16"
    }
  },
  "nbformat": 4,
  "nbformat_minor": 0
}