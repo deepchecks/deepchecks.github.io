{
  "cells": [
    {
      "cell_type": "markdown",
      "metadata": {},
      "source": [
        "Multi Model Performance Report {#plot_tabular_multi_model_performance_report}\n==============================\n\nThis notebook provides an overview for using and understanding the Multi\nModel Performance Report check.\n\n**Structure:**\n\n-   [What is the Multi Model Performance Report\n    check?](#what-is-the-multi-model-performance-report-check)\n-   [Multiclass check](#multiclass-check)\n-   [Regression check](#regression-check)\n\nWhat is the Multi Model Performance Report?\n-------------------------------------------\n\nThe `MultiModelPerformanceReport` check produces a summary of\nperformance scores for multiple models on test datasets. The default\nscorers that are used are F1, Precision and Recall for Classification\nand Negative RMSE (Root Mean Square Error), Negative MAE (Mean Absolute\nError) and R2 for Regression.\n"
      ]
    },
    {
      "cell_type": "markdown",
      "metadata": {},
      "source": [
        "Multiclass check\n================\n"
      ]
    },
    {
      "cell_type": "markdown",
      "metadata": {},
      "source": [
        "Imports\n=======\n"
      ]
    },
    {
      "cell_type": "code",
      "execution_count": null,
      "metadata": {
        "collapsed": false
      },
      "outputs": [],
      "source": [
        "from sklearn.datasets import load_iris\nfrom sklearn.ensemble import AdaBoostClassifier, RandomForestClassifier\nfrom sklearn.model_selection import train_test_split\nfrom sklearn.tree import DecisionTreeClassifier\n\nfrom deepchecks.tabular import Dataset\nfrom deepchecks.tabular.checks import MultiModelPerformanceReport"
      ]
    },
    {
      "cell_type": "markdown",
      "metadata": {},
      "source": [
        "Generate data & model\n=====================\n"
      ]
    },
    {
      "cell_type": "code",
      "execution_count": null,
      "metadata": {
        "collapsed": false
      },
      "outputs": [],
      "source": [
        "iris = load_iris(as_frame=True)\ntrain, test = train_test_split(iris.frame, test_size=0.33, random_state=42)\n\ntrain_ds = Dataset(train, label=\"target\")\ntest_ds = Dataset(test, label=\"target\")\n\nfeatures = train_ds.data[train_ds.features]\nlabel = train_ds.data[train_ds.label_name]\nclf1 = AdaBoostClassifier().fit(features, label)\nclf2 = RandomForestClassifier().fit(features, label)\nclf3 = DecisionTreeClassifier().fit(features, label)"
      ]
    },
    {
      "cell_type": "markdown",
      "metadata": {},
      "source": [
        "Run the check\n=============\n"
      ]
    },
    {
      "cell_type": "code",
      "execution_count": null,
      "metadata": {
        "collapsed": false
      },
      "outputs": [],
      "source": [
        "MultiModelPerformanceReport().run(train_ds, test_ds, [clf1, clf2, clf3])"
      ]
    },
    {
      "cell_type": "markdown",
      "metadata": {},
      "source": [
        "Regression check\n================\n"
      ]
    },
    {
      "cell_type": "markdown",
      "metadata": {},
      "source": [
        "Imports\n=======\n"
      ]
    },
    {
      "cell_type": "code",
      "execution_count": null,
      "metadata": {
        "collapsed": false
      },
      "outputs": [],
      "source": [
        "from sklearn.datasets import load_diabetes\nfrom sklearn.ensemble import AdaBoostRegressor, RandomForestRegressor\nfrom sklearn.tree import DecisionTreeRegressor"
      ]
    },
    {
      "cell_type": "markdown",
      "metadata": {},
      "source": [
        "Generate data & model\n=====================\n"
      ]
    },
    {
      "cell_type": "code",
      "execution_count": null,
      "metadata": {
        "collapsed": false
      },
      "outputs": [],
      "source": [
        "diabetes = load_diabetes(as_frame=True)\ntrain, test = train_test_split(diabetes.frame, test_size=0.33, random_state=42)\n\ntrain_ds = Dataset(train, label=\"target\", cat_features=['sex'])\ntest_ds = Dataset(test, label=\"target\", cat_features=['sex'])\n\nfeatures = train_ds.data[train_ds.features]\nlabel = train_ds.data[train_ds.label_name]\nclf1 = AdaBoostRegressor().fit(features, label)\nclf2 = RandomForestRegressor().fit(features, label)\nclf3 = DecisionTreeRegressor().fit(features, label)"
      ]
    },
    {
      "cell_type": "markdown",
      "metadata": {},
      "source": [
        "Run the check\n=============\n"
      ]
    },
    {
      "cell_type": "code",
      "execution_count": null,
      "metadata": {
        "collapsed": false
      },
      "outputs": [],
      "source": [
        "MultiModelPerformanceReport().run(train_ds, test_ds, [clf1, clf2, clf3])"
      ]
    }
  ],
  "metadata": {
    "kernelspec": {
      "display_name": "Python 3",
      "language": "python",
      "name": "python3"
    },
    "language_info": {
      "codemirror_mode": {
        "name": "ipython",
        "version": 3
      },
      "file_extension": ".py",
      "mimetype": "text/x-python",
      "name": "python",
      "nbconvert_exporter": "python",
      "pygments_lexer": "ipython3",
      "version": "3.9.16"
    }
  },
  "nbformat": 4,
  "nbformat_minor": 0
}