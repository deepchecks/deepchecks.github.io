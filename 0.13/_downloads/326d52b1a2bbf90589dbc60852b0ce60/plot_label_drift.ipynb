{
  "cells": [
    {
      "cell_type": "markdown",
      "metadata": {},
      "source": [
        "Label Drift {#plot_vision_label_drift}\n===========\n\nThis notebooks provides an overview for using and understanding label\ndrift check.\n\n**Structure:**\n\n-   [What Is Label Drift?](#what-is-label-drift)\n-   [Which Label Properties Are Used?](#which-label-properties-are-used)\n-   [Run check on a Classification\n    task](#run-the-check-on-a-classification-task-mnist)\n-   [Run check on an Object Detection\n    task](#run-the-check-on-an-object-detection-task-coco)\n\nWhat Is Label Drift?\n--------------------\n\nDrift is simply a change in the distribution of data over time, and it\nis also one of the top reasons why machine learning model\\'s performance\ndegrades over time.\n\nLabel drift is when drift occurs in the label itself.\n\nFor more information on drift, please visit our\n`drift guide </user-guide/general/drift_guide>`{.interpreted-text\nrole=\"doc\"}.\n\n### How Deepchecks Detects Label Drift\n\nThis check detects label drift by using\n`univariate measures <drift_detection_by_univariate_measure>`{.interpreted-text\nrole=\"ref\"} on the label properties.\n\n### Using Label Properties to Detect Label Drift\n\nIn computer vision specifically, our labels may be complex, and\nmeasuring their drift is not a straightforward task. Therefore, we\ncalculate drift on different\n`properties of the label</user-guide/vision/vision_properties>`{.interpreted-text\nrole=\"doc\"}, on which we can directly measure drift.\n\n#### Which Label Properties Are Used?\n\n  Task Type          Property name                        What is it\n  ------------------ ------------------------------------ ----------------------------------------------\n  Classification     Samples Per Class                    Number of images per class\n  Object Detection   Samples Per Class                    Number of bounding boxes per class\n  Object Detection   Bounding Box Area                    Area of bounding box (height \\* width)\n  Object Detection   Number of Bounding Boxes Per Image   Number of bounding box objects in each image\n\nRun the check on a Classification task (MNIST)\n----------------------------------------------\n\n### Imports\n"
      ]
    },
    {
      "cell_type": "markdown",
      "metadata": {},
      "source": [
        "::: {.note}\n::: {.title}\nNote\n:::\n\nIn this example, we use the pytorch version of the mnist dataset and\nmodel. In order to run this example using tensorflow, please change the\nimport statements to:\n\nfrom deepchecks.vision.datasets.classification.mnist\\_tensorflow import\nload\\_dataset\n:::\n"
      ]
    },
    {
      "cell_type": "code",
      "execution_count": null,
      "metadata": {
        "collapsed": false
      },
      "outputs": [],
      "source": [
        "from deepchecks.vision.checks import LabelDrift\nfrom deepchecks.vision.datasets.classification.mnist_torch import load_dataset"
      ]
    },
    {
      "cell_type": "markdown",
      "metadata": {},
      "source": [
        "Loading Data\n============\n"
      ]
    },
    {
      "cell_type": "code",
      "execution_count": null,
      "metadata": {
        "collapsed": false
      },
      "outputs": [],
      "source": [
        "train_ds = load_dataset(train=True, batch_size=64, object_type='VisionData')\ntest_ds = load_dataset(train=False, batch_size=1000, object_type='VisionData')"
      ]
    },
    {
      "cell_type": "markdown",
      "metadata": {},
      "source": [
        "Running LabelDrift on classification\n====================================\n"
      ]
    },
    {
      "cell_type": "code",
      "execution_count": null,
      "metadata": {
        "collapsed": false
      },
      "outputs": [],
      "source": [
        "check = LabelDrift()\nresult = check.run(train_ds, test_ds)\nresult.show()"
      ]
    },
    {
      "cell_type": "markdown",
      "metadata": {},
      "source": [
        "Understanding the results\n=========================\n\nWe can see there is almost no drift between the train & test labels.\nThis means the split to train and test was good (as it is balanced and\nrandom). Let\\'s check the performance of a simple model trained on\nMNIST.\n"
      ]
    },
    {
      "cell_type": "code",
      "execution_count": null,
      "metadata": {
        "collapsed": false
      },
      "outputs": [],
      "source": [
        "from deepchecks.vision.checks import ClassPerformance\n\nClassPerformance().run(train_ds, test_ds)"
      ]
    },
    {
      "cell_type": "markdown",
      "metadata": {},
      "source": [
        "To display the results in an IDE like PyCharm, you can use the following\ncode:\n"
      ]
    },
    {
      "cell_type": "code",
      "execution_count": null,
      "metadata": {
        "collapsed": false
      },
      "outputs": [],
      "source": [
        "#  ClassPerformance().run(train_ds, test_ds, mnist_model).show_in_window()"
      ]
    },
    {
      "cell_type": "markdown",
      "metadata": {},
      "source": [
        "The result will be displayed in a new window.\n"
      ]
    },
    {
      "cell_type": "markdown",
      "metadata": {},
      "source": [
        "MNIST with label drift\n======================\n\nNow, let\\'s try to separate the MNIST dataset in a different manner that\nwill result in a label drift, and see how it affects the performance. We\nare going to create a custom [collate\\_fn]{.title-ref}\\` in the test\ndataset, that will select samples with class 0 with a probability of\n1/10.\n"
      ]
    },
    {
      "cell_type": "markdown",
      "metadata": {},
      "source": [
        "Inserting drift to the test set\n===============================\n"
      ]
    },
    {
      "cell_type": "code",
      "execution_count": null,
      "metadata": {
        "collapsed": false
      },
      "outputs": [],
      "source": [
        "import numpy as np\n\nnp.random.seed(42)\n\n\ndef generate_collate_fn_with_label_drift(collate_fn):\n    def collate_fn_with_label_drift(batch):\n        batch_dict = collate_fn(batch)\n        images = batch_dict['images']\n        labels = batch_dict['labels']\n        for i in range(len(images)):\n            image, label = images[i], labels[i]\n            if label == 0:\n                if np.random.randint(5) != 0:\n                    batch_dict['labels'][i] = 1\n\n        return batch_dict\n    return collate_fn_with_label_drift\n\n\nmod_test_ds = load_dataset(train=False, batch_size=1000, object_type='VisionData')\nmod_test_ds._batch_loader.collate_fn = generate_collate_fn_with_label_drift(mod_test_ds._batch_loader.collate_fn)"
      ]
    },
    {
      "cell_type": "markdown",
      "metadata": {},
      "source": [
        "Run the check\n=============\n"
      ]
    },
    {
      "cell_type": "code",
      "execution_count": null,
      "metadata": {
        "collapsed": false
      },
      "outputs": [],
      "source": [
        "check = LabelDrift()\ncheck.run(train_ds, mod_test_ds)"
      ]
    },
    {
      "cell_type": "markdown",
      "metadata": {},
      "source": [
        "Add a condition\n===============\n\nWe could also add a condition to the check to alert us to changes in the\nlabel distribution, such as the one that occurred here.\n"
      ]
    },
    {
      "cell_type": "code",
      "execution_count": null,
      "metadata": {
        "collapsed": false
      },
      "outputs": [],
      "source": [
        "check = LabelDrift().add_condition_drift_score_less_than()\ncheck.run(train_ds, mod_test_ds)\n\n# As we can see, the condition alerts us to the presence of drift in the label."
      ]
    },
    {
      "cell_type": "markdown",
      "metadata": {},
      "source": [
        "Results\n=======\n\nWe can see the check successfully detects the (expected) drift in class\n0 distribution between the train and test sets\n"
      ]
    },
    {
      "cell_type": "markdown",
      "metadata": {},
      "source": [
        "But how does this affect the performance of the model?\n======================================================\n"
      ]
    },
    {
      "cell_type": "code",
      "execution_count": null,
      "metadata": {
        "collapsed": false
      },
      "outputs": [],
      "source": [
        "ClassPerformance().run(train_ds, mod_test_ds)"
      ]
    },
    {
      "cell_type": "markdown",
      "metadata": {},
      "source": [
        "Understanding the results\n=========================\n\nWe can see the drop in the precision of class 0, which was caused by the\nclass imbalance indicated earlier by the label drift check.\n"
      ]
    },
    {
      "cell_type": "markdown",
      "metadata": {},
      "source": [
        "Run the check on an Object Detection task (COCO)\n================================================\n\n::: {.note}\n::: {.title}\nNote\n:::\n\nIn this example, we use the pytorch version of the coco dataset and\nmodel. In order to run this example using tensorflow, please change the\nimport statements to:\n\nfrom deepchecks.vision.datasets.detection.coco\\_tensorflow import\nload\\_dataset\n:::\n"
      ]
    },
    {
      "cell_type": "code",
      "execution_count": null,
      "metadata": {
        "collapsed": false
      },
      "outputs": [],
      "source": [
        "from deepchecks.vision.datasets.detection.coco_torch import load_dataset\n\ntrain_ds = load_dataset(train=True, object_type='VisionData')\ntest_ds = load_dataset(train=False, object_type='VisionData')"
      ]
    },
    {
      "cell_type": "code",
      "execution_count": null,
      "metadata": {
        "collapsed": false
      },
      "outputs": [],
      "source": [
        "check = LabelDrift()\ncheck.run(train_ds, test_ds)"
      ]
    },
    {
      "cell_type": "markdown",
      "metadata": {},
      "source": [
        "Label drift is detected!\n========================\n\nWe can see that the COCO128 contains a drift in the out of the box\ndataset. In addition to the label count per class, the label drift check\nfor object detection tasks include drift calculation on certain\nmeasurements, like the bounding box area and the number of bboxes per\nimage.\n"
      ]
    }
  ],
  "metadata": {
    "kernelspec": {
      "display_name": "Python 3",
      "language": "python",
      "name": "python3"
    },
    "language_info": {
      "codemirror_mode": {
        "name": "ipython",
        "version": 3
      },
      "file_extension": ".py",
      "mimetype": "text/x-python",
      "name": "python",
      "nbconvert_exporter": "python",
      "pygments_lexer": "ipython3",
      "version": "3.9.16"
    }
  },
  "nbformat": 4,
  "nbformat_minor": 0
}