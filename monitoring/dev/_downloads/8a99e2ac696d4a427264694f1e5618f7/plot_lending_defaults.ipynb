{
  "cells": [
    {
      "cell_type": "markdown",
      "metadata": {},
      "source": [
        "\n\n# Predicting Loan Defaults (Classification)\n\nIn this Demo we are using an adaptation of the [Lending Club loan data](https://www.kaggle.com/datasets/wordsforthewise/lending-club)_ dataset to show how you can use Deepchecks to\nmonitor and identify issues in a Loan Default prediction task.\n\nYou are a Data Scientist in a renowned bank, and you are tasked with identifying customers that are\nlikely to default on their mortgage loan. In this example we'll use Deepchecks to quickly detect some data integrity\nissues that occur over the lifetime of the model, and we'll see how Deepchecks can alert us about potential model\ndeterioration that can be caused by increasing interest rates, even while labels are not yet available.\n\n1. `Setting You Up on Deepchecks`_\n2. `Creating a Model & Model Version`_\n3. `Uploading Production Data`_\n4. `Analyzing Using Deepchecks`_\n\n..  tip::\n    To see how Deepchecks Monitoring is used, you can skip right to `Analyzing Using Deepchecks`_\n\n## Setting You Up on Deepchecks\n\n### Installation & API key\n\nIn order to work with Deepchecks Monitoring, you need to:\n\n1. Install with ``pip`` the deepchecks-client SDK\n2. Log in to the Deepchecks Monitoring app and create an organization\n3. Obtain an API key from the app\n\nFor more details, please refer to the :doc:`Quickstart </user-guide/tabular/auto_quickstarts/plot_quickstart>`.\n\n### Creating a Client\n\nTo work with Deepchecks Monitoring we first instantiate a client object.\n"
      ]
    },
    {
      "cell_type": "code",
      "execution_count": null,
      "metadata": {
        "collapsed": false
      },
      "outputs": [],
      "source": [
        "import os\nfrom deepchecks_client import DeepchecksClient\n# Note:  add an environment variable DEEPCHECKS_API_TOKEN and set it to your API token's value. Alternatively (not\n# recommended for security reasons) copy-paste your token string here, instead of retrieving it from the environment\n# variable.\ntoken = os.getenv('DEEPCHECKS_API_TOKEN')\n# Point the host to deepchecks host url (e.g. https://app.deepchecks.com. Save it to an environment variable,\n# or alternatively copy-paste it here directly)\nhost = os.getenv('DEEPCHECKS_API_HOST')\n# Create a DeepchecksClient with relevant credentials\ndc_client = DeepchecksClient(host=host, token=token)"
      ]
    },
    {
      "cell_type": "markdown",
      "metadata": {},
      "source": [
        "We'll use this object during the remainder of this example.\n\n## Creating a Model & Model Version\n\nIn this section we'll create a model and a model version, using the training data as the reference. Reference data is\na dataset to which we wish to compare our production data stream. To learn more about models and model versions, and\nother important terms in Deepchecks please refer to the :doc:`Concepts guide </user-guide/general/concepts>`.\n\n### Getting the Data\n\nWe'll start by downloading the training data and model we'll be using for this example. In our example we already\nsaved the training data for this use case in a csv file on figshare.\n\n"
      ]
    },
    {
      "cell_type": "code",
      "execution_count": null,
      "metadata": {
        "collapsed": false
      },
      "outputs": [],
      "source": [
        "import pandas as pd\ntrain_df = pd.read_csv('https://figshare.com/ndownloader/files/39316160')\ntrain_df.head(2)"
      ]
    },
    {
      "cell_type": "markdown",
      "metadata": {},
      "source": [
        "So what do we have? Let's note the special columns in our data:\n\n1. issue_d - The timestamp of the sample\n2. id - the id of the loan application\n3. loan_status - Our label, which is the final status of the loan. 0 means \"payed in full\", and 1 are defaults.\n\nAll the other columns are features that can be used by our model to predict whether the user will default or not.\n\n"
      ]
    },
    {
      "cell_type": "markdown",
      "metadata": {},
      "source": [
        "### Data Schema\n\nA Schema file contains the description of the data (features and additional data) associated with a model version.\nTo learn more about creating a schema, please refer to the\n:doc:`Tabular Setup guide </user-guide/tabular/tabular_setup>`.\n\n**It is highly recommended to review the created schema file before moving forward to creating the model version.**\n\nIn order to create a schema file, the easiest way is to first define a deepchecks\n:doc:`Dataset <deepchecks:user-guide/tabular/dataset_object>` object, which contains the actual data (DataFrame)\ntogether with metadata about the role of each column.\n\n"
      ]
    },
    {
      "cell_type": "code",
      "execution_count": null,
      "metadata": {
        "collapsed": false
      },
      "outputs": [],
      "source": [
        "from deepchecks.tabular import Dataset\nfeatures = ['sub_grade', 'term', 'home_ownership', 'fico_range_low',\n            'total_acc', 'pub_rec', 'revol_util', 'annual_inc', 'int_rate', 'dti',\n            'purpose', 'mort_acc', 'loan_amnt', 'application_type', 'installment',\n            'verification_status', 'pub_rec_bankruptcies', 'addr_state',\n            'initial_list_status', 'fico_range_high', 'revol_bal', 'open_acc',\n            'emp_length', 'time_to_earliest_cr_line']\ncat_features = ['sub_grade', 'home_ownership', 'term', 'purpose', 'application_type', 'verification_status', 'addr_state',\n                'initial_list_status']\n\ndataset_kwargs = {\n    'features': features,\n    'cat_features': cat_features,\n    'index_name': 'id',\n    'label': 'loan_status',\n    'datetime_name': 'issue_d'\n}\ntrain_dataset = Dataset(train_df, **dataset_kwargs)"
      ]
    },
    {
      "cell_type": "markdown",
      "metadata": {},
      "source": [
        "We'll create the schema file, and print it to show (and validate) the schema that was created.\n\n"
      ]
    },
    {
      "cell_type": "code",
      "execution_count": null,
      "metadata": {
        "collapsed": false
      },
      "outputs": [],
      "source": [
        "from deepchecks_client import create_schema, read_schema\n\nschema_file_path = 'schema_file.yaml'\ncreate_schema(dataset=train_dataset, schema_output_file=schema_file_path)\nread_schema(schema_file_path)"
      ]
    },
    {
      "cell_type": "markdown",
      "metadata": {},
      "source": [
        "<div class=\"alert alert-info\"><h4>Note</h4><p>For conveniently changing the auto-inferred schema it's recommended to edit the textual file with an app of your\n  choice.\n\n  After editing, you can use the :meth:`read_schema <deepchecks_client.tabular.utils.read_schema>`\n  function to verify the validity of the syntax in your updated schema.</p></div>\n\n"
      ]
    },
    {
      "cell_type": "markdown",
      "metadata": {},
      "source": [
        "### Feature Importance\n\nIn order to provide the best analysis and alerts, we should let Deepchecks know about the relative importance of the\nfeatures to the model's prediction. In this example we'll load our model and get its feature importance, but these can\nbe easily :doc:`calculated using deepchecks <deepchecks:user-guide/tabular/feature_importance>`, or other methods\n(such as SHAP). Note that the feature importance values should be normalized to sum to 1.\n\n"
      ]
    },
    {
      "cell_type": "code",
      "execution_count": null,
      "metadata": {
        "collapsed": false
      },
      "outputs": [],
      "source": [
        "import joblib\nfrom urllib.request import urlopen\nwith urlopen('https://figshare.com/ndownloader/files/39316172') as f:\n    model = joblib.load(f)\n\nfeature_importance = pd.Series(model.feature_importances_ / sum(model.feature_importances_), index=model.feature_names_)"
      ]
    },
    {
      "cell_type": "markdown",
      "metadata": {},
      "source": [
        "### Creating a Model Version\n\nWe'll use the :meth:`create_tabular_model_version\n<deepchecks_client.DeepchecksClient.create_tabular_model_version>` method. Calling it, we can create both our\nmodel, our model version and define the reference data with one call. We'll also let Deepchecks know this is a\nbinary classification task, so we will set the ``task_type`` argument. We'll also set the default monitoring\nfrequency to be a month, to match our data which is collected on a monthly basis. Lastly, in order to fully define\nthe reference, we must also pass model predictions for the reference data. For classification tasks, it's highly\nrecommended to also pass predicted probabilities, in order to be able to calculate metrics such as ROC AUC that are\ncalculated on these probabilities.\n\n"
      ]
    },
    {
      "cell_type": "code",
      "execution_count": null,
      "metadata": {
        "collapsed": false
      },
      "outputs": [],
      "source": [
        "ref_predictions = model.predict(train_df[features])\nref_predictions_proba = model.predict_proba(train_df[features])\n\nmodel_name = 'Loan Defaults - Example'"
      ]
    },
    {
      "cell_type": "markdown",
      "metadata": {},
      "source": [
        "It is also recommended to explicitly tell deepchecks about the classes in your task using the\n``model_classes`` argument. These names must match the labels you are sending (and the ones the model is predicting),\nand must be sorted alphanumerically.\n\n"
      ]
    },
    {
      "cell_type": "code",
      "execution_count": null,
      "metadata": {
        "collapsed": false
      },
      "outputs": [],
      "source": [
        "model_version = dc_client.create_tabular_model_version(model_name=model_name, version_name='ver_1',\n                                                       schema=schema_file_path,\n                                                       feature_importance=feature_importance,\n                                                       reference_dataset=train_dataset,\n                                                       reference_predictions=ref_predictions,\n                                                       reference_probas=ref_predictions_proba,\n                                                       task_type='binary',\n                                                       model_classes=[0, 1],\n                                                       monitoring_frequency='month')"
      ]
    },
    {
      "cell_type": "markdown",
      "metadata": {},
      "source": [
        "Now we know our model, model version and reference data where set, and we're ready to start uploading production data.\n\n"
      ]
    },
    {
      "cell_type": "markdown",
      "metadata": {},
      "source": [
        "## Uploading Production Data\n\nOnce in production, uploading data can be done either sample by sample, or by batch. To read more, please refer to\nthe :doc:`Production Data Guide </user-guide/tabular/tabular-production>`. Here we'll show how to use the batch upload\nmethod. In our example we already saved the production data for all time stamps in a csv file on figshare.\n\n"
      ]
    },
    {
      "cell_type": "code",
      "execution_count": null,
      "metadata": {
        "collapsed": false
      },
      "outputs": [],
      "source": [
        "prod_data = pd.read_csv('https://figshare.com/ndownloader/files/39316157', parse_dates=['issue_d'])"
      ]
    },
    {
      "cell_type": "markdown",
      "metadata": {},
      "source": [
        "We'll change the original timestamps so the samples are recent\n\n"
      ]
    },
    {
      "cell_type": "code",
      "execution_count": null,
      "metadata": {
        "collapsed": false
      },
      "outputs": [],
      "source": [
        "import datetime\ntime_delta = pd.Timedelta(pd.to_datetime(datetime.datetime.now()) - prod_data['issue_d'].max()) - pd.Timedelta(2, unit='d')\nprod_data['issue_d'] = prod_data['issue_d'] + time_delta\nprod_data['issue_d'].unique()"
      ]
    },
    {
      "cell_type": "markdown",
      "metadata": {},
      "source": [
        "### Uploading a Batch of Data\n\n\n"
      ]
    },
    {
      "cell_type": "code",
      "execution_count": null,
      "metadata": {
        "collapsed": false
      },
      "outputs": [],
      "source": [
        "prod_predictions = model.predict(prod_data[train_dataset.features].fillna('NONE'))\nprod_prediction_probas = model.predict_proba(prod_data[train_dataset.features].fillna('NONE'))"
      ]
    },
    {
      "cell_type": "markdown",
      "metadata": {},
      "source": [
        "We'll also convert out pandas datetime column to int timestamps (seconds since epoch), which is the time format\nexpected by deepchecks.\n\n"
      ]
    },
    {
      "cell_type": "code",
      "execution_count": null,
      "metadata": {
        "collapsed": false
      },
      "outputs": [],
      "source": [
        "model_version.log_batch(sample_ids=prod_data['id'],\n                        data=prod_data.drop(['issue_d', 'id', 'loan_status'], axis=1),\n                        timestamps=(prod_data['issue_d'].astype(int) // 1e9).astype(int),\n                        predictions=prod_predictions,\n                        prediction_probas=prod_prediction_probas)"
      ]
    },
    {
      "cell_type": "markdown",
      "metadata": {},
      "source": [
        "### Uploading The Labels\nThe labels are global to the model, and not specific to a version. Therefore, to upload them we need the model client.\nYou can do this directly after uploading the predictions, or at any other time.\n\n"
      ]
    },
    {
      "cell_type": "code",
      "execution_count": null,
      "metadata": {
        "collapsed": false
      },
      "outputs": [],
      "source": [
        "model_client = dc_client.get_or_create_model(model_name)\nmodel_client.log_batch_labels(sample_ids=prod_data['id'], labels=prod_data['loan_status'])"
      ]
    },
    {
      "cell_type": "markdown",
      "metadata": {},
      "source": [
        "### Making Sure Your Data Has Arrived\n\nIf you're not sure if your data has arrived, please refer to the relevant section in the\n`Production Data guide <tabular_production__validating_your_data_has_arrived>`.\n\n## Analyzing Using Deepchecks\n\nNow that you have our data in Deepchecks, you can start analyzing it. Has the model been performing well? The\neconomy has been entering a mild recession recently and you managers have raised concerns that this may have\naffected your model's ability to correctly predict loan defaults. You set to investigate.\n\n### Dashboard & Alerts - Finding Drift\n\nWhen you log in to Deepchecks, you'll be greeted by the Dashboard, in which you can view all the monitors defined for\nyour models. Selecting our ``Loan Default - Example`` model, we see the default monitors and their corresponding\ndefault alert rules. We can also see that the Aggregate Feature Drift monitor has exceeded the default alert rule\nthreshold, and has triggered an alert. We can click on the alert to see more details.\n\n<img src=\"file://_static/images/examples/lending/dashboard.gif\" alt=\"Dashboard\" align=\"center\">\n\nOnce in the alert screen, you can see the list of all current alerts on your model. Clicking on that alert will\nopen an alert analysis screen. This screen has three main components - the monitor history graph, the segment explorer\nand the check details.\n\n1. The monitor history graph shows the monitor's value over time and the point at which the alert was triggered.\n2. The segment explorer allows you to see what was the value of the check at the time of the alert, in different\n   segments of the data.\n3. The check details section shows the details of the check that triggered the alert.\n\nIn this case, you can see in the check details section that there is significant drift in the ``int_rate`` feature,\nwhose average has increased dramatically. This is the case for the \"All Data\" segment, but does this issue originate\nfrom a specific segment? Let's find out.\n\n<img src=\"file://_static/images/examples/lending/alert.gif\" alt=\"Alert\" align=\"center\">\n\nSegmenting on the ``term`` feature, we can easily see that the drift is coming mostly from long term loans. This is\nnot surprising, as the economy has been entering a mild recession recently, and long term loans are more sensitive to\nincreases in interest rates.\n\n### Analysis - Detecting Integrity Issues\n\nOnce you got this major drift issue under control, you may be interested in looking for other issues in your data.\nFor freely exploring the status, you can head to the Analysis screen. There you can run any of the checks\nyou defined for your model over different time periods and segments and easily change the parameters of the checks.\n\nScrolling down the list of checks, you'll find that the ``Percent of Nulls`` check had some non-zero values in the\npast few months.\n\n<img src=\"file://_static/images/examples/lending/analysis.gif\" alt=\"Analysis\" align=\"center\">\n\nClicking the check at one of the times it had been non-zero, we can see that we have some nulls in the\n``home_ownership`` feature. Furthermore, using the \"Check Per Segment\" part of the screen we can see the value of the\ncheck when the data is segmented by various features. In this case, we can see that the nulls are happening\nexclusively in loans made in California. Time to talk to the Data Engineering team! Seems like there has been some\nissue with the data pipeline coming from the state of California.\n\n## Updating Labels\n\nIn many use-cases, such as with Loan status, the labels may arrive way after the model prediction was made. In\nthese cases it is possible to update the labels of samples that where previously unlabeled. Let's say for example\nthat we have just learned of a few loans that where paid in full, then we can update their labels using the\nfollowing function:\n\n\n"
      ]
    },
    {
      "cell_type": "code",
      "execution_count": null,
      "metadata": {
        "collapsed": false
      },
      "outputs": [],
      "source": [
        "labels_to_update = [87609, 87640, 87751, 93415, 87574, 87446, 87703, 87627, 93162,\n                    87405, 87549, 87681, 93893, 87392, 87390, 87536, 93116, 87540,\n                    87669, 87608, 87743, 87650, 87587, 87545, 87657, 87702, 87398,\n                    87673, 87408, 87685, 92032, 88162, 87515, 87723, 87537, 87710,\n                    87761, 87445, 87554, 87463, 87521, 87659, 87569]\nmodel_client.log_batch_labels(sample_ids=labels_to_update, labels=[0] * len(labels_to_update))"
      ]
    },
    {
      "cell_type": "markdown",
      "metadata": {},
      "source": [
        "## Cleaning up\n\nIf you wish to delete this model from your environment, you can do that using the ``delete_model`` function.\nCAUTION: This will delete the model, all model versions, and all associated datasets.\n\n"
      ]
    },
    {
      "cell_type": "code",
      "execution_count": null,
      "metadata": {
        "collapsed": false
      },
      "outputs": [],
      "source": [
        "dc_client.delete_model(model_name)"
      ]
    }
  ],
  "metadata": {
    "kernelspec": {
      "display_name": "Python 3",
      "language": "python",
      "name": "python3"
    },
    "language_info": {
      "codemirror_mode": {
        "name": "ipython",
        "version": 3
      },
      "file_extension": ".py",
      "mimetype": "text/x-python",
      "name": "python",
      "nbconvert_exporter": "python",
      "pygments_lexer": "ipython3",
      "version": "3.9.16"
    }
  },
  "nbformat": 4,
  "nbformat_minor": 0
}